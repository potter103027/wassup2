{
 "cells": [
  {
   "cell_type": "markdown",
   "id": "ee981eed",
   "metadata": {},
   "source": [
    "# 201 ~ 210"
   ]
  },
  {
   "cell_type": "markdown",
   "id": "a54e9e13",
   "metadata": {},
   "source": [
    "### 201"
   ]
  },
  {
   "cell_type": "code",
   "execution_count": 2,
   "id": "8602994b",
   "metadata": {},
   "outputs": [
    {
     "name": "stdout",
     "output_type": "stream",
     "text": [
      "비트코인\n"
     ]
    }
   ],
   "source": [
    "# \"비트코인\" 문자열을 화면에 출력하는 print_coin() 함수를 정의하라.\n",
    "\n",
    "def print_coin():\n",
    "    print ('비트코인')\n",
    "\n",
    "print_coin()"
   ]
  },
  {
   "cell_type": "markdown",
   "id": "ad345e72",
   "metadata": {},
   "source": [
    "### 202"
   ]
  },
  {
   "cell_type": "code",
   "execution_count": 3,
   "id": "9ce2543c",
   "metadata": {},
   "outputs": [
    {
     "name": "stdout",
     "output_type": "stream",
     "text": [
      "비트코인\n"
     ]
    }
   ],
   "source": [
    "# 201번에서 정의한 함수를 호출하라.\n",
    "\n",
    "print_coin()"
   ]
  },
  {
   "cell_type": "markdown",
   "id": "8a480963",
   "metadata": {},
   "source": [
    "### 203"
   ]
  },
  {
   "cell_type": "code",
   "execution_count": 8,
   "id": "79ba400d",
   "metadata": {},
   "outputs": [
    {
     "name": "stdout",
     "output_type": "stream",
     "text": [
      "비트코인\n",
      "비트코인\n",
      "비트코인\n",
      "비트코인\n",
      "비트코인\n",
      "비트코인\n",
      "비트코인\n",
      "비트코인\n",
      "비트코인\n",
      "비트코인\n",
      "비트코인\n",
      "비트코인\n",
      "비트코인\n",
      "비트코인\n",
      "비트코인\n",
      "비트코인\n",
      "비트코인\n",
      "비트코인\n",
      "비트코인\n",
      "비트코인\n",
      "비트코인\n",
      "비트코인\n",
      "비트코인\n",
      "비트코인\n",
      "비트코인\n",
      "비트코인\n",
      "비트코인\n",
      "비트코인\n",
      "비트코인\n",
      "비트코인\n",
      "비트코인\n",
      "비트코인\n",
      "비트코인\n",
      "비트코인\n",
      "비트코인\n",
      "비트코인\n",
      "비트코인\n",
      "비트코인\n",
      "비트코인\n",
      "비트코인\n",
      "비트코인\n",
      "비트코인\n",
      "비트코인\n",
      "비트코인\n",
      "비트코인\n",
      "비트코인\n",
      "비트코인\n",
      "비트코인\n",
      "비트코인\n",
      "비트코인\n",
      "비트코인\n",
      "비트코인\n",
      "비트코인\n",
      "비트코인\n",
      "비트코인\n",
      "비트코인\n",
      "비트코인\n",
      "비트코인\n",
      "비트코인\n",
      "비트코인\n",
      "비트코인\n",
      "비트코인\n",
      "비트코인\n",
      "비트코인\n",
      "비트코인\n",
      "비트코인\n",
      "비트코인\n",
      "비트코인\n",
      "비트코인\n",
      "비트코인\n",
      "비트코인\n",
      "비트코인\n",
      "비트코인\n",
      "비트코인\n",
      "비트코인\n",
      "비트코인\n",
      "비트코인\n",
      "비트코인\n",
      "비트코인\n",
      "비트코인\n",
      "비트코인\n",
      "비트코인\n",
      "비트코인\n",
      "비트코인\n",
      "비트코인\n",
      "비트코인\n",
      "비트코인\n",
      "비트코인\n",
      "비트코인\n",
      "비트코인\n",
      "비트코인\n",
      "비트코인\n",
      "비트코인\n",
      "비트코인\n",
      "비트코인\n",
      "비트코인\n",
      "비트코인\n",
      "비트코인\n",
      "비트코인\n",
      "비트코인\n"
     ]
    }
   ],
   "source": [
    "# 201번에서 정의한 print_coin 함수를 100번호출하라.\n",
    "\n",
    "for i in range(100):\n",
    "    print_coin()"
   ]
  },
  {
   "cell_type": "markdown",
   "id": "f6332127",
   "metadata": {},
   "source": [
    "### 204"
   ]
  },
  {
   "cell_type": "code",
   "execution_count": 13,
   "id": "6c6fdac5",
   "metadata": {},
   "outputs": [
    {
     "name": "stdout",
     "output_type": "stream",
     "text": [
      "비트코인\n",
      "비트코인\n",
      "비트코인\n",
      "비트코인\n",
      "비트코인\n",
      "비트코인\n",
      "비트코인\n",
      "비트코인\n",
      "비트코인\n",
      "비트코인\n",
      "비트코인\n",
      "비트코인\n",
      "비트코인\n",
      "비트코인\n",
      "비트코인\n",
      "비트코인\n",
      "비트코인\n",
      "비트코인\n",
      "비트코인\n",
      "비트코인\n",
      "비트코인\n",
      "비트코인\n",
      "비트코인\n",
      "비트코인\n",
      "비트코인\n",
      "비트코인\n",
      "비트코인\n",
      "비트코인\n",
      "비트코인\n",
      "비트코인\n",
      "비트코인\n",
      "비트코인\n",
      "비트코인\n",
      "비트코인\n",
      "비트코인\n",
      "비트코인\n",
      "비트코인\n",
      "비트코인\n",
      "비트코인\n",
      "비트코인\n",
      "비트코인\n",
      "비트코인\n",
      "비트코인\n",
      "비트코인\n",
      "비트코인\n",
      "비트코인\n",
      "비트코인\n",
      "비트코인\n",
      "비트코인\n",
      "비트코인\n",
      "비트코인\n",
      "비트코인\n",
      "비트코인\n",
      "비트코인\n",
      "비트코인\n",
      "비트코인\n",
      "비트코인\n",
      "비트코인\n",
      "비트코인\n",
      "비트코인\n",
      "비트코인\n",
      "비트코인\n",
      "비트코인\n",
      "비트코인\n",
      "비트코인\n",
      "비트코인\n",
      "비트코인\n",
      "비트코인\n",
      "비트코인\n",
      "비트코인\n",
      "비트코인\n",
      "비트코인\n",
      "비트코인\n",
      "비트코인\n",
      "비트코인\n",
      "비트코인\n",
      "비트코인\n",
      "비트코인\n",
      "비트코인\n",
      "비트코인\n",
      "비트코인\n",
      "비트코인\n",
      "비트코인\n",
      "비트코인\n",
      "비트코인\n",
      "비트코인\n",
      "비트코인\n",
      "비트코인\n",
      "비트코인\n",
      "비트코인\n",
      "비트코인\n",
      "비트코인\n",
      "비트코인\n",
      "비트코인\n",
      "비트코인\n",
      "비트코인\n",
      "비트코인\n",
      "비트코인\n",
      "비트코인\n",
      "비트코인\n"
     ]
    }
   ],
   "source": [
    "# \"비트코인\" 문자열을 100번 화면에 출력하는 print_coins() 함수를 정의하라.\n",
    "\n",
    "\n",
    "def print_coins():\n",
    "    for i in range(100):\n",
    "        print_coin()\n",
    "        \n",
    "print_coins()"
   ]
  },
  {
   "cell_type": "markdown",
   "id": "dac911df",
   "metadata": {},
   "source": [
    "### 205"
   ]
  },
  {
   "cell_type": "code",
   "execution_count": 14,
   "id": "2ce4797f",
   "metadata": {},
   "outputs": [
    {
     "ename": "NameError",
     "evalue": "name 'hello' is not defined",
     "output_type": "error",
     "traceback": [
      "\u001b[1;31m---------------------------------------------------------------------------\u001b[0m",
      "\u001b[1;31mNameError\u001b[0m                                 Traceback (most recent call last)",
      "Cell \u001b[1;32mIn[14], line 3\u001b[0m\n\u001b[0;32m      1\u001b[0m \u001b[38;5;66;03m# 아래의 에러가 발생하는 이유에 대해 설명하라.\u001b[39;00m\n\u001b[1;32m----> 3\u001b[0m hello()\n\u001b[0;32m      4\u001b[0m \u001b[38;5;28;01mdef\u001b[39;00m \u001b[38;5;21mhello\u001b[39m():\n\u001b[0;32m      5\u001b[0m     \u001b[38;5;28mprint\u001b[39m(\u001b[38;5;124m\"\u001b[39m\u001b[38;5;124mHi\u001b[39m\u001b[38;5;124m\"\u001b[39m)\n",
      "\u001b[1;31mNameError\u001b[0m: name 'hello' is not defined"
     ]
    }
   ],
   "source": [
    "# 아래의 에러가 발생하는 이유에 대해 설명하라.\n",
    "\n",
    "hello()\n",
    "def hello():\n",
    "    print(\"Hi\")\n",
    "\n",
    "# 함수를 만들기 전 동일한 문자로 호출하여서"
   ]
  },
  {
   "cell_type": "markdown",
   "id": "644d2261",
   "metadata": {},
   "source": [
    "### 206"
   ]
  },
  {
   "cell_type": "code",
   "execution_count": 15,
   "id": "45886334",
   "metadata": {},
   "outputs": [
    {
     "name": "stdout",
     "output_type": "stream",
     "text": [
      "A\n",
      "B\n",
      "C\n",
      "A\n",
      "B\n"
     ]
    }
   ],
   "source": [
    "#다음 함수 결과 예측하라\n",
    "\n",
    "def message() :\n",
    "    print(\"A\")\n",
    "    print(\"B\")\n",
    "\n",
    "message()\n",
    "print(\"C\")\n",
    "message()"
   ]
  },
  {
   "cell_type": "markdown",
   "id": "ba404962",
   "metadata": {},
   "source": [
    "### 207"
   ]
  },
  {
   "cell_type": "code",
   "execution_count": 16,
   "id": "80523174",
   "metadata": {},
   "outputs": [
    {
     "name": "stdout",
     "output_type": "stream",
     "text": [
      "A\n",
      "C\n",
      "B\n"
     ]
    }
   ],
   "source": [
    "# 아래 코드의 실행 결과를 예측하라. (읽기 어려운 코드의 예입니다.)\n",
    "\n",
    "print(\"A\")\n",
    "\n",
    "def message() :\n",
    "    print(\"B\")\n",
    "\n",
    "print(\"C\")\n",
    "message()"
   ]
  },
  {
   "cell_type": "markdown",
   "id": "2cd05546",
   "metadata": {},
   "source": [
    "### 208"
   ]
  },
  {
   "cell_type": "code",
   "execution_count": 17,
   "id": "73285096",
   "metadata": {},
   "outputs": [
    {
     "name": "stdout",
     "output_type": "stream",
     "text": [
      "A\n",
      "C\n",
      "B\n",
      "E\n",
      "D\n"
     ]
    }
   ],
   "source": [
    "# 아래 코드의 실행 결과를 예측하라. (읽기 어려운 코드의 예입니다.)\n",
    "\n",
    "print(\"A\")\n",
    "def message1() :\n",
    "    print(\"B\")\n",
    "print(\"C\")\n",
    "def message2() :\n",
    "    print(\"D\")\n",
    "message1()\n",
    "print(\"E\")\n",
    "message2()"
   ]
  },
  {
   "cell_type": "markdown",
   "id": "7e8820fb",
   "metadata": {},
   "source": [
    "### 209"
   ]
  },
  {
   "cell_type": "code",
   "execution_count": 18,
   "id": "ce045527",
   "metadata": {
    "scrolled": true
   },
   "outputs": [
    {
     "name": "stdout",
     "output_type": "stream",
     "text": [
      "B\n",
      "A\n"
     ]
    }
   ],
   "source": [
    "# 아래 코드의 실행 결과를 예측하라.\n",
    "\n",
    "def message1():\n",
    "    print(\"A\")\n",
    "\n",
    "def message2():\n",
    "    print(\"B\")\n",
    "    message1()\n",
    "\n",
    "message2()"
   ]
  },
  {
   "cell_type": "markdown",
   "id": "1c8a1745",
   "metadata": {},
   "source": [
    "### 210"
   ]
  },
  {
   "cell_type": "code",
   "execution_count": 19,
   "id": "16f42130",
   "metadata": {},
   "outputs": [
    {
     "name": "stdout",
     "output_type": "stream",
     "text": [
      "B\n",
      "C\n",
      "B\n",
      "C\n",
      "B\n",
      "C\n",
      "A\n"
     ]
    }
   ],
   "source": [
    "# 아래 코드의 실행 결과를 예측하라.\n",
    "\n",
    "def message1():\n",
    "    print(\"A\")\n",
    "\n",
    "def message2():\n",
    "    print(\"B\")\n",
    "\n",
    "def message3():\n",
    "    for i in range (3) :\n",
    "        message2()\n",
    "        print(\"C\")\n",
    "    message1()\n",
    "\n",
    "message3()\n"
   ]
  },
  {
   "cell_type": "markdown",
   "id": "a1a4c156",
   "metadata": {},
   "source": [
    "# 211 ~ 220"
   ]
  },
  {
   "cell_type": "markdown",
   "id": "e7a296fe",
   "metadata": {},
   "source": [
    "### 211 "
   ]
  },
  {
   "cell_type": "code",
   "execution_count": 20,
   "id": "c31a810d",
   "metadata": {},
   "outputs": [
    {
     "name": "stdout",
     "output_type": "stream",
     "text": [
      "안녕\n",
      "Hi\n"
     ]
    }
   ],
   "source": [
    "# 함수의 호출 결과를 예측하라.\n",
    "\n",
    "def 함수(문자열) :\n",
    "    print(문자열)\n",
    "\n",
    "함수(\"안녕\")\n",
    "함수(\"Hi\")"
   ]
  },
  {
   "cell_type": "markdown",
   "id": "3301b906",
   "metadata": {},
   "source": [
    "### 212"
   ]
  },
  {
   "cell_type": "code",
   "execution_count": 21,
   "id": "7811f2d8",
   "metadata": {},
   "outputs": [
    {
     "name": "stdout",
     "output_type": "stream",
     "text": [
      "7\n",
      "15\n"
     ]
    }
   ],
   "source": [
    "# 함수의 호출 결과를 예측하라.\n",
    "\n",
    "def 함수(a, b) :\n",
    "    print(a + b)\n",
    "\n",
    "함수(3, 4)\n",
    "함수(7, 8)"
   ]
  },
  {
   "cell_type": "markdown",
   "id": "0f6db8b2",
   "metadata": {},
   "source": [
    "### 213"
   ]
  },
  {
   "cell_type": "code",
   "execution_count": 22,
   "id": "413131cf",
   "metadata": {},
   "outputs": [],
   "source": [
    "# 아래와 같은 에러가 발생하는 원인을 설명하라.\n",
    "\n",
    "def 함수(문자열) :\n",
    "    print(문자열)"
   ]
  },
  {
   "cell_type": "code",
   "execution_count": 23,
   "id": "c5e4fc7c",
   "metadata": {},
   "outputs": [
    {
     "ename": "TypeError",
     "evalue": "함수() missing 1 required positional argument: '문자열'",
     "output_type": "error",
     "traceback": [
      "\u001b[1;31m---------------------------------------------------------------------------\u001b[0m",
      "\u001b[1;31mTypeError\u001b[0m                                 Traceback (most recent call last)",
      "Cell \u001b[1;32mIn[23], line 1\u001b[0m\n\u001b[1;32m----> 1\u001b[0m 함수()\n",
      "\u001b[1;31mTypeError\u001b[0m: 함수() missing 1 required positional argument: '문자열'"
     ]
    }
   ],
   "source": [
    "함수() #문자열을 넣지 않아서"
   ]
  },
  {
   "cell_type": "markdown",
   "id": "e81e3d6d",
   "metadata": {},
   "source": [
    "### 214"
   ]
  },
  {
   "cell_type": "code",
   "execution_count": 25,
   "id": "8fcc44e3",
   "metadata": {},
   "outputs": [
    {
     "ename": "TypeError",
     "evalue": "can only concatenate str (not \"int\") to str",
     "output_type": "error",
     "traceback": [
      "\u001b[1;31m---------------------------------------------------------------------------\u001b[0m",
      "\u001b[1;31mTypeError\u001b[0m                                 Traceback (most recent call last)",
      "Cell \u001b[1;32mIn[25], line 6\u001b[0m\n\u001b[0;32m      3\u001b[0m \u001b[38;5;28;01mdef\u001b[39;00m \u001b[38;5;21m함수\u001b[39m(a, b) :\n\u001b[0;32m      4\u001b[0m     \u001b[38;5;28mprint\u001b[39m(a \u001b[38;5;241m+\u001b[39m b)\n\u001b[1;32m----> 6\u001b[0m 함수(\u001b[38;5;124m\"\u001b[39m\u001b[38;5;124m안녕\u001b[39m\u001b[38;5;124m\"\u001b[39m, \u001b[38;5;241m3\u001b[39m)\n",
      "Cell \u001b[1;32mIn[25], line 4\u001b[0m, in \u001b[0;36m함수\u001b[1;34m(a, b)\u001b[0m\n\u001b[0;32m      3\u001b[0m \u001b[38;5;28;01mdef\u001b[39;00m \u001b[38;5;21m함수\u001b[39m(a, b) :\n\u001b[1;32m----> 4\u001b[0m     \u001b[38;5;28mprint\u001b[39m(a \u001b[38;5;241m+\u001b[39m b)\n",
      "\u001b[1;31mTypeError\u001b[0m: can only concatenate str (not \"int\") to str"
     ]
    }
   ],
   "source": [
    "# 아래와 같은 에러가 발생하는 원인을 설명하라.\n",
    "\n",
    "def 함수(a, b) :\n",
    "    print(a + b)\n",
    "\n",
    "함수(\"안녕\", 3)   # 문자열 덧셈 불가"
   ]
  },
  {
   "cell_type": "markdown",
   "id": "f904c312",
   "metadata": {},
   "source": [
    "### 215 "
   ]
  },
  {
   "cell_type": "code",
   "execution_count": 36,
   "id": "ae77011a",
   "metadata": {
    "scrolled": true
   },
   "outputs": [
    {
     "name": "stdout",
     "output_type": "stream",
     "text": [
      "a:D\n"
     ]
    }
   ],
   "source": [
    "# 하나의 문자를 입력받아 문자열 끝에 \":D\" 스마일 문자열을 이어 붙여 출력하는 print_with_smile 함수를 정의하라.\n",
    "\n",
    "def print_with_smile (string):\n",
    "    print(string+\":D\")\n",
    "    \n",
    "print_with_smile(\"a\")"
   ]
  },
  {
   "cell_type": "markdown",
   "id": "d7e51c08",
   "metadata": {},
   "source": [
    "### 216"
   ]
  },
  {
   "cell_type": "code",
   "execution_count": 37,
   "id": "d874f9ef",
   "metadata": {},
   "outputs": [
    {
     "name": "stdout",
     "output_type": "stream",
     "text": [
      "안녕하세요:D\n"
     ]
    }
   ],
   "source": [
    "# 215에서 정의한 함수를 호출하라. 파라미터는 \"안녕하세요\"로 입력하라.\n",
    "\n",
    "\n",
    "print_with_smile(\"안녕하세요\")"
   ]
  },
  {
   "cell_type": "markdown",
   "id": "bf4f7571",
   "metadata": {},
   "source": [
    "### 217"
   ]
  },
  {
   "cell_type": "code",
   "execution_count": 49,
   "id": "d570e308",
   "metadata": {},
   "outputs": [
    {
     "name": "stdout",
     "output_type": "stream",
     "text": [
      "현재가격을 입력하세요: 3000\n",
      "상한가 가격:  3900.0\n"
     ]
    }
   ],
   "source": [
    "# 현재 가격을 입력 받아 상한가 (30%)를 출력하는 print_upper_price 함수를 정의하라.\n",
    "\n",
    "def print_upper_price():\n",
    "    price = input(\"현재가격을 입력하세요: \")\n",
    "    print(\"상한가 가격: \", int(price)*1.3)\n",
    "    \n",
    "print_upper_price()"
   ]
  },
  {
   "cell_type": "markdown",
   "id": "7072b176",
   "metadata": {},
   "source": [
    "### 218"
   ]
  },
  {
   "cell_type": "code",
   "execution_count": 53,
   "id": "bf294fe9",
   "metadata": {},
   "outputs": [
    {
     "name": "stdout",
     "output_type": "stream",
     "text": [
      "첫 번째 숫자를 입력하세요: 3\n",
      "두 번째 숫자를 입력하세요: 4\n",
      "7\n"
     ]
    }
   ],
   "source": [
    "# 두 개의 숫자를 입력받아 두 수의 합을 출력하는 print_sum 함수를 정의하라.\n",
    "\n",
    "def print_sum():\n",
    "    a = input(\"첫 번째 숫자를 입력하세요: \")\n",
    "    b = input(\"두 번째 숫자를 입력하세요: \")\n",
    "    print(int(a)+int(b))\n",
    "\n",
    "print_sum()"
   ]
  },
  {
   "cell_type": "code",
   "execution_count": 56,
   "id": "0d526da7",
   "metadata": {},
   "outputs": [
    {
     "name": "stdout",
     "output_type": "stream",
     "text": [
      "7\n"
     ]
    }
   ],
   "source": [
    "def print_sum(a,b):\n",
    "    print(a+b)\n",
    "\n",
    "print_sum(3,4)"
   ]
  },
  {
   "cell_type": "markdown",
   "id": "10bd03de",
   "metadata": {},
   "source": [
    "### 219"
   ]
  },
  {
   "cell_type": "code",
   "execution_count": 55,
   "id": "499080a5",
   "metadata": {},
   "outputs": [
    {
     "name": "stdout",
     "output_type": "stream",
     "text": [
      "첫 번째 숫자를 입력하세요: 7\n",
      "두 번째 숫자를 입력하세요: 8\n",
      "7 + 8 = 15\n",
      "7 - 8 = -1\n",
      "7 * 8 = 56\n",
      "7 / 8 = 0.875\n"
     ]
    }
   ],
   "source": [
    "# 두 개의 숫자를 입력받아 합/차/곱/나눗셈을 출력하는 print_arithmetic_operation 함수를 작성하라.\n",
    "\n",
    "def print_arithmetic_operation():\n",
    "    a = input(\"첫 번째 숫자를 입력하세요: \")\n",
    "    b = input(\"두 번째 숫자를 입력하세요: \")\n",
    "    print(a,\"+\",b,\"=\",int(a)+int(b))\n",
    "    print(a,\"-\",b,\"=\",int(a)-int(b))\n",
    "    print(a,\"*\",b,\"=\",int(a)*int(b))\n",
    "    print(a,\"/\",b,\"=\",int(a)/int(b))\n",
    "\n",
    "print_arithmetic_operation()"
   ]
  },
  {
   "cell_type": "code",
   "execution_count": 58,
   "id": "a1295bd5",
   "metadata": {},
   "outputs": [
    {
     "name": "stdout",
     "output_type": "stream",
     "text": [
      "3 + 4 = 7\n",
      "3 - 4 = -1\n",
      "3 * 4 = 12\n",
      "3 / 4 = 0.75\n"
     ]
    }
   ],
   "source": [
    "def print_sum(a,b):\n",
    "    print(a,\"+\",b,\"=\",a+b)\n",
    "    print(a,\"-\",b,\"=\",a-b)\n",
    "    print(a,\"*\",b,\"=\",a*b)\n",
    "    print(a,\"/\",b,\"=\",a/b)\n",
    "\n",
    "print_sum(3,4)"
   ]
  },
  {
   "cell_type": "markdown",
   "id": "86275a0c",
   "metadata": {},
   "source": [
    "### 220"
   ]
  },
  {
   "cell_type": "code",
   "execution_count": 63,
   "id": "19c708b5",
   "metadata": {},
   "outputs": [
    {
     "name": "stdout",
     "output_type": "stream",
     "text": [
      "5\n"
     ]
    }
   ],
   "source": [
    "# 세 개의 숫자를 입력받아 가장 큰수를 출력하는 print_max 함수를 정의하라. 단 if 문을 사용해서 수를 비교하라.\n",
    "\n",
    "def print_max(a,b,c):\n",
    "    max=0\n",
    "    if a > max :\n",
    "        max=a\n",
    "    if b > max :\n",
    "        max=b\n",
    "    if c > max :\n",
    "        max=c\n",
    "    print(max)\n",
    "\n",
    "print_max(3,4,5)"
   ]
  },
  {
   "cell_type": "code",
   "execution_count": null,
   "id": "c0a73db3",
   "metadata": {},
   "outputs": [],
   "source": []
  },
  {
   "cell_type": "markdown",
   "id": "e7291192",
   "metadata": {},
   "source": [
    "## 221~230"
   ]
  },
  {
   "cell_type": "markdown",
   "id": "e2e29f13",
   "metadata": {},
   "source": [
    "### 221"
   ]
  },
  {
   "cell_type": "code",
   "execution_count": 71,
   "id": "6b613fc2",
   "metadata": {},
   "outputs": [
    {
     "name": "stdout",
     "output_type": "stream",
     "text": [
      "nohtyp\n"
     ]
    }
   ],
   "source": [
    "# 입력된 문자열을 역순으로 출력하는 print_reverse 함수를 정의하라.\n",
    "\n",
    "def print_reverse(a):\n",
    "    print(a[::-1])\n",
    "    \n",
    "print_reverse(\"python\")"
   ]
  },
  {
   "cell_type": "markdown",
   "id": "61694022",
   "metadata": {},
   "source": [
    "### 222"
   ]
  },
  {
   "cell_type": "code",
   "execution_count": 76,
   "id": "e5492192",
   "metadata": {},
   "outputs": [
    {
     "name": "stdout",
     "output_type": "stream",
     "text": [
      "2.0\n"
     ]
    }
   ],
   "source": [
    "# 성적 리스트를 입력 받아 평균을 출력하는 print_score 함수를 정의하라.\n",
    "\n",
    "def print_score(a):\n",
    "    print(sum(a) / len(a))\n",
    "\n",
    "print_score ([1, 2, 3])\n"
   ]
  },
  {
   "cell_type": "markdown",
   "id": "d6b6dbcf",
   "metadata": {},
   "source": [
    "### 223 "
   ]
  },
  {
   "cell_type": "code",
   "execution_count": 82,
   "id": "8fb9edbf",
   "metadata": {},
   "outputs": [
    {
     "name": "stdout",
     "output_type": "stream",
     "text": [
      "2\n",
      "10\n",
      "12\n"
     ]
    }
   ],
   "source": [
    "#하나의 리스트를 입력받아 짝수만 화면에 출력하는 print_even 함수를 정의하라.\n",
    "\n",
    "def print_even(a):\n",
    "    for b in a :\n",
    "        if b % 2 == 0:\n",
    "            print(b)\n",
    "\n",
    "print_even ([1, 3, 2, 10, 12, 11, 15])"
   ]
  },
  {
   "cell_type": "markdown",
   "id": "da8158fa",
   "metadata": {},
   "source": [
    "### 224 문자열 인덱싱"
   ]
  },
  {
   "cell_type": "code",
   "execution_count": 96,
   "id": "eab81289",
   "metadata": {},
   "outputs": [
    {
     "name": "stdout",
     "output_type": "stream",
     "text": [
      "이름\n",
      "나이\n",
      "성별\n"
     ]
    }
   ],
   "source": [
    "#하나의 딕셔너리를 입력받아 딕셔너리의 key 값을 화면에 출력하는 print_keys 함수를 정의하라.\n",
    "\n",
    "\n",
    "def print_keys(a):\n",
    "    for b in a.keys() :\n",
    "        print(b)\n",
    "\n",
    "print_keys ({\"이름\":\"김말똥\", \"나이\":30, \"성별\":0})\n"
   ]
  },
  {
   "cell_type": "markdown",
   "id": "f05aa58c",
   "metadata": {},
   "source": [
    "### 225"
   ]
  },
  {
   "cell_type": "code",
   "execution_count": 98,
   "id": "704f082b",
   "metadata": {},
   "outputs": [
    {
     "name": "stdout",
     "output_type": "stream",
     "text": [
      "[10, 12, 10, 11]\n"
     ]
    }
   ],
   "source": [
    "# my_dict에는 날짜를 키값으로 OHLC가 리스트로 저장돼 있다.\n",
    "\n",
    "my_dict = {\"10/26\" : [100, 130, 100, 100],\n",
    "           \"10/27\" : [10, 12, 10, 11]}\n",
    "\n",
    "# my_dict와 날짜 키값을 입력받아 OHLC 리스트를 출력하는 print_value_by_key 함수를 정의하라.\n",
    "\n",
    "def print_value_by_key(a,b):\n",
    "    print(a[b])\n",
    "    \n",
    "print_value_by_key(my_dict, \"10/27\")    "
   ]
  },
  {
   "cell_type": "markdown",
   "id": "ac8bc489",
   "metadata": {},
   "source": [
    "### 226"
   ]
  },
  {
   "cell_type": "code",
   "execution_count": 99,
   "id": "68a4589d",
   "metadata": {},
   "outputs": [
    {
     "name": "stdout",
     "output_type": "stream",
     "text": [
      "아이엠어보\n",
      "이유알어걸\n"
     ]
    }
   ],
   "source": [
    "# 입력 문자열을 한 줄에 다섯글자씩 출력하는 print_5xn(string) 함수를 작성하라.\n",
    "\n",
    "def print_5xn(a):\n",
    "    print(a[:5])\n",
    "    print(a[5:])\n",
    "\n",
    "print_5xn(\"아이엠어보이유알어걸\")\n"
   ]
  },
  {
   "cell_type": "markdown",
   "id": "0ae0258d",
   "metadata": {},
   "source": [
    "### 227"
   ]
  },
  {
   "cell_type": "code",
   "execution_count": 105,
   "id": "0903e177",
   "metadata": {},
   "outputs": [
    {
     "name": "stdout",
     "output_type": "stream",
     "text": [
      "아이엠\n",
      "어보이\n",
      "유알어\n",
      "걸\n"
     ]
    }
   ],
   "source": [
    "# 문자열과 한줄에 출력될 글자 수를 입력을 받아 한 줄에 입력된 글자 수만큼 출력하는 print_mxn(string) 함수를 작성하라.\n",
    "\n",
    "def print_5xn(a,b):\n",
    "    c = int(len(a) / b)\n",
    "    for d in range(c+1):\n",
    "        print(a[d*b:d*b+b])\n",
    "\n",
    "print_5xn(\"아이엠어보이유알어걸\", 3)\n"
   ]
  },
  {
   "cell_type": "markdown",
   "id": "883bb9be",
   "metadata": {},
   "source": [
    "### 228"
   ]
  },
  {
   "cell_type": "code",
   "execution_count": 112,
   "id": "06df30c2",
   "metadata": {},
   "outputs": [
    {
     "name": "stdout",
     "output_type": "stream",
     "text": [
      "3000000\n"
     ]
    }
   ],
   "source": [
    "# 연봉을 입력받아 월급을 계산하는 calc_monthly_salary(annual_salary) 함수를 정의하라. \n",
    "# 회사는 연봉을 12개월로 나누어 분할 지급하며, 이 때 1원 미만은 버림한다.\n",
    "\n",
    "def calc_monthly_salary(a):\n",
    "    g= a/12\n",
    "    print(int(g))\n",
    "    \n",
    "calc_monthly_salary(36000000)"
   ]
  },
  {
   "cell_type": "markdown",
   "id": "c041a86a",
   "metadata": {},
   "source": [
    "### 229"
   ]
  },
  {
   "cell_type": "code",
   "execution_count": 113,
   "id": "d7d56542",
   "metadata": {},
   "outputs": [
    {
     "name": "stdout",
     "output_type": "stream",
     "text": [
      "왼쪽: 100\n",
      "오른쪽: 200\n"
     ]
    }
   ],
   "source": [
    "# 아래 코드의 실행 결과를 예측하라.\n",
    "\n",
    "def my_print (a, b) :\n",
    "    print(\"왼쪽:\", a)\n",
    "    print(\"오른쪽:\", b)\n",
    "\n",
    "my_print(a=100, b=200)"
   ]
  },
  {
   "cell_type": "markdown",
   "id": "19900910",
   "metadata": {},
   "source": [
    "### 230"
   ]
  },
  {
   "cell_type": "code",
   "execution_count": 115,
   "id": "e24ae20f",
   "metadata": {},
   "outputs": [
    {
     "name": "stdout",
     "output_type": "stream",
     "text": [
      "왼쪽: 200\n",
      "오른쪽: 100\n"
     ]
    }
   ],
   "source": [
    "# 아래 코드의 실행 결과를 예측하라.\n",
    "\n",
    "def my_print (a, b) :\n",
    "    print(\"왼쪽:\", a)\n",
    "    print(\"오른쪽:\", b)\n",
    "\n",
    "my_print(b=100, a=200)\n"
   ]
  },
  {
   "cell_type": "code",
   "execution_count": null,
   "id": "46bf42f8",
   "metadata": {},
   "outputs": [],
   "source": []
  },
  {
   "cell_type": "markdown",
   "id": "33e9844c",
   "metadata": {},
   "source": [
    "## 031~040"
   ]
  },
  {
   "cell_type": "markdown",
   "id": "f1a57039",
   "metadata": {},
   "source": [
    "### 031 문자열 합치기"
   ]
  },
  {
   "cell_type": "code",
   "execution_count": 1,
   "id": "23a02217",
   "metadata": {},
   "outputs": [
    {
     "name": "stdout",
     "output_type": "stream",
     "text": [
      "34\n"
     ]
    }
   ],
   "source": [
    "a = \"3\"\n",
    "b = \"4\"\n",
    "print(a + b)\n",
    "\n",
    "# 문자열을 덧셈하면 숫자로 덧셈하는것과 달리 문자열을 연결해서 붙인 새 문자열 생성해서 출력함"
   ]
  },
  {
   "cell_type": "markdown",
   "id": "eee912d8",
   "metadata": {},
   "source": [
    "### 032 문자열 곱하기"
   ]
  },
  {
   "cell_type": "code",
   "execution_count": 2,
   "id": "9b29e971",
   "metadata": {},
   "outputs": [
    {
     "name": "stdout",
     "output_type": "stream",
     "text": [
      "HiHiHi\n"
     ]
    }
   ],
   "source": [
    "# 아래 코드의 실행 결과를 예상해보세요.\n",
    "print(\"Hi\" * 3)"
   ]
  },
  {
   "cell_type": "markdown",
   "id": "6a6d1e70",
   "metadata": {},
   "source": [
    "### 033 문자열 곱하기"
   ]
  },
  {
   "cell_type": "code",
   "execution_count": 3,
   "id": "22da6459",
   "metadata": {},
   "outputs": [
    {
     "name": "stdout",
     "output_type": "stream",
     "text": [
      "--------------------------------------------------------------------------------\n"
     ]
    }
   ],
   "source": [
    "# 화면에 '-'를 80개 출력하세요\n",
    "print('-'*80)"
   ]
  },
  {
   "cell_type": "markdown",
   "id": "c56d3bc1",
   "metadata": {},
   "source": [
    "### 034 문자열 곱하기"
   ]
  },
  {
   "cell_type": "code",
   "execution_count": 7,
   "id": "2ba8d49f",
   "metadata": {},
   "outputs": [
    {
     "name": "stdout",
     "output_type": "stream",
     "text": [
      "python java python java python java python java \n"
     ]
    }
   ],
   "source": [
    "# 변수에 다음과 같은 문자열이 바인딩되어 있습니다.\n",
    "t1 = 'python'\n",
    "t2 = 'java'\n",
    "# 변수에 문자열 더하기와 문자열 곱하기를 사용해서 아래와 같이 출력해보세요.\n",
    "# python java python java python java python java\n",
    "\n",
    "print((t1+' '+t2+' ')*4)"
   ]
  },
  {
   "cell_type": "markdown",
   "id": "3213ceff",
   "metadata": {},
   "source": [
    "### 035 문자열 출력"
   ]
  },
  {
   "cell_type": "code",
   "execution_count": 10,
   "id": "623db9a0",
   "metadata": {},
   "outputs": [
    {
     "name": "stdout",
     "output_type": "stream",
     "text": [
      "이름: 김민수 나이: 10\n",
      "이름: 이철희 나이: 13\n"
     ]
    }
   ],
   "source": [
    "# 변수에 다음과 같이 문자열과 정수가 바인딩되어 있을 때 % formatting을 사용해서 다음과 같이 출력해보세요.\n",
    "\n",
    "name1 = \"김민수\" \n",
    "age1 = 10\n",
    "name2 = \"이철희\"\n",
    "age2 = 13\n",
    "\n",
    "\n",
    "# `%s`는 문자열 데이터 타입의 값을 `%d`는 정수형 데이터 타입 값의 출력을 의미\n",
    "print(\"이름: %s 나이: %d\" % (name1, age1))\n",
    "print(\"이름: %s 나이: %d\" % (name2, age2))"
   ]
  },
  {
   "cell_type": "markdown",
   "id": "ab710953",
   "metadata": {},
   "source": [
    "### 036 문자열 출력"
   ]
  },
  {
   "cell_type": "code",
   "execution_count": 11,
   "id": "95a766ac",
   "metadata": {},
   "outputs": [
    {
     "name": "stdout",
     "output_type": "stream",
     "text": [
      "이름: 김민수 나이: 10\n",
      "이름: 이철희 나이: 13\n"
     ]
    }
   ],
   "source": [
    "# 문자열의 format( ) 메서드를 사용해서 035번 문제를 다시 풀어보세요.\n",
    "\n",
    "print(\"이름: {} 나이: {}\".format(name1, age1))\n",
    "print(\"이름: {} 나이: {}\".format(name2, age2))"
   ]
  },
  {
   "cell_type": "markdown",
   "id": "fced79c1",
   "metadata": {},
   "source": [
    "### 037 문자열 출력"
   ]
  },
  {
   "cell_type": "code",
   "execution_count": 12,
   "id": "b1703ac9",
   "metadata": {},
   "outputs": [
    {
     "name": "stdout",
     "output_type": "stream",
     "text": [
      "이름: 김민수 나이: 10\n",
      "이름: 이철희 나이: 13\n"
     ]
    }
   ],
   "source": [
    "# 파이썬 3.6부터 지원하는 f-string을 사용해서 035번 문제를 다시 풀어보세요.\n",
    "\n",
    "print(f\"이름: {name1} 나이: {age1}\")\n",
    "print(f\"이름: {name2} 나이: {age2}\")"
   ]
  },
  {
   "cell_type": "markdown",
   "id": "b4b18845",
   "metadata": {},
   "source": [
    "### 038 컴마 제거하기"
   ]
  },
  {
   "cell_type": "code",
   "execution_count": 19,
   "id": "0883529d",
   "metadata": {},
   "outputs": [
    {
     "data": {
      "text/plain": [
       "(5969782550, int)"
      ]
     },
     "execution_count": 19,
     "metadata": {},
     "output_type": "execute_result"
    }
   ],
   "source": [
    "# 삼성전자의 상장주식수가 다음과 같습니다. 컴마를 제거한 후 이를 정수 타입으로 변환해보세요.\n",
    "\n",
    "상장주식수 = \"5,969,782,550\"\n",
    "콤마제거= 상장주식수.replace(\",\",\"\")    #문자열의 replace 메서드로 컴마를 제거\n",
    "타입변환=int(콤마제거)                  #정수형으로 타입을 변환하려면 int( ) 함수를 사용\n",
    "타입변환, type(타입변환)"
   ]
  },
  {
   "cell_type": "markdown",
   "id": "64c082b5",
   "metadata": {},
   "source": [
    "### 039 문자열 슬라이싱"
   ]
  },
  {
   "cell_type": "code",
   "execution_count": 24,
   "id": "191bcfa8",
   "metadata": {},
   "outputs": [
    {
     "name": "stdout",
     "output_type": "stream",
     "text": [
      "2020/03\n"
     ]
    }
   ],
   "source": [
    "# 다음과 같은 문자열에서 '2020/03'만 출력하세요.\n",
    "\n",
    "분기 = \"2020/03(E) (IFRS연결)\"\n",
    "print(분기[:7])"
   ]
  },
  {
   "cell_type": "markdown",
   "id": "da69d986",
   "metadata": {},
   "source": [
    "### 040 strip 메서드"
   ]
  },
  {
   "cell_type": "code",
   "execution_count": 25,
   "id": "76cbd319",
   "metadata": {},
   "outputs": [
    {
     "name": "stdout",
     "output_type": "stream",
     "text": [
      "삼성전자\n"
     ]
    }
   ],
   "source": [
    "# 문자열의 좌우의 공백이 있을 때 이를 제거해보세요.\n",
    "data = \"   삼성전자    \"\n",
    "data1 = data.strip()       # 문자열에서 strip( ) 메서드를 사용하면 좌우의 공백을 제거\n",
    "print(data1)"
   ]
  },
  {
   "cell_type": "markdown",
   "id": "d0bd8934",
   "metadata": {},
   "source": [
    "## 041~050"
   ]
  },
  {
   "cell_type": "markdown",
   "id": "55ae41d0",
   "metadata": {},
   "source": [
    "### 041 upper 메서드\n"
   ]
  },
  {
   "cell_type": "code",
   "execution_count": 26,
   "id": "c66df8e5",
   "metadata": {},
   "outputs": [
    {
     "data": {
      "text/plain": [
       "'BTC_KRW'"
      ]
     },
     "execution_count": 26,
     "metadata": {},
     "output_type": "execute_result"
    }
   ],
   "source": [
    "# 다음과 같은 문자열이 있을 때 이를 대문자 BTC_KRW로 변경하세요.\n",
    "\n",
    "ticker = \"btc_krw\"\n",
    "ticker1 = ticker.upper()\n",
    "ticker1"
   ]
  },
  {
   "cell_type": "markdown",
   "id": "19e81257",
   "metadata": {},
   "source": [
    "### 042 lower 메서드"
   ]
  },
  {
   "cell_type": "code",
   "execution_count": 28,
   "id": "5fe869cd",
   "metadata": {},
   "outputs": [
    {
     "data": {
      "text/plain": [
       "('btc_krw', 'BTC_KRW', 'btc_krw')"
      ]
     },
     "execution_count": 28,
     "metadata": {},
     "output_type": "execute_result"
    }
   ],
   "source": [
    "ticker2 = ticker1.lower()\n",
    "ticker, ticker1, ticker2"
   ]
  },
  {
   "cell_type": "markdown",
   "id": "b7089bab",
   "metadata": {},
   "source": [
    "### 043 capitalize 메서드"
   ]
  },
  {
   "cell_type": "code",
   "execution_count": 32,
   "id": "9e7cb383",
   "metadata": {},
   "outputs": [
    {
     "data": {
      "text/plain": [
       "('hello', 'Hello')"
      ]
     },
     "execution_count": 32,
     "metadata": {},
     "output_type": "execute_result"
    }
   ],
   "source": [
    "# 문자열 'hello'가 있을 때 이를 'Hello'로 변경해보세요.\n",
    "\n",
    "a = \"hello\"\n",
    "a1 = a.capitalize()\n",
    "a, a1"
   ]
  },
  {
   "cell_type": "markdown",
   "id": "7caced55",
   "metadata": {},
   "source": [
    "### 044 endswith 메서드"
   ]
  },
  {
   "cell_type": "code",
   "execution_count": 33,
   "id": "f71e0942",
   "metadata": {},
   "outputs": [
    {
     "data": {
      "text/plain": [
       "True"
      ]
     },
     "execution_count": 33,
     "metadata": {},
     "output_type": "execute_result"
    }
   ],
   "source": [
    "# 파일 이름이 문자열로 저장되어 있을 때 endswith 메서드를 사용해서 파일 이름이 'xlsx'로 끝나는지 확인해보세요.\n",
    "\n",
    "file_name = \"보고서.xlsx\"\n",
    "file_name.endswith(\"xlsx\")"
   ]
  },
  {
   "cell_type": "markdown",
   "id": "96a530e2",
   "metadata": {},
   "source": [
    "### 045 endswith 메서드\n"
   ]
  },
  {
   "cell_type": "code",
   "execution_count": 39,
   "id": "0b92f336",
   "metadata": {},
   "outputs": [
    {
     "data": {
      "text/plain": [
       "True"
      ]
     },
     "execution_count": 39,
     "metadata": {},
     "output_type": "execute_result"
    }
   ],
   "source": [
    "# 파일 이름이 문자열로 저장되어 있을 때 endswith 메서드를 사용해서 파일 이름이 'xlsx' 또는 'xls'로 끝나는지 확인해보세요.\n",
    "\n",
    "file_name = \"보고서.xls\"\n",
    "file_name.endswith((\"xlsx\", \"xls\"))"
   ]
  },
  {
   "cell_type": "markdown",
   "id": "6ac776e6",
   "metadata": {},
   "source": [
    "### 046 startswith 메서드"
   ]
  },
  {
   "cell_type": "code",
   "execution_count": 40,
   "id": "cc552b4f",
   "metadata": {},
   "outputs": [
    {
     "data": {
      "text/plain": [
       "True"
      ]
     },
     "execution_count": 40,
     "metadata": {},
     "output_type": "execute_result"
    }
   ],
   "source": [
    "# 파일 이름이 문자열로 저장되어 있을 때 startswith 메서드를 사용해서 파일 이름이 '2020'로 시작하는지 확인해보세요.\n",
    "\n",
    "file_name = \"2020_보고서.xlsx\"\n",
    "file_name.startswith(\"2020\")"
   ]
  },
  {
   "cell_type": "markdown",
   "id": "3f82ffa1",
   "metadata": {},
   "source": [
    "### 047 split 메서드"
   ]
  },
  {
   "cell_type": "code",
   "execution_count": 46,
   "id": "06015a9a",
   "metadata": {},
   "outputs": [
    {
     "data": {
      "text/plain": [
       "['Hello', 'world']"
      ]
     },
     "execution_count": 46,
     "metadata": {},
     "output_type": "execute_result"
    }
   ],
   "source": [
    "# 다음과 같은 문자열이 있을 때 공백을 기준으로 문자열을 나눠보세요.\n",
    "\n",
    "a=\"Hello world\"\n",
    "a.split()"
   ]
  },
  {
   "cell_type": "markdown",
   "id": "d25b7422",
   "metadata": {},
   "source": [
    "### 048 split 메서드"
   ]
  },
  {
   "cell_type": "code",
   "execution_count": 47,
   "id": "c08cd4bd",
   "metadata": {},
   "outputs": [
    {
     "data": {
      "text/plain": [
       "['btc', 'krw']"
      ]
     },
     "execution_count": 47,
     "metadata": {},
     "output_type": "execute_result"
    }
   ],
   "source": [
    "# 다음과 같이 문자열이 있을 때 btc와 krw로 나눠보세요.\n",
    "\n",
    "ticker = \"btc_krw\"\n",
    "ticker.split(\"_\")"
   ]
  },
  {
   "cell_type": "markdown",
   "id": "a324591a",
   "metadata": {},
   "source": [
    "### 049 split 메서드"
   ]
  },
  {
   "cell_type": "code",
   "execution_count": 48,
   "id": "1bdea1bd",
   "metadata": {},
   "outputs": [
    {
     "data": {
      "text/plain": [
       "['2020', '05', '01']"
      ]
     },
     "execution_count": 48,
     "metadata": {},
     "output_type": "execute_result"
    }
   ],
   "source": [
    "# 다음과 같이 날짜를 표현하는 문자열이 있을 때 연도, 월, 일로 나눠보세요.\n",
    "\n",
    "date = \"2020-05-01\"\n",
    "date.split(\"-\")"
   ]
  },
  {
   "cell_type": "markdown",
   "id": "c7880f5a",
   "metadata": {},
   "source": [
    "### 050 rstrip 메서드"
   ]
  },
  {
   "cell_type": "code",
   "execution_count": 52,
   "id": "e1df13e9",
   "metadata": {},
   "outputs": [
    {
     "data": {
      "text/plain": [
       "'     039490'"
      ]
     },
     "execution_count": 52,
     "metadata": {},
     "output_type": "execute_result"
    }
   ],
   "source": [
    "# 문자열의 오른쪽에 공백이 있을 때 이를 제거해보세요.\n",
    "\n",
    "data = \"     039490     \"\n",
    "data.rstrip()"
   ]
  },
  {
   "cell_type": "code",
   "execution_count": 50,
   "id": "6532087b",
   "metadata": {
    "scrolled": true
   },
   "outputs": [
    {
     "data": {
      "text/plain": [
       "'039490     '"
      ]
     },
     "execution_count": 50,
     "metadata": {},
     "output_type": "execute_result"
    }
   ],
   "source": [
    "data = \"     039490     \"\n",
    "data.lstrip()"
   ]
  },
  {
   "cell_type": "code",
   "execution_count": 51,
   "id": "c67c45cb",
   "metadata": {},
   "outputs": [
    {
     "data": {
      "text/plain": [
       "'039490'"
      ]
     },
     "execution_count": 51,
     "metadata": {},
     "output_type": "execute_result"
    }
   ],
   "source": [
    "data = \"     039490     \"\n",
    "data.strip()"
   ]
  }
 ],
 "metadata": {
  "kernelspec": {
   "display_name": "Python 3 (ipykernel)",
   "language": "python",
   "name": "python3"
  },
  "language_info": {
   "codemirror_mode": {
    "name": "ipython",
    "version": 3
   },
   "file_extension": ".py",
   "mimetype": "text/x-python",
   "name": "python",
   "nbconvert_exporter": "python",
   "pygments_lexer": "ipython3",
   "version": "3.11.5"
  }
 },
 "nbformat": 4,
 "nbformat_minor": 5
}
