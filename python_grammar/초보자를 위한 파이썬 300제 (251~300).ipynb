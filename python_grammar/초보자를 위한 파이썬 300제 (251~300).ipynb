{
 "cells": [
  {
   "cell_type": "markdown",
   "id": "ee981eed",
   "metadata": {},
   "source": [
    "# 251 ~ 260"
   ]
  },
  {
   "cell_type": "markdown",
   "id": "a54e9e13",
   "metadata": {},
   "source": [
    "### 251 클래스, 객체, 인스턴스"
   ]
  },
  {
   "cell_type": "markdown",
   "id": "28250aba",
   "metadata": {},
   "source": [
    "Q. 클래스와 객체에 대해 설명해봅시다.\n",
    "A. 클래스에 관련있는 데이터와 함수를 한데 모아 정의, 클래스로 만들어진 결과물=객체\n",
    "\n"
   ]
  },
  {
   "cell_type": "markdown",
   "id": "ad345e72",
   "metadata": {},
   "source": [
    "### 252 클래스 정의"
   ]
  },
  {
   "cell_type": "code",
   "execution_count": 2,
   "id": "009cdf1c",
   "metadata": {},
   "outputs": [],
   "source": [
    "# 비어있는 사람 (Human) 클래스를 \"정의\" 해보세요.\n",
    "\n",
    "class Human:\n",
    "    pass\n",
    "\n"
   ]
  },
  {
   "cell_type": "markdown",
   "id": "8a480963",
   "metadata": {},
   "source": [
    "### 253 인스턴스 생성"
   ]
  },
  {
   "cell_type": "code",
   "execution_count": 7,
   "id": "79ba400d",
   "metadata": {},
   "outputs": [],
   "source": [
    "# 사람 (Human) 클래스의 인스턴스를 \"생성\" 하고 이를 areum 변수로 바인딩해보세요.\n",
    "\n",
    "class Human:\n",
    "    pass\n",
    "\n",
    "areum=Human()"
   ]
  },
  {
   "cell_type": "markdown",
   "id": "f6332127",
   "metadata": {},
   "source": [
    "### 254 클래스 생성자-1"
   ]
  },
  {
   "cell_type": "code",
   "execution_count": 12,
   "id": "6c6fdac5",
   "metadata": {},
   "outputs": [
    {
     "name": "stdout",
     "output_type": "stream",
     "text": [
      "응애응애\n"
     ]
    }
   ],
   "source": [
    "# 사람 (Human) 클래스에 \"응애응애\"를 출력하는 생성자를 추가하세요.\n",
    "\n",
    "class Human:\n",
    "    def __init__(self) :\n",
    "        print(\"응애응애\")\n",
    "\n",
    "areum=Human()"
   ]
  },
  {
   "cell_type": "markdown",
   "id": "dac911df",
   "metadata": {},
   "source": [
    "### 255 클래스 생성자-2"
   ]
  },
  {
   "cell_type": "code",
   "execution_count": 19,
   "id": "2ce4797f",
   "metadata": {},
   "outputs": [
    {
     "name": "stdout",
     "output_type": "stream",
     "text": [
      "25\n"
     ]
    }
   ],
   "source": [
    "# 사람 (Human) 클래스에 (이름, 나이, 성별)을 받는 생성자를 추가하세요.\n",
    "\n",
    "class Human:\n",
    "    def __init__(self,name, age, sex) :\n",
    "        self.name=name\n",
    "        self.age=age\n",
    "        self.sex=sex\n",
    "\n",
    "areum = Human(\"아름\", 25, \"여성\")\n",
    "print(areum.age)"
   ]
  },
  {
   "cell_type": "markdown",
   "id": "644d2261",
   "metadata": {},
   "source": [
    "### 256 인스턴스 속성에 접근\n"
   ]
  },
  {
   "cell_type": "code",
   "execution_count": 22,
   "id": "45886334",
   "metadata": {},
   "outputs": [
    {
     "name": "stdout",
     "output_type": "stream",
     "text": [
      "이름: 조아름 나이: 25 성별: 여자\n"
     ]
    }
   ],
   "source": [
    "# 255에서 생성한 인스턴스의 이름, 나이, 성별을 출력하세요. 인스턴스 변수에 접근하여 값을 출력하면 됩니다.\n",
    "\n",
    "\n",
    "\n",
    "class Human:\n",
    "    def __init__(self,name, age, sex) :\n",
    "        self.name=name\n",
    "        self.age=age\n",
    "        self.sex=sex\n",
    "\n",
    "areum = Human(\"조아름\", 25, \"여자\")\n",
    "\n",
    "print(\"이름:\",areum.name, \"나이:\", areum.age, \"성별:\",areum.sex)"
   ]
  },
  {
   "cell_type": "markdown",
   "id": "ba404962",
   "metadata": {},
   "source": [
    "### 257 클래스 메소드 - 1"
   ]
  },
  {
   "cell_type": "code",
   "execution_count": 30,
   "id": "80523174",
   "metadata": {},
   "outputs": [
    {
     "name": "stdout",
     "output_type": "stream",
     "text": [
      "이름: 조아름 나이: 25 성별: 여자\n"
     ]
    }
   ],
   "source": [
    "# 사람 (Human) 클래스에서 이름, 나이, 성별을 출력하는 who() 메소드를 추가하세요.\n",
    "\n",
    "\n",
    "class Human:\n",
    "    def __init__(self,name, age, sex) :\n",
    "        self.name=name\n",
    "        self.age=age\n",
    "        self.sex=sex\n",
    "        \n",
    "    def who(self):\n",
    "        print(\"이름: {} 나이: {} 성별: {}\".format(self.name, self.age, self.sex))\n",
    "\n",
    "areum=Human(\"조아름\", 25, \"여자\")\n",
    "\n",
    "areum.who()"
   ]
  },
  {
   "cell_type": "markdown",
   "id": "2cd05546",
   "metadata": {},
   "source": [
    "### 258 클래스 메소드 - 2"
   ]
  },
  {
   "cell_type": "code",
   "execution_count": 31,
   "id": "73285096",
   "metadata": {
    "scrolled": true
   },
   "outputs": [
    {
     "name": "stdout",
     "output_type": "stream",
     "text": [
      "이름: 조아름 나이: 25 성별: 여자\n"
     ]
    }
   ],
   "source": [
    "# 사람 (Human) 클래스에 (이름, 나이, 성별)을 받는 setInfo 메소드를 추가하세요.\n",
    "\n",
    "class Human:\n",
    "    def __init__(self,name, age, sex) :\n",
    "        self.name=name\n",
    "        self.age=age\n",
    "        self.sex=sex\n",
    "        \n",
    "    def who(self):\n",
    "        print(\"이름: {} 나이: {} 성별: {}\".format(self.name, self.age, self.sex))\n",
    "        \n",
    "    def setinfo(self,name, age, sex) :\n",
    "        self.name=name\n",
    "        self.age=age\n",
    "        self.sex=sex\n",
    "\n",
    "areum=Human(\"조아름\", 25, \"여자\")\n",
    "areum.who()"
   ]
  },
  {
   "cell_type": "code",
   "execution_count": 32,
   "id": "b1bbb31e",
   "metadata": {},
   "outputs": [
    {
     "name": "stdout",
     "output_type": "stream",
     "text": [
      "이름: 아름 나이: 25 성별: 미상\n"
     ]
    }
   ],
   "source": [
    "areum.setinfo(\"아름\", 25, \"미상\")\n",
    "areum.who()"
   ]
  },
  {
   "cell_type": "markdown",
   "id": "7e8820fb",
   "metadata": {},
   "source": [
    "### 259 클래스 소멸자\n"
   ]
  },
  {
   "cell_type": "code",
   "execution_count": 34,
   "id": "ce045527",
   "metadata": {
    "scrolled": true
   },
   "outputs": [
    {
     "name": "stdout",
     "output_type": "stream",
     "text": [
      "나의 죽음을 알리지마라\n"
     ]
    }
   ],
   "source": [
    "# 사람 (human) 클래스에 \"나의 죽음을 알리지 말라\"를 출력하는 소멸자를 추가하세요.\n",
    "\n",
    "class Human:\n",
    "    def __init__(self,name, age, sex) :\n",
    "        self.name=name\n",
    "        self.age=age\n",
    "        self.sex=sex\n",
    "        \n",
    "    def who(self):\n",
    "        print(\"이름: {} 나이: {} 성별: {}\".format(self.name, self.age, self.sex))\n",
    "        \n",
    "    def __del__(self):\n",
    "        print(\"나의 죽음을 알리지마라\")    \n",
    "        \n",
    "    def setinfo(self,name, age, sex) :\n",
    "        self.name=name\n",
    "        self.age=age\n",
    "        self.sex=sex\n",
    "        \n",
    "        \n",
    "areum=Human(\"조아름\", 25, \"여자\")\n",
    "del areum"
   ]
  },
  {
   "cell_type": "markdown",
   "id": "1c8a1745",
   "metadata": {},
   "source": [
    "### 260 에러의 원인"
   ]
  },
  {
   "cell_type": "code",
   "execution_count": 37,
   "id": "16f42130",
   "metadata": {},
   "outputs": [
    {
     "ename": "TypeError",
     "evalue": "OMG.print() takes 0 positional arguments but 1 was given",
     "output_type": "error",
     "traceback": [
      "\u001b[1;31m---------------------------------------------------------------------------\u001b[0m",
      "\u001b[1;31mTypeError\u001b[0m                                 Traceback (most recent call last)",
      "Cell \u001b[1;32mIn[37], line 9\u001b[0m\n\u001b[0;32m      5\u001b[0m         \u001b[38;5;28mprint\u001b[39m(\u001b[38;5;124m\"\u001b[39m\u001b[38;5;124mOh my god\u001b[39m\u001b[38;5;124m\"\u001b[39m)\n\u001b[0;32m      7\u001b[0m myStock \u001b[38;5;241m=\u001b[39m OMG()\n\u001b[1;32m----> 9\u001b[0m OMG\u001b[38;5;241m.\u001b[39mprint(myStock)\n",
      "\u001b[1;31mTypeError\u001b[0m: OMG.print() takes 0 positional arguments but 1 was given"
     ]
    }
   ],
   "source": [
    "# 아래와 같은 에러가 발생한 원인에 대해 설명하세요.\n",
    "\n",
    "class OMG : \n",
    "    def print() :\n",
    "        print(\"Oh my god\")\n",
    "        \n",
    "myStock = OMG()\n",
    "\n",
    "OMG.print(myStock)"
   ]
  },
  {
   "cell_type": "markdown",
   "id": "a1a4c156",
   "metadata": {},
   "source": [
    "# 261 ~ 270"
   ]
  },
  {
   "cell_type": "markdown",
   "id": "e7a296fe",
   "metadata": {},
   "source": [
    "### 261"
   ]
  },
  {
   "cell_type": "code",
   "execution_count": 38,
   "id": "c31a810d",
   "metadata": {},
   "outputs": [],
   "source": [
    "# 주식 종목에 대한 정보를 저장하는 Stock 클래스를 정의해보세요. 클래스는 속성과 메서드를 갖고 있지 않습니다.\n",
    "\n",
    "\n",
    "class Stock:\n",
    "    pass\n",
    "\n"
   ]
  },
  {
   "cell_type": "markdown",
   "id": "3301b906",
   "metadata": {},
   "source": [
    "### 262 생성자"
   ]
  },
  {
   "cell_type": "code",
   "execution_count": 44,
   "id": "7811f2d8",
   "metadata": {},
   "outputs": [
    {
     "name": "stdout",
     "output_type": "stream",
     "text": [
      "삼성전자 005930\n"
     ]
    }
   ],
   "source": [
    "# Stock 클래스의 객체가 생성될 때 종목명과 종목코드를 입력 받을 수 있도록 생성자를 정의해보세요.\n",
    "\n",
    "class Stock:\n",
    "    def __init__(self,name,price):\n",
    "        self.name=name\n",
    "        self.price=price\n",
    "\n",
    "삼성 = Stock(\"삼성전자\", \"005930\")\n",
    "\n",
    "print(삼성.name, 삼성.price)"
   ]
  },
  {
   "cell_type": "markdown",
   "id": "0f6db8b2",
   "metadata": {},
   "source": [
    "### 263 메서드"
   ]
  },
  {
   "cell_type": "code",
   "execution_count": 49,
   "id": "413131cf",
   "metadata": {},
   "outputs": [
    {
     "name": "stdout",
     "output_type": "stream",
     "text": [
      "삼성전자 None\n"
     ]
    }
   ],
   "source": [
    "#객체에 종목명을 입력할 수 있는 set_name 메서드를 추가해보세요.\n",
    "\n",
    "class Stock:\n",
    "    def __init__(self,name,price):\n",
    "        self.name=name\n",
    "        self.price=price\n",
    "    def set_name(self,name):\n",
    "        self.name=name\n",
    "\n",
    "삼성 = Stock(\"삼성전자\", \"005930\")\n",
    "\n",
    "a = Stock(None, None)\n",
    "\n",
    "a.set_name(\"삼성전자\")\n",
    "print(a.name, a.price)"
   ]
  },
  {
   "cell_type": "markdown",
   "id": "e81e3d6d",
   "metadata": {},
   "source": [
    "### 264 메서드\n"
   ]
  },
  {
   "cell_type": "code",
   "execution_count": 51,
   "id": "8fcc44e3",
   "metadata": {},
   "outputs": [
    {
     "name": "stdout",
     "output_type": "stream",
     "text": [
      "None 005930\n"
     ]
    }
   ],
   "source": [
    "# 객체에 종목코드를 입력할 수 있는 set_code 메서드를 추가해보세요.\n",
    "\n",
    "class Stock:\n",
    "    def __init__(self,name,code):\n",
    "        self.name=name\n",
    "        self.code=code\n",
    "    def set_name(self,name):\n",
    "        self.name=name\n",
    "    def set_code(self,code):\n",
    "        self.code=code\n",
    "\n",
    "a = Stock(None, None)\n",
    "\n",
    "a.set_code(\"005930\")\n",
    "print(a.name, a.code)"
   ]
  },
  {
   "cell_type": "markdown",
   "id": "f904c312",
   "metadata": {},
   "source": [
    "### 265 메서드"
   ]
  },
  {
   "cell_type": "code",
   "execution_count": 55,
   "id": "ae77011a",
   "metadata": {
    "scrolled": true
   },
   "outputs": [
    {
     "name": "stdout",
     "output_type": "stream",
     "text": [
      "005930\n",
      "삼성전자\n"
     ]
    }
   ],
   "source": [
    "# 종목명과 종목코드를 리턴하는 get_name, get_code 메서드를 추가하세요. \n",
    "# 해당 메서드를 사용하여 종목명과 종목코드를 얻고 이를 출력해보세요.\n",
    "\n",
    "class Stock:\n",
    "    def __init__(self,name,code):\n",
    "        self.name=name\n",
    "        self.code=code\n",
    "    def set_name(self,name):\n",
    "        self.name=name\n",
    "    def set_code(self,code):\n",
    "        self.code=code\n",
    "    def get_name(self):\n",
    "        print(self.name)\n",
    "    def get_code(self):\n",
    "        print(self.code)\n",
    "        \n",
    "삼성 = Stock(\"삼성전자\", \"005930\")\n",
    "\n",
    "삼성.get_code()\n",
    "삼성.get_name()"
   ]
  },
  {
   "cell_type": "markdown",
   "id": "d7e51c08",
   "metadata": {},
   "source": [
    "### 266 메서드"
   ]
  },
  {
   "cell_type": "code",
   "execution_count": 58,
   "id": "d874f9ef",
   "metadata": {},
   "outputs": [
    {
     "name": "stdout",
     "output_type": "stream",
     "text": [
      "35.0 40.0 20.0\n"
     ]
    }
   ],
   "source": [
    "# 생성자에서 종목명, 종목코드, PER, PBR, 배당수익률을 입력 받을 수 있도록 생성자를 수정하세요.\n",
    "# PER, PBR, 배당수익률은 float 타입입니다.\n",
    "\n",
    "class Stock:\n",
    "    def __init__(self,name,code,per,pbr,rate):\n",
    "        self.name=name\n",
    "        self.code=code\n",
    "        self.per=per\n",
    "        self.pbr=pbr\n",
    "        self.rate=rate\n",
    "    def set_name(self,name):\n",
    "        self.name=name\n",
    "    def set_code(self,code):\n",
    "        self.code=code\n",
    "    def get_name(self):\n",
    "        print(self.name)\n",
    "    def get_code(self):\n",
    "        print(self.code)\n",
    "        \n",
    "삼성 = Stock(\"삼성전자\", \"005930\", 35, 40, 20)\n",
    "\n",
    "print(삼성.per, 삼성.pbr, 삼성.rate)"
   ]
  },
  {
   "cell_type": "markdown",
   "id": "bf4f7571",
   "metadata": {},
   "source": [
    "### 267\n"
   ]
  },
  {
   "cell_type": "code",
   "execution_count": 62,
   "id": "d570e308",
   "metadata": {},
   "outputs": [
    {
     "name": "stdout",
     "output_type": "stream",
     "text": [
      "삼성전자 005930 15.79 1.33 2.83\n"
     ]
    }
   ],
   "source": [
    "# 266번에서 정의한 생성자를 통해 다음 정보를 갖는 객체를 생성해보세요.\n",
    "\n",
    "class Stock:\n",
    "    def __init__(self,name,code,per,pbr,rate):\n",
    "        self.name=name\n",
    "        self.code=code\n",
    "        self.per=per\n",
    "        self.pbr=pbr\n",
    "        self.rate=rate\n",
    "    def set_name(self,name):\n",
    "        self.name=name\n",
    "    def set_code(self,code):\n",
    "        self.code=code\n",
    "    def get_name(self):\n",
    "        print(self.name)\n",
    "    def get_code(self):\n",
    "        print(self.code)\n",
    "\n",
    "삼성 = Stock(\"삼성전자\", \"005930\", 15.79,1.33,2.83)\n",
    "\n",
    "print(삼성.name,삼성.code,삼성.per,삼성.pbr,삼성.rate)"
   ]
  },
  {
   "cell_type": "markdown",
   "id": "7072b176",
   "metadata": {},
   "source": [
    "### 268\n"
   ]
  },
  {
   "cell_type": "code",
   "execution_count": 66,
   "id": "bf294fe9",
   "metadata": {},
   "outputs": [
    {
     "name": "stdout",
     "output_type": "stream",
     "text": [
      "22.76 46.83 30.02\n"
     ]
    }
   ],
   "source": [
    "# PER, PBR, 배당수익률은 변경될 수 있는 값입니다. 이 값을 변경할 때 사용하는 set_per, set_pbr, set_dividend 메서드를 추가하세요.\n",
    "\n",
    "class Stock:\n",
    "    def __init__(self,name,code,per,pbr,rate):\n",
    "        self.name=name\n",
    "        self.code=code\n",
    "        self.per=per\n",
    "        self.pbr=pbr\n",
    "        self.rate=rate\n",
    "    def set_name(self,name):\n",
    "        self.name=name\n",
    "    def set_code(self,code):\n",
    "        self.code=code\n",
    "    def set_per(self,per):\n",
    "        self.per=per\n",
    "    def set_pbr(self,pbr):\n",
    "        self.pbr=pbr\n",
    "    def set_rate(self,rate):\n",
    "        self.rate=rate\n",
    "    def get_name(self):\n",
    "        print(self.name)\n",
    "    def get_code(self):\n",
    "        print(self.code)\n",
    "        \n",
    "삼성 = Stock(\"삼성전자\", \"005930\", 15.79,1.33,2.83)\n",
    "\n",
    "삼성.set_per(22.76)\n",
    "삼성.set_pbr(46.83)\n",
    "삼성.set_rate(30.02)\n",
    "\n",
    "print(삼성.per,삼성.pbr,삼성.rate)"
   ]
  },
  {
   "cell_type": "markdown",
   "id": "10bd03de",
   "metadata": {},
   "source": [
    "### 269 객체의 속성 수정"
   ]
  },
  {
   "cell_type": "code",
   "execution_count": 67,
   "id": "499080a5",
   "metadata": {},
   "outputs": [
    {
     "name": "stdout",
     "output_type": "stream",
     "text": [
      "12.75\n"
     ]
    }
   ],
   "source": [
    "# 267번에서 생성한 객체에 set_per 메서드를 호출하여 per 값을 12.75로 수정해보세요.\n",
    "\n",
    "class Stock:\n",
    "    def __init__(self,name,code,per,pbr,rate):\n",
    "        self.name=name\n",
    "        self.code=code\n",
    "        self.per=per\n",
    "        self.pbr=pbr\n",
    "        self.rate=rate\n",
    "    def set_name(self,name):\n",
    "        self.name=name\n",
    "    def set_code(self,code):\n",
    "        self.code=code\n",
    "    def set_per(self,per):\n",
    "        self.per=per\n",
    "    def set_pbr(self,pbr):\n",
    "        self.pbr=pbr\n",
    "    def set_rate(self,rate):\n",
    "        self.rate=rate\n",
    "    def get_name(self):\n",
    "        print(self.name)\n",
    "    def get_code(self):\n",
    "        print(self.code)\n",
    "        \n",
    "삼성 = Stock(\"삼성전자\", \"005930\", 15.79,1.33,2.83)\n",
    "\n",
    "삼성.set_per(12.75)\n",
    "print(삼성.per)"
   ]
  },
  {
   "cell_type": "markdown",
   "id": "86275a0c",
   "metadata": {},
   "source": [
    "### 270"
   ]
  },
  {
   "cell_type": "code",
   "execution_count": 71,
   "id": "19c708b5",
   "metadata": {},
   "outputs": [
    {
     "name": "stdout",
     "output_type": "stream",
     "text": [
      "005930 15.79\n",
      "005380 8.7\n",
      "0066570 317.34\n"
     ]
    }
   ],
   "source": [
    "# 아래의 표를 참조하여 3종목에 대해 객체를 생성하고 이를 파이썬 리스트에 저장하세요.\n",
    "# 파이썬 리스트에 저장된 각 종목에 대해 for 루프를 통해 종목코드와 PER을 출력해보세요.\n",
    "\n",
    "class Stock:\n",
    "    def __init__(self,name,code,per,pbr,rate):\n",
    "        self.name=name\n",
    "        self.code=code\n",
    "        self.per=per\n",
    "        self.pbr=pbr\n",
    "        self.rate=rate\n",
    "    def set_name(self,name):\n",
    "        self.name=name\n",
    "    def set_code(self,code):\n",
    "        self.code=code\n",
    "    def set_per(self,per):\n",
    "        self.per=per\n",
    "    def set_pbr(self,pbr):\n",
    "        self.pbr=pbr\n",
    "    def set_rate(self,rate):\n",
    "        self.rate=rate\n",
    "    def get_name(self):\n",
    "        print(self.name)\n",
    "    def get_code(self):\n",
    "        print(self.code)\n",
    "\n",
    "종목=[]\n",
    "        \n",
    "삼성=Stock(\"삼성전자\", \"005930\", 15.79,1.33,2.83)\n",
    "현대차=Stock(\"현대차\", \"005380\", 8.70,0.35,4.27)\n",
    "LG전자=Stock(\"LG전자\", \"0066570\", 317.34,0.69,1.37)\n",
    "\n",
    "종목.append(삼성)\n",
    "종목.append(현대차)\n",
    "종목.append(LG전자)\n",
    "\n",
    "for i in 종목:\n",
    "    print(i.code, i.per)   "
   ]
  },
  {
   "cell_type": "markdown",
   "id": "e7291192",
   "metadata": {},
   "source": [
    "## 271~280"
   ]
  },
  {
   "cell_type": "markdown",
   "id": "e2e29f13",
   "metadata": {},
   "source": [
    "### 271 Account 클래스"
   ]
  },
  {
   "cell_type": "code",
   "execution_count": 80,
   "id": "6b613fc2",
   "metadata": {},
   "outputs": [
    {
     "name": "stdout",
     "output_type": "stream",
     "text": [
      "SC은행 장동길 012-94-599652 500000\n"
     ]
    }
   ],
   "source": [
    "# 은행에 가서 계좌를 개설하면 은행이름, 예금주, 계좌번호, 잔액이 설정됩니다. \n",
    "# Account 클래스를 생성한 후 생성자를 구현해보세요. 생성자에서는 예금주와 초기 잔액만 입력 받습니다. \n",
    "# 은행이름은 SC은행으로 계좌번호는 3자리-2자리-6자리 형태로 랜덤하게 생성됩니다.\n",
    "\n",
    "import random                 # random 숫자를 랜덤으로 뽑기위해 미리 선언\n",
    "\n",
    "class Account :\n",
    "    def __init__(self, 예금주, 잔액):\n",
    "        self.예금주 = 예금주\n",
    "        self.잔액 = 잔액\n",
    "        self.은행이름 = \"SC은행\"\n",
    "        \n",
    "        num1=random.randint(0,999)              # random.randint(0,000) 0부터 000사이의 숫자 랜덤 생성\n",
    "        num2=random.randint(0,99)\n",
    "        num3=random.randint(0,999999)\n",
    "        \n",
    "        num1= str(num1).zfill(3)                # 뽑은 숫자를 문자열로 변경 + zfill(n) n자릿수로 채워줌 ex) 99 -> 099\n",
    "        num2= str(num2).zfill(2)\n",
    "        num3= str(num3).zfill(6)\n",
    "        \n",
    "        self.계좌번호 = (num1+ \"-\"+num2+ \"-\"+num3)\n",
    "    \n",
    "        print(self.은행이름,self.예금주,self.계좌번호,self.잔액)\n",
    "\n",
    "JDG=Account(\"장동길\",500000)"
   ]
  },
  {
   "cell_type": "markdown",
   "id": "61694022",
   "metadata": {},
   "source": [
    "### 272 클래스 변수"
   ]
  },
  {
   "cell_type": "code",
   "execution_count": 84,
   "id": "e5492192",
   "metadata": {},
   "outputs": [
    {
     "name": "stdout",
     "output_type": "stream",
     "text": [
      "SC은행 장동길 354-60-218556 500000\n",
      "SC은행 장동준 919-50-683927 5000\n",
      "SC은행 한해랑 376-13-124686 500000000\n",
      "3\n"
     ]
    }
   ],
   "source": [
    "# 클래스 변수를 사용해서 Account 클래스로부터 생성된 계좌 객체의 개수를 저장하세요.\n",
    "\n",
    "import random                 \n",
    "\n",
    "class Account :\n",
    "    \n",
    "    account_count = 0                     #클래스 안에 변수를 하나 생성\n",
    "    \n",
    "    def __init__(self, 예금주, 잔액):\n",
    "        self.예금주 = 예금주\n",
    "        self.잔액 = 잔액\n",
    "        self.은행이름 = \"SC은행\"\n",
    "        \n",
    "        num1=random.randint(0,999)              \n",
    "        num2=random.randint(0,99)\n",
    "        num3=random.randint(0,999999)\n",
    "        \n",
    "        num1= str(num1).zfill(3)               \n",
    "        num2= str(num2).zfill(2)\n",
    "        num3= str(num3).zfill(6)\n",
    "        \n",
    "        self.계좌번호 = (num1+ \"-\"+num2+ \"-\"+num3)\n",
    "    \n",
    "        print(self.은행이름,self.예금주,self.계좌번호,self.잔액)\n",
    "        \n",
    "        Account.account_count += 1       #Account 클래스 안에 선언된 account_count 를 1개 더한다\n",
    "        \n",
    "        \n",
    "JDG=Account(\"장동길\",500000)\n",
    "rrr=Account(\"장동준\",5000)\n",
    "hhr=Account(\"한해랑\",500000000)\n",
    "\n",
    "print(Account.account_count)"
   ]
  },
  {
   "cell_type": "markdown",
   "id": "d6b6dbcf",
   "metadata": {},
   "source": [
    "### 273 클래스 변수 출력"
   ]
  },
  {
   "cell_type": "code",
   "execution_count": 92,
   "id": "8fb9edbf",
   "metadata": {},
   "outputs": [
    {
     "name": "stdout",
     "output_type": "stream",
     "text": [
      "SC은행 장동길 049-97-511826 500000\n",
      "SC은행 장동준 767-19-630743 5000\n",
      "SC은행 한해랑 671-59-061344 500000000\n",
      "SC은행 한d랑 011-01-658583 500000000\n",
      "4\n"
     ]
    }
   ],
   "source": [
    "# Account 클래스로부터 생성된 계좌의 개수를 출력하는 get_account_num() 메서드를 추가하세요.\n",
    "\n",
    "import random                 \n",
    "\n",
    "class Account :\n",
    "    \n",
    "    account_count = 0                     #클래스 안에 변수를 하나 생성\n",
    "    \n",
    "    def __init__(self, 예금주, 잔액):\n",
    "        self.예금주 = 예금주\n",
    "        self.잔액 = 잔액\n",
    "        self.은행이름 = \"SC은행\"\n",
    "        \n",
    "        num1=random.randint(0,999)              \n",
    "        num2=random.randint(0,99)\n",
    "        num3=random.randint(0,999999)\n",
    "        \n",
    "        num1= str(num1).zfill(3)               \n",
    "        num2= str(num2).zfill(2)\n",
    "        num3= str(num3).zfill(6)\n",
    "        \n",
    "        self.계좌번호 = (num1+ \"-\"+num2+ \"-\"+num3)\n",
    "    \n",
    "        print(self.은행이름,self.예금주,self.계좌번호,self.잔액)\n",
    "        \n",
    "        Account.account_count += 1       \n",
    "    \n",
    "    @classmethod                     # 클래스에 직접 접근?\n",
    "    def get_account_num(cls):\n",
    "        print(cls.account_count)     # 클래스메서드 선언하면    Account.get_account_num(kim)  으로 쓴것과 동일해짐\n",
    "        \n",
    "        \n",
    "JDG=Account(\"장동길\",500000)\n",
    "rrr=Account(\"장동준\",5000)\n",
    "hhr=Account(\"한해랑\",500000000)\n",
    "dfr=Account(\"한d랑\",500000000)\n",
    "\n",
    "JDG.get_account_num()"
   ]
  },
  {
   "cell_type": "markdown",
   "id": "da8158fa",
   "metadata": {},
   "source": [
    "### 274 입금 메서드"
   ]
  },
  {
   "cell_type": "code",
   "execution_count": 116,
   "id": "eab81289",
   "metadata": {},
   "outputs": [
    {
     "data": {
      "text/plain": [
       "1500000"
      ]
     },
     "execution_count": 116,
     "metadata": {},
     "output_type": "execute_result"
    }
   ],
   "source": [
    "# Account 클래스에 입금을 위한 deposit 메서드를 추가하세요. 입금은 최소 1원 이상만 가능합니다.\n",
    "\n",
    "\n",
    "import random                 \n",
    "\n",
    "class Account :\n",
    "    \n",
    "    account_count = 0                     #클래스 안에 변수를 하나 생성\n",
    "    \n",
    "    def __init__(self, 예금주, 잔액):\n",
    "        self.예금주 = 예금주\n",
    "        self.잔액 = 잔액\n",
    "        self.은행이름 = \"SC은행\"\n",
    "        \n",
    "        num1=random.randint(0,999)              \n",
    "        num2=random.randint(0,99)\n",
    "        num3=random.randint(0,999999)\n",
    "        \n",
    "        num1= str(num1).zfill(3)               \n",
    "        num2= str(num2).zfill(2)\n",
    "        num3= str(num3).zfill(6)\n",
    "        \n",
    "        self.계좌번호 = (num1+ \"-\"+num2+ \"-\"+num3)\n",
    "    \n",
    "        print(self.은행이름,self.예금주,self.계좌번호,self.잔액)\n",
    "        \n",
    "        Account.account_count += 1       \n",
    "    \n",
    "    @classmethod                     # 클래스에 직접 접근?\n",
    "    def get_account_num(cls):\n",
    "        print(cls.account_count)     # 클래스메서드 선언하면    Account.get_account_num(kim)  으로 쓴것과 동일해짐\n",
    "        \n",
    "    def deposit(self, 입금):\n",
    "        if 입금 >= 1:\n",
    "            self.잔액 += 입금\n",
    "        \n",
    "\n",
    "\n",
    "JDG.deposit(100000)\n",
    "JDG.잔액"
   ]
  },
  {
   "cell_type": "markdown",
   "id": "f05aa58c",
   "metadata": {},
   "source": [
    "### 275 출금 메서드"
   ]
  },
  {
   "cell_type": "code",
   "execution_count": 148,
   "id": "704f082b",
   "metadata": {},
   "outputs": [
    {
     "data": {
      "text/plain": [
       "200000"
      ]
     },
     "execution_count": 148,
     "metadata": {},
     "output_type": "execute_result"
    }
   ],
   "source": [
    "#Account 클래스에 출금을 위한 withdraw 메서드를 추가하세요. 출금은 계좌의 잔고 이상으로 출금할 수는 없습니다.\n",
    "\n",
    "\n",
    "import random                 \n",
    "\n",
    "class Account :\n",
    "    \n",
    "    account_count = 0                     #클래스 안에 변수를 하나 생성\n",
    "    \n",
    "    def __init__(self, 예금주, 잔액):\n",
    "        self.예금주 = 예금주\n",
    "        self.잔액 = 잔액\n",
    "        self.은행이름 = \"SC은행\"\n",
    "        \n",
    "        num1=random.randint(0,999)              \n",
    "        num2=random.randint(0,99)\n",
    "        num3=random.randint(0,999999)\n",
    "        \n",
    "        num1= str(num1).zfill(3)               \n",
    "        num2= str(num2).zfill(2)\n",
    "        num3= str(num3).zfill(6)\n",
    "        \n",
    "        self.계좌번호 = (num1+ \"-\"+num2+ \"-\"+num3)\n",
    "    \n",
    "        print(self.은행이름,self.예금주,self.계좌번호,self.잔액)\n",
    "        \n",
    "        Account.account_count += 1       \n",
    "    \n",
    "    @classmethod                   \n",
    "    def get_account_num(cls):\n",
    "        print(cls.account_count) \n",
    "        \n",
    "    def deposit(self, 금액):\n",
    "        if 금액 >= 1:\n",
    "            self.잔액 += 금액\n",
    "    \n",
    "    def withdraw(self, 금액):\n",
    "        if self.잔액 >= 금액:\n",
    "            self.잔액 -= 금액\n",
    "\n",
    "\n",
    "JDG.withdraw(100000)\n",
    "JDG.잔액"
   ]
  },
  {
   "cell_type": "markdown",
   "id": "ac8bc489",
   "metadata": {},
   "source": [
    "### 276 정보 출력 메서드"
   ]
  },
  {
   "cell_type": "code",
   "execution_count": 161,
   "id": "68a4589d",
   "metadata": {},
   "outputs": [
    {
     "name": "stdout",
     "output_type": "stream",
     "text": [
      "SC은행 장동길 473-62-978898 500000\n",
      "은행이름:SC은행 예금주:장동길 계좌번호:473-62-978898 잔액:500,000\n"
     ]
    }
   ],
   "source": [
    "# Account 인스턴스에 저장된 정보를 출력하는 display_info() 메서드를 추가하세요. 잔고는 세자리마다 쉼표를 출력하세요.\n",
    "\n",
    "\n",
    "import random                 \n",
    "\n",
    "class Account :\n",
    "    \n",
    "    account_count = 0                     #클래스 안에 변수를 하나 생성\n",
    "    \n",
    "    def __init__(self, 예금주, 잔액):\n",
    "        self.예금주 = 예금주\n",
    "        self.잔액 = 잔액\n",
    "        self.은행이름 = \"SC은행\"\n",
    "        \n",
    "        num1=random.randint(0,999)              \n",
    "        num2=random.randint(0,99)\n",
    "        num3=random.randint(0,999999)\n",
    "        \n",
    "        num1= str(num1).zfill(3)               \n",
    "        num2= str(num2).zfill(2)\n",
    "        num3= str(num3).zfill(6)\n",
    "        \n",
    "        self.계좌번호 = (num1+ \"-\"+num2+ \"-\"+num3)\n",
    "    \n",
    "        print(self.은행이름,self.예금주,self.계좌번호,self.잔액)\n",
    "        \n",
    "        Account.account_count += 1       \n",
    "    \n",
    "    @classmethod                   \n",
    "    def get_account_num(cls):\n",
    "        print(cls.account_count) \n",
    "        \n",
    "    def deposit(self, 금액):\n",
    "        if 금액 >= 1:\n",
    "            self.잔액 += 금액\n",
    "    \n",
    "    def withdraw(self, 금액):\n",
    "        if self.잔액 >= 금액:\n",
    "            self.잔액 -= 금액\n",
    "            \n",
    "    def display_info(self):\n",
    "        print(\"은행이름:\"+ self.은행이름, \"예금주:\"+ self.예금주, \"계좌번호:\"+ self.계좌번호, \"잔액:\"+f\"{self.잔액:,}\")\n",
    "        \n",
    "JDG=Account(\"장동길\",500000)\n",
    "JDG.display_info()"
   ]
  },
  {
   "cell_type": "markdown",
   "id": "0ae0258d",
   "metadata": {},
   "source": [
    "### 177"
   ]
  },
  {
   "cell_type": "code",
   "execution_count": 91,
   "id": "0903e177",
   "metadata": {
    "scrolled": true
   },
   "outputs": [
    {
     "name": "stdout",
     "output_type": "stream",
     "text": [
      "라 다\n",
      "다 나\n",
      "나 가\n"
     ]
    }
   ],
   "source": [
    "# 반복문과 range 함수를 사용해서 my_list를 아래와 같이 출력하라.\n",
    "\n",
    "my_list = [\"가\", \"나\", \"다\", \"라\"]\n",
    "\n",
    "for a in range(1, len(my_list)) :\n",
    "    print(my_list[-a],my_list[-a-1])"
   ]
  },
  {
   "cell_type": "markdown",
   "id": "883bb9be",
   "metadata": {},
   "source": [
    "### 178  "
   ]
  },
  {
   "cell_type": "code",
   "execution_count": 95,
   "id": "06df30c2",
   "metadata": {},
   "outputs": [
    {
     "name": "stdout",
     "output_type": "stream",
     "text": [
      "100\n",
      "200\n",
      "400\n"
     ]
    }
   ],
   "source": [
    "# 리스트에는 네 개의 정수가 저장되어 있다. 각각의 데이터에 대해서 자신과 우측값과의 차분값을 화면에 출력하라.\n",
    "\n",
    "my_list = [100, 200, 400, 800]\n",
    "\n",
    "for a in range(0, len(my_list)-1) :\n",
    "    print(my_list[a+1] - my_list[a])"
   ]
  },
  {
   "cell_type": "markdown",
   "id": "c041a86a",
   "metadata": {},
   "source": [
    "### 179"
   ]
  },
  {
   "cell_type": "code",
   "execution_count": 96,
   "id": "d7d56542",
   "metadata": {},
   "outputs": [
    {
     "name": "stdout",
     "output_type": "stream",
     "text": [
      "233.33333333333334\n",
      "466.6666666666667\n",
      "733.3333333333334\n",
      "1033.3333333333333\n"
     ]
    }
   ],
   "source": [
    "# 리스트에는 6일 간의 종가 데이터가 저장되어 있다. 종가 데이터의 3일 이동 평균을 계산하고 이를 화면에 출력하라.\n",
    "\n",
    "my_list = [100, 200, 400, 800, 1000, 1300]\n",
    "\n",
    "#첫 번째 줄에는 100, 200, 400의 평균값이 출력된다. 두 번째 줄에는 200, 400, 800의 평균값이 출력된다.\n",
    "# 같은 방식으로 나머지 데이터의 평균을 출력한다.\n",
    "\n",
    "for a in range(0, len(my_list)-2) :\n",
    "    print((my_list[a] + my_list[a+1] + my_list[a+2])/3)"
   ]
  },
  {
   "cell_type": "markdown",
   "id": "19900910",
   "metadata": {},
   "source": [
    "### 180\n"
   ]
  },
  {
   "cell_type": "code",
   "execution_count": 107,
   "id": "e24ae20f",
   "metadata": {},
   "outputs": [
    {
     "name": "stdout",
     "output_type": "stream",
     "text": [
      "[50]\n",
      "[50, 100]\n",
      "[50, 100, 30]\n",
      "[50, 100, 30, 80]\n",
      "[50, 100, 30, 80, 0]\n"
     ]
    }
   ],
   "source": [
    "# 리스트에 5일간의 저가, 고가 정보가 저장돼 있다. 고가와 저가의 차를 변동폭이라고 정의할 때, \n",
    "# low, high 두 개의 리스트를 사용해서 5일간의 변동폭을 volatility 리스트에 저장하라.\n",
    "\n",
    "low_prices  = [100, 200, 400, 800, 1000]\n",
    "high_prices = [150, 300, 430, 880, 1000]\n",
    "\n",
    "volatility=[]\n",
    "\n",
    "for a in range(len(low_prices)) :\n",
    "    volatility.append(high_prices[a] - low_prices[a])\n",
    "    print(volatility)"
   ]
  },
  {
   "cell_type": "code",
   "execution_count": 105,
   "id": "46bf42f8",
   "metadata": {},
   "outputs": [
    {
     "name": "stdout",
     "output_type": "stream",
     "text": [
      "[50]\n",
      "[50, 100]\n",
      "[50, 100, 30]\n",
      "[50, 100, 30, 80]\n",
      "[50, 100, 30, 80, 0]\n"
     ]
    }
   ],
   "source": [
    "low_prices  = [100, 200, 400, 800, 1000]\n",
    "high_prices = [150, 300, 430, 880, 1000]\n",
    "\n",
    "volatility = []\n",
    "for i in range(len(low_prices)) :\n",
    "    volatility.append(high_prices[i] - low_prices[i])\n",
    "    print(volatility)"
   ]
  },
  {
   "cell_type": "markdown",
   "id": "33e9844c",
   "metadata": {},
   "source": [
    "## 181~190"
   ]
  },
  {
   "cell_type": "markdown",
   "id": "f1a57039",
   "metadata": {},
   "source": [
    "### 181\n"
   ]
  },
  {
   "cell_type": "code",
   "execution_count": 109,
   "id": "23a02217",
   "metadata": {},
   "outputs": [
    {
     "name": "stdout",
     "output_type": "stream",
     "text": [
      "['201호', '202호']\n"
     ]
    }
   ],
   "source": [
    "#  아래 표에서 하나의 행을 하나의 리스트로, 총 3개의 리스트를 갖는 이차원 리스트 apart를 정의하라.\n",
    "\n",
    "apart = [ [\"101호\", \"102호\"], [\"201호\", \"202호\"], [\"301호\", \"302호\"] ]\n",
    "\n",
    "print(apart[1])"
   ]
  },
  {
   "cell_type": "markdown",
   "id": "70f2c427",
   "metadata": {},
   "source": [
    "### 182"
   ]
  },
  {
   "cell_type": "code",
   "execution_count": 112,
   "id": "ceb6f108",
   "metadata": {},
   "outputs": [
    {
     "data": {
      "text/plain": [
       "[['시가', 100, 200, 300], ['종가', 80, 210, 330]]"
      ]
     },
     "execution_count": 112,
     "metadata": {},
     "output_type": "execute_result"
    }
   ],
   "source": [
    "# 아래 표에서 하나의 열을 하나의 리스트로, 총 2개의 리스트를 갖는 이차원 리스트 stock을 정의하라.\n",
    "\n",
    "\n",
    "stock = [[\"시가\", 100, 200, 300],[\"종가\", 80, 210, 330]]\n",
    "stock"
   ]
  },
  {
   "cell_type": "markdown",
   "id": "6a6d1e70",
   "metadata": {},
   "source": [
    "### 183 "
   ]
  },
  {
   "cell_type": "code",
   "execution_count": 116,
   "id": "22da6459",
   "metadata": {},
   "outputs": [
    {
     "data": {
      "text/plain": [
       "{'시가': [100, 200, 300], '종가': [80, 210, 330]}"
      ]
     },
     "execution_count": 116,
     "metadata": {},
     "output_type": "execute_result"
    }
   ],
   "source": [
    "# 아래 표를 stock 이름의 딕셔너리로 표현하라.시가를 key로 저장하고, 나머지 같은 열의 데이터를 리스트로 저장해서 value로 저장한다. \n",
    "# 종가 역시 key로 저장하고 나머지 같은 열의 데이터를 리스트로 저장해서 value로 저장한다\n",
    "\n",
    "stock = {\"시가\": [100,200,300],\"종가\": [80,210,330]}\n",
    "stock"
   ]
  },
  {
   "cell_type": "markdown",
   "id": "c56d3bc1",
   "metadata": {},
   "source": [
    "### 184 "
   ]
  },
  {
   "cell_type": "code",
   "execution_count": 117,
   "id": "2ba8d49f",
   "metadata": {},
   "outputs": [
    {
     "data": {
      "text/plain": [
       "{'10/10': [80, 110, 70, 90], '10/11': [210, 230, 190, 200]}"
      ]
     },
     "execution_count": 117,
     "metadata": {},
     "output_type": "execute_result"
    }
   ],
   "source": [
    "# 아래 표를 stock 이라는 이름의 딕셔너리로 표현하라. 날짜를 key로 저장하고,\n",
    "# 나머지 같은 행의 데이터를 리스트로 저장해서 value로 저장한다. 첫 열이 날짜이다.\n",
    "\n",
    "stock = {\"10/10\":[80,110,70,90], \"10/11\":[210,230,190,200]}\n",
    "stock"
   ]
  },
  {
   "cell_type": "markdown",
   "id": "3213ceff",
   "metadata": {},
   "source": [
    "### 185"
   ]
  },
  {
   "cell_type": "code",
   "execution_count": 119,
   "id": "623db9a0",
   "metadata": {},
   "outputs": [
    {
     "name": "stdout",
     "output_type": "stream",
     "text": [
      "[101, 102] 101 호\n",
      "[101, 102] 102 호\n",
      "[201, 202] 201 호\n",
      "[201, 202] 202 호\n",
      "[301, 302] 301 호\n",
      "[301, 302] 302 호\n"
     ]
    }
   ],
   "source": [
    "# 리스트에 저장된 데이터를 아래와 같이 출력하라.\n",
    "\n",
    "apart = [ [101, 102], [201, 202], [301, 302] ]\n",
    "\n",
    "for row in apart:\n",
    "    for col in row:\n",
    "        print(row, col, \"호\")"
   ]
  },
  {
   "cell_type": "markdown",
   "id": "ab710953",
   "metadata": {},
   "source": [
    "### 186"
   ]
  },
  {
   "cell_type": "code",
   "execution_count": 120,
   "id": "95a766ac",
   "metadata": {},
   "outputs": [
    {
     "name": "stdout",
     "output_type": "stream",
     "text": [
      "301 호\n",
      "302 호\n",
      "201 호\n",
      "202 호\n",
      "101 호\n",
      "102 호\n"
     ]
    }
   ],
   "source": [
    "#리스트에 저장된 데이터를 아래와 같이 출력하라.\n",
    "\n",
    "apart = [ [101, 102], [201, 202], [301, 302] ]\n",
    "\n",
    "for row in apart[::-1]:\n",
    "    for col in row:\n",
    "        print(col, \"호\")"
   ]
  },
  {
   "cell_type": "markdown",
   "id": "fced79c1",
   "metadata": {},
   "source": [
    "### 187"
   ]
  },
  {
   "cell_type": "code",
   "execution_count": 121,
   "id": "b1703ac9",
   "metadata": {},
   "outputs": [
    {
     "name": "stdout",
     "output_type": "stream",
     "text": [
      "302 호\n",
      "301 호\n",
      "202 호\n",
      "201 호\n",
      "102 호\n",
      "101 호\n"
     ]
    }
   ],
   "source": [
    "#리스트에 저장된 데이터를 아래와 같이 출력하라.\n",
    "\n",
    "apart = [ [101, 102], [201, 202], [301, 302] ]\n",
    "\n",
    "for row in apart[::-1]:\n",
    "    for col in row[::-1]:\n",
    "        print(col, \"호\")"
   ]
  },
  {
   "cell_type": "markdown",
   "id": "b4b18845",
   "metadata": {},
   "source": [
    "### 188"
   ]
  },
  {
   "cell_type": "code",
   "execution_count": 122,
   "id": "0883529d",
   "metadata": {},
   "outputs": [
    {
     "name": "stdout",
     "output_type": "stream",
     "text": [
      "101 호\n",
      "-----\n",
      "102 호\n",
      "-----\n",
      "201 호\n",
      "-----\n",
      "202 호\n",
      "-----\n",
      "301 호\n",
      "-----\n",
      "302 호\n",
      "-----\n"
     ]
    }
   ],
   "source": [
    "#리스트에 저장된 데이터를 아래와 같이 출력하라.\n",
    "\n",
    "apart = [ [101, 102], [201, 202], [301, 302] ]\n",
    "\n",
    "for row in apart:\n",
    "    for col in row:\n",
    "        print(col, \"호\")\n",
    "        print(\"-----\")"
   ]
  },
  {
   "cell_type": "markdown",
   "id": "64c082b5",
   "metadata": {},
   "source": [
    "### 189"
   ]
  },
  {
   "cell_type": "code",
   "execution_count": 123,
   "id": "191bcfa8",
   "metadata": {},
   "outputs": [
    {
     "name": "stdout",
     "output_type": "stream",
     "text": [
      "101 호\n",
      "102 호\n",
      "-----\n",
      "201 호\n",
      "202 호\n",
      "-----\n",
      "301 호\n",
      "302 호\n",
      "-----\n"
     ]
    }
   ],
   "source": [
    "#리스트에 저장된 데이터를 아래와 같이 출력하라.\n",
    "\n",
    "apart = [ [101, 102], [201, 202], [301, 302] ]\n",
    "\n",
    "for row in apart:\n",
    "    for col in row:\n",
    "        print(col, \"호\")\n",
    "    print(\"-----\")"
   ]
  },
  {
   "cell_type": "markdown",
   "id": "da69d986",
   "metadata": {},
   "source": [
    "### 190"
   ]
  },
  {
   "cell_type": "code",
   "execution_count": 124,
   "id": "76cbd319",
   "metadata": {},
   "outputs": [
    {
     "name": "stdout",
     "output_type": "stream",
     "text": [
      "101 호\n",
      "102 호\n",
      "201 호\n",
      "202 호\n",
      "301 호\n",
      "302 호\n",
      "-----\n"
     ]
    }
   ],
   "source": [
    "#리스트에 저장된 데이터를 아래와 같이 출력하라.\n",
    "\n",
    "apart = [ [101, 102], [201, 202], [301, 302] ]\n",
    "\n",
    "for row in apart:\n",
    "    for col in row:\n",
    "        print(col, \"호\")\n",
    "print(\"-----\")"
   ]
  },
  {
   "cell_type": "markdown",
   "id": "d0bd8934",
   "metadata": {},
   "source": [
    "## 191~200"
   ]
  },
  {
   "cell_type": "markdown",
   "id": "55ae41d0",
   "metadata": {},
   "source": [
    "### 191"
   ]
  },
  {
   "cell_type": "code",
   "execution_count": 12,
   "id": "c66df8e5",
   "metadata": {},
   "outputs": [
    {
     "name": "stdout",
     "output_type": "stream",
     "text": [
      "2000.28\n",
      "3050.427\n",
      "2050.2870000000003\n",
      "1980.2772\n",
      "7501.05\n",
      "2050.2870000000003\n",
      "2050.2870000000003\n",
      "1980.2772\n",
      "15452.163\n",
      "15052.107\n",
      "15552.177\n",
      "14902.086000000001\n"
     ]
    }
   ],
   "source": [
    "# data에는 매수한 종목들의 OHLC (open/high/low/close) 가격 정보가 바인딩 되어있다.\n",
    "\n",
    "data = [\n",
    "    [ 2000,  3050,  2050,  1980],\n",
    "    [ 7500,  2050,  2050,  1980],\n",
    "    [15450, 15050, 15550, 14900]\n",
    "]\n",
    "\n",
    "#수수료를 0.014 %로 가정할 때, 각 가격에 수수료를 포함한 가격을 한라인에 하나씩 출력하라.\n",
    "\n",
    "for price in data:\n",
    "    for price2 in price:\n",
    "        vat=price2*1.00014\n",
    "        print(vat)"
   ]
  },
  {
   "cell_type": "markdown",
   "id": "19e81257",
   "metadata": {},
   "source": [
    "### 192"
   ]
  },
  {
   "cell_type": "code",
   "execution_count": 13,
   "id": "5fe869cd",
   "metadata": {},
   "outputs": [
    {
     "name": "stdout",
     "output_type": "stream",
     "text": [
      "2000.28\n",
      "3050.427\n",
      "2050.2870000000003\n",
      "1980.2772\n",
      "-----\n",
      "7501.05\n",
      "2050.2870000000003\n",
      "2050.2870000000003\n",
      "1980.2772\n",
      "-----\n",
      "15452.163\n",
      "15052.107\n",
      "15552.177\n",
      "14902.086000000001\n",
      "-----\n"
     ]
    }
   ],
   "source": [
    "# 191번의 출력 결과에 행단위로 \"----\" 구분자를 추가하라.\n",
    "\n",
    "\n",
    "for price in data:\n",
    "    for price2 in price:\n",
    "        vat=price2*1.00014\n",
    "        print(vat)\n",
    "    print(\"-\"*5)"
   ]
  },
  {
   "cell_type": "markdown",
   "id": "b7089bab",
   "metadata": {},
   "source": [
    "### 193"
   ]
  },
  {
   "cell_type": "code",
   "execution_count": 29,
   "id": "9e7cb383",
   "metadata": {},
   "outputs": [
    {
     "name": "stdout",
     "output_type": "stream",
     "text": [
      "[2000.28, 3050.427, 2050.2870000000003, 1980.2772, 7501.05, 2050.2870000000003, 2050.2870000000003, 1980.2772, 15452.163, 15052.107, 15552.177, 14902.086000000001]\n"
     ]
    }
   ],
   "source": [
    "# 192 번 문제의 결괏값을 result 이름의 리스트에 1차원 배열로 저장하라.\n",
    "\n",
    "result=[]\n",
    "for price in data:\n",
    "    for price2 in price:\n",
    "        result.append(price2*1.00014)    \n",
    "print(result)\n"
   ]
  },
  {
   "cell_type": "markdown",
   "id": "7caced55",
   "metadata": {},
   "source": [
    "### 194"
   ]
  },
  {
   "cell_type": "code",
   "execution_count": 47,
   "id": "f71e0942",
   "metadata": {},
   "outputs": [
    {
     "name": "stdout",
     "output_type": "stream",
     "text": [
      "[[2000.28, 3050.427, 2050.2870000000003, 1980.2772], [7501.05, 2050.2870000000003, 2050.2870000000003, 1980.2772], [15452.163, 15052.107, 15552.177, 14902.086000000001]]\n"
     ]
    }
   ],
   "source": [
    "# 191번 문제의 결괏값을 result 이름의 리스트에 2차원 배열로 저장하라. 저장 포맷은 아래와 같다. \n",
    "# 각 행에 대한 데이터끼리 리스트에 저장되어야 한다.\n",
    "\n",
    "result=[]\n",
    "for price in data:\n",
    "    sub=[]\n",
    "    for price2 in price:\n",
    "        sub.append(price2*1.00014)    \n",
    "    result.append(sub)\n",
    "print(result)"
   ]
  },
  {
   "cell_type": "markdown",
   "id": "96a530e2",
   "metadata": {},
   "source": [
    "### 195"
   ]
  },
  {
   "cell_type": "code",
   "execution_count": 51,
   "id": "0b92f336",
   "metadata": {},
   "outputs": [
    {
     "name": "stdout",
     "output_type": "stream",
     "text": [
      "100\n",
      "190\n",
      "310\n"
     ]
    }
   ],
   "source": [
    "# ohlc 리스트에는 시가(open), 고가 (high), 저가 (low) , 종가(close)가 날짜별로 저장돼 있다. 화면에 종가데이터를 출력하라.\n",
    "\n",
    "ohlc = [[\"open\", \"high\", \"low\", \"close\"],\n",
    "        [100, 110, 70, 100],\n",
    "        [200, 210, 180, 190],\n",
    "        [300, 310, 300, 310]]\n",
    "for price in ohlc[1:]:\n",
    "    print(price[3])\n"
   ]
  },
  {
   "cell_type": "markdown",
   "id": "6ac776e6",
   "metadata": {},
   "source": [
    "### 196"
   ]
  },
  {
   "cell_type": "code",
   "execution_count": 55,
   "id": "cc552b4f",
   "metadata": {},
   "outputs": [
    {
     "name": "stdout",
     "output_type": "stream",
     "text": [
      "190\n",
      "310\n"
     ]
    }
   ],
   "source": [
    "# ohlc 리스트에는 시가(open), 고가 (high), 저가 (low) , 종가(close)가 날짜별로 저장돼 있다. \n",
    "# 종가가 150원보다 큰경우에만 종가를 출력하라.\n",
    "\n",
    "ohlc = [[\"open\", \"high\", \"low\", \"close\"],\n",
    "        [100, 110, 70, 100],\n",
    "        [200, 210, 180, 190],\n",
    "        [300, 310, 300, 310]]\n",
    "\n",
    "for price in ohlc[1:]:\n",
    "    if price[3] > 150 :\n",
    "        print(price[3])"
   ]
  },
  {
   "cell_type": "markdown",
   "id": "3f82ffa1",
   "metadata": {},
   "source": [
    "### 197"
   ]
  },
  {
   "cell_type": "code",
   "execution_count": 58,
   "id": "06015a9a",
   "metadata": {},
   "outputs": [
    {
     "name": "stdout",
     "output_type": "stream",
     "text": [
      "100\n",
      "310\n"
     ]
    }
   ],
   "source": [
    "# ohlc 리스트에는 시가(open), 고가 (high), 저가 (low) , 종가(close)가 날짜별로 저장돼 있다. \n",
    "# 종가가 시가 보다 크거나 같은 경우에만 종가를 출력하라.\n",
    "\n",
    "ohlc = [[\"open\", \"high\", \"low\", \"close\"],\n",
    "        [100, 110, 70, 100],\n",
    "        [200, 210, 180, 190],\n",
    "        [300, 310, 300, 310]]\n",
    "\n",
    "for price in ohlc[1:]:\n",
    "    if price[3] >= price[0] :\n",
    "        print(price[3])"
   ]
  },
  {
   "cell_type": "markdown",
   "id": "d25b7422",
   "metadata": {},
   "source": [
    "### 198\n"
   ]
  },
  {
   "cell_type": "code",
   "execution_count": 63,
   "id": "c08cd4bd",
   "metadata": {},
   "outputs": [
    {
     "name": "stdout",
     "output_type": "stream",
     "text": [
      "[40, 30, 10]\n"
     ]
    }
   ],
   "source": [
    "# ohlc 리스트에는 시가(open), 고가 (high), 저가 (low) , 종가(close)가 날짜별로 저장돼 있다. \n",
    "# 고가와 저가의 차이를 변동폭으로 정의할 때 변동폭을 volatility 이름의 리스트에 저장하라.\n",
    "\n",
    "\n",
    "ohlc = [[\"open\", \"high\", \"low\", \"close\"],\n",
    "        [100, 110, 70, 100],\n",
    "        [200, 210, 180, 190],\n",
    "        [300, 310, 300, 310]]\n",
    "\n",
    "volatility = []\n",
    "for price in ohlc[1:]:\n",
    "    volatility.append(price[1] - price[2])\n",
    "print(volatility)"
   ]
  },
  {
   "cell_type": "markdown",
   "id": "a324591a",
   "metadata": {},
   "source": [
    "### 199"
   ]
  },
  {
   "cell_type": "code",
   "execution_count": 70,
   "id": "1bdea1bd",
   "metadata": {},
   "outputs": [
    {
     "name": "stdout",
     "output_type": "stream",
     "text": [
      "10\n"
     ]
    }
   ],
   "source": [
    "# ohlc 리스트에는 시가(open), 고가 (high), 저가 (low) , 종가(close)가 날짜별로 저장돼 있다. \n",
    "# 종가가 시가보다 높은 날의 변동성 (고가 - 저가)을 화면에 출력하라.\n",
    "# 종가가 시가보다 높은 거래일의 OHLC는 [300, 310, 300, 310] 이다. 따라서 이 거래일의 변동성은 10 (310 - 300)이다.\n",
    "\n",
    "ohlc = [[\"open\", \"high\", \"low\", \"close\"],\n",
    "        [100, 110, 70, 100],\n",
    "        [200, 210, 180, 190],\n",
    "        [300, 310, 300, 310]]\n",
    "\n",
    "\n",
    "for price in ohlc[1:]:\n",
    "    if price[3] > price[0] :\n",
    "        print(price[1] - price[2])\n",
    "    "
   ]
  },
  {
   "cell_type": "markdown",
   "id": "c7880f5a",
   "metadata": {},
   "source": [
    "### 200"
   ]
  },
  {
   "cell_type": "code",
   "execution_count": 82,
   "id": "e1df13e9",
   "metadata": {},
   "outputs": [
    {
     "name": "stdout",
     "output_type": "stream",
     "text": [
      "0\n"
     ]
    }
   ],
   "source": [
    "# ohlc 리스트에는 시가(open), 고가 (high), 저가 (low) , 종가(close)가 날짜별로 저장돼 있다. \n",
    "# 시가에 매수해서 종가에 매도 했을 경우 총 수익금을 계산하라.\n",
    "# 1일차 수익 0원 (100 - 100), 2일차 수익 -10원 (190 - 200), 3일차 수익 10원 (310 - 300) 이다.\n",
    "\n",
    "ohlc = [[\"open\", \"high\", \"low\", \"close\"],\n",
    "        [100, 110, 70, 100],\n",
    "        [200, 210, 180, 190],\n",
    "        [300, 310, 300, 310]]\n",
    "\n",
    "sell = 0\n",
    "for price in ohlc[1:]:\n",
    "    sell += price[3] - price[0]\n",
    "print(sell)\n",
    "    "
   ]
  }
 ],
 "metadata": {
  "kernelspec": {
   "display_name": "Python 3 (ipykernel)",
   "language": "python",
   "name": "python3"
  },
  "language_info": {
   "codemirror_mode": {
    "name": "ipython",
    "version": 3
   },
   "file_extension": ".py",
   "mimetype": "text/x-python",
   "name": "python",
   "nbconvert_exporter": "python",
   "pygments_lexer": "ipython3",
   "version": "3.11.5"
  }
 },
 "nbformat": 4,
 "nbformat_minor": 5
}
