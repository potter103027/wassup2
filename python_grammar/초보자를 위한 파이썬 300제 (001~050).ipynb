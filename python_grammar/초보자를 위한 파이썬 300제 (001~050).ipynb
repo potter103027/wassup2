{
 "cells": [
  {
   "cell_type": "markdown",
   "id": "ee981eed",
   "metadata": {},
   "source": [
    "# 001 ~ 010"
   ]
  },
  {
   "cell_type": "markdown",
   "id": "a54e9e13",
   "metadata": {},
   "source": [
    "### 001 print 기초"
   ]
  },
  {
   "cell_type": "code",
   "execution_count": 2,
   "id": "8602994b",
   "metadata": {},
   "outputs": [
    {
     "name": "stdout",
     "output_type": "stream",
     "text": [
      "Hello World\n"
     ]
    }
   ],
   "source": [
    "# 화면에 Hello World 문자열을 출력하세요.\n",
    "\n",
    "print ('Hello World')"
   ]
  },
  {
   "cell_type": "markdown",
   "id": "ad345e72",
   "metadata": {},
   "source": [
    "### 002 print 기초"
   ]
  },
  {
   "cell_type": "code",
   "execution_count": 3,
   "id": "9ce2543c",
   "metadata": {},
   "outputs": [
    {
     "name": "stdout",
     "output_type": "stream",
     "text": [
      "Mary's cosmetics\n"
     ]
    }
   ],
   "source": [
    "# 화면에 Mary's cosmetics을 출력하세요. \n",
    "print(\"Mary's cosmetics\")"
   ]
  },
  {
   "cell_type": "markdown",
   "id": "8a480963",
   "metadata": {},
   "source": [
    "### 003 print 기초"
   ]
  },
  {
   "cell_type": "code",
   "execution_count": 6,
   "id": "79ba400d",
   "metadata": {},
   "outputs": [
    {
     "name": "stdout",
     "output_type": "stream",
     "text": [
      "신씨가 소리질렀다. \"도둑이야\"\n"
     ]
    }
   ],
   "source": [
    "#화면에 아래 문장을 출력하세요. \n",
    "print('신씨가 소리질렀다. \"도둑이야\"')"
   ]
  },
  {
   "cell_type": "markdown",
   "id": "f6332127",
   "metadata": {},
   "source": [
    "### 004 print 기초"
   ]
  },
  {
   "cell_type": "code",
   "execution_count": 7,
   "id": "6c6fdac5",
   "metadata": {},
   "outputs": [
    {
     "name": "stdout",
     "output_type": "stream",
     "text": [
      "C:\\Windows\n"
     ]
    }
   ],
   "source": [
    "# 화면에 C:\\Windows를 출력하세요.\n",
    "print(\"C:\\Windows\")"
   ]
  },
  {
   "cell_type": "markdown",
   "id": "dac911df",
   "metadata": {},
   "source": [
    "### 005 print 탭과 줄바꿈"
   ]
  },
  {
   "cell_type": "code",
   "execution_count": 10,
   "id": "2ce4797f",
   "metadata": {},
   "outputs": [
    {
     "name": "stdout",
     "output_type": "stream",
     "text": [
      "안녕하세요.\n",
      "만나서\t\t반갑습니다.\n"
     ]
    }
   ],
   "source": [
    "#다음 코드를 실행해보고 \\t와 \\n의 역할을 설명해보세요.\n",
    "print(\"안녕하세요.\\n만나서\\t\\t반갑습니다.\")"
   ]
  },
  {
   "cell_type": "code",
   "execution_count": 11,
   "id": "e97eec67",
   "metadata": {},
   "outputs": [],
   "source": [
    "# \\t 는 tab, \\n은 줄바꿈"
   ]
  },
  {
   "cell_type": "markdown",
   "id": "644d2261",
   "metadata": {},
   "source": [
    "### 006 print 여러 데이터 출력"
   ]
  },
  {
   "cell_type": "code",
   "execution_count": 12,
   "id": "45886334",
   "metadata": {},
   "outputs": [
    {
     "name": "stdout",
     "output_type": "stream",
     "text": [
      "오늘은 일요일\n"
     ]
    }
   ],
   "source": [
    "#print 함수에 두 개의 단어를 입력한 예제입니다. 아래 코드의 출력 결과를 예상해봅시다.\n",
    "\n",
    "print('오늘은', '일요일')"
   ]
  },
  {
   "cell_type": "code",
   "execution_count": null,
   "id": "de7e490e",
   "metadata": {},
   "outputs": [],
   "source": [
    "# 쉼표로 구분하는 경우 2 문자열 값을 모두 출력하고 각 값의 사이에 공백을 넣는다."
   ]
  },
  {
   "cell_type": "markdown",
   "id": "ba404962",
   "metadata": {},
   "source": [
    "### 007 print 기초"
   ]
  },
  {
   "cell_type": "code",
   "execution_count": 20,
   "id": "80523174",
   "metadata": {},
   "outputs": [
    {
     "name": "stdout",
     "output_type": "stream",
     "text": [
      "naver/kakao/sk/samsung\n"
     ]
    }
   ],
   "source": [
    "# print() 함수를 사용하여 다음과 같이 출력하세요.\n",
    "\n",
    "print(\"naver\", \"kakao\", \"sk\", \"samsung\", sep='/')"
   ]
  },
  {
   "cell_type": "code",
   "execution_count": null,
   "id": "6b73b935",
   "metadata": {},
   "outputs": [],
   "source": [
    "# 쉼표로 문자열 구분하고 sep=\"\" 를 추가하면 각 문자열 사이에 해당 기호나 문자 삽입"
   ]
  },
  {
   "cell_type": "markdown",
   "id": "2cd05546",
   "metadata": {},
   "source": [
    "### 008 print 기초"
   ]
  },
  {
   "cell_type": "code",
   "execution_count": 21,
   "id": "73285096",
   "metadata": {},
   "outputs": [
    {
     "name": "stdout",
     "output_type": "stream",
     "text": [
      "naver;kakao;sk;samsung\n"
     ]
    }
   ],
   "source": [
    "# print() 함수를 사용하여 다음과 같이 출력하세요.\n",
    "\n",
    "print(\"naver\", \"kakao\", \"sk\", \"samsung\", sep=';')"
   ]
  },
  {
   "cell_type": "code",
   "execution_count": 23,
   "id": "0df66eb7",
   "metadata": {
    "scrolled": true
   },
   "outputs": [
    {
     "name": "stdout",
     "output_type": "stream",
     "text": [
      "firstsecond\n"
     ]
    }
   ],
   "source": [
    "print(\"first\", end=\"\"); print(\"second\")"
   ]
  },
  {
   "cell_type": "raw",
   "id": "f8604926",
   "metadata": {},
   "source": []
  },
  {
   "cell_type": "markdown",
   "id": "7e8820fb",
   "metadata": {},
   "source": [
    "### 009 print 줄바꿈"
   ]
  },
  {
   "cell_type": "code",
   "execution_count": 36,
   "id": "ce045527",
   "metadata": {
    "scrolled": true
   },
   "outputs": [
    {
     "name": "stdout",
     "output_type": "stream",
     "text": [
      "firstsecond\n"
     ]
    }
   ],
   "source": [
    "#다음 코드를 수정하여 줄바꿈이 없이 출력하세요. (힌트: end='') print 함수는 두 번 사용합니다. 세미콜론 (;)은 한줄에 여러 개의 명령을 작성하기 위해 사용합니다.\n",
    "print(\"first\", end=\"\"); print(\"second\")"
   ]
  },
  {
   "cell_type": "code",
   "execution_count": 29,
   "id": "a8aa7bda",
   "metadata": {},
   "outputs": [],
   "source": [
    "# print 함수 내에 사용하는 end=\"\" 마지막 값 뒤에 문자열이 추가"
   ]
  },
  {
   "cell_type": "markdown",
   "id": "1c8a1745",
   "metadata": {},
   "source": [
    "### 010 연산 결과 출력"
   ]
  },
  {
   "cell_type": "code",
   "execution_count": 38,
   "id": "16f42130",
   "metadata": {},
   "outputs": [
    {
     "name": "stdout",
     "output_type": "stream",
     "text": [
      "0.6\n"
     ]
    }
   ],
   "source": [
    "# 5/3의 결과를 화면에 출력하세요.\n",
    "\n",
    "print(3/5)\n"
   ]
  },
  {
   "cell_type": "markdown",
   "id": "a1a4c156",
   "metadata": {},
   "source": [
    "# 011 ~ 020"
   ]
  },
  {
   "cell_type": "markdown",
   "id": "e7a296fe",
   "metadata": {},
   "source": [
    "### 011 변수 사용하기"
   ]
  },
  {
   "cell_type": "code",
   "execution_count": 39,
   "id": "c31a810d",
   "metadata": {},
   "outputs": [
    {
     "name": "stdout",
     "output_type": "stream",
     "text": [
      "500000\n"
     ]
    }
   ],
   "source": [
    "# 삼성전자라는 변수로 50,000원을 바인딩해보세요. 삼성전자 주식 10주를 보유하고 있을 때 총 평가금액을 출력하세요.\n",
    "\n",
    "삼성전자 = 50000\n",
    "총평가금액 = 삼성전자 * 10\n",
    "print(총평가금액)"
   ]
  },
  {
   "cell_type": "markdown",
   "id": "3301b906",
   "metadata": {},
   "source": [
    "### 012 변수 사용하기"
   ]
  },
  {
   "cell_type": "code",
   "execution_count": 41,
   "id": "7811f2d8",
   "metadata": {},
   "outputs": [
    {
     "name": "stdout",
     "output_type": "stream",
     "text": [
      "298000000000000 <class 'int'>\n",
      "50000 <class 'int'>\n",
      "15.79 <class 'float'>\n"
     ]
    }
   ],
   "source": [
    "# 다음 표는 삼성전자의 일부 투자정보입니다. 변수를 사용해서 시가총액, 현재가, PER 등을 바인딩해보세요.\n",
    "\n",
    "시가총액 = 298000000000000\n",
    "현재가 = 50000\n",
    "PER = 15.79\n",
    "\n",
    "print(시가총액, type(시가총액))\n",
    "print(현재가, type(현재가))\n",
    "print(PER, type(PER))"
   ]
  },
  {
   "cell_type": "markdown",
   "id": "0f6db8b2",
   "metadata": {},
   "source": [
    "### 013 문자열 출력"
   ]
  },
  {
   "cell_type": "code",
   "execution_count": null,
   "id": "413131cf",
   "metadata": {},
   "outputs": [],
   "source": [
    "# 변수 s와 t에는 각각 문자열이 바인딩 되어있습니다.\n",
    "s = \"hello\"\n",
    "t = \"python\""
   ]
  },
  {
   "cell_type": "code",
   "execution_count": 47,
   "id": "c5e4fc7c",
   "metadata": {},
   "outputs": [
    {
     "name": "stdout",
     "output_type": "stream",
     "text": [
      "hello! python\n"
     ]
    }
   ],
   "source": [
    "#두 변수를 이용하여 아래와 같이 출력해보세요.\n",
    "\n",
    "s = \"hello\"\n",
    "t = \"python\"\n",
    "\n",
    "print(s+'!',t)"
   ]
  },
  {
   "cell_type": "markdown",
   "id": "e81e3d6d",
   "metadata": {},
   "source": [
    "### 014 파이썬을 이용한 값 계산"
   ]
  },
  {
   "cell_type": "code",
   "execution_count": 48,
   "id": "8fcc44e3",
   "metadata": {},
   "outputs": [
    {
     "data": {
      "text/plain": [
       "8"
      ]
     },
     "execution_count": 48,
     "metadata": {},
     "output_type": "execute_result"
    }
   ],
   "source": [
    "#아래 코드의 실행 결과를 예상해보세요.\n",
    "\n",
    "2+2*3"
   ]
  },
  {
   "cell_type": "markdown",
   "id": "f904c312",
   "metadata": {},
   "source": [
    "### 015 type 함수"
   ]
  },
  {
   "cell_type": "code",
   "execution_count": 49,
   "id": "ae77011a",
   "metadata": {
    "scrolled": true
   },
   "outputs": [
    {
     "name": "stdout",
     "output_type": "stream",
     "text": [
      "<class 'int'>\n"
     ]
    }
   ],
   "source": [
    "# type() 함수는 데이터 타입을 판별합니다. 변수 a에는 128 숫자가 바인딩돼 있어 type 함수가 int (정수)형임을 알려줍니다.\n",
    "a = 128\n",
    "print (type(a))"
   ]
  },
  {
   "cell_type": "code",
   "execution_count": 52,
   "id": "d7d6f6d0",
   "metadata": {},
   "outputs": [
    {
     "name": "stdout",
     "output_type": "stream",
     "text": [
      "<class 'str'>\n"
     ]
    }
   ],
   "source": [
    "#아래 변수에 바인딩된 값의 타입을 판별해보세요.\n",
    "\n",
    "a='132'\n",
    "\n",
    "# '' 안에 숫자를 넣었으므로 문자열 타입\n",
    "print (type(a))"
   ]
  },
  {
   "cell_type": "markdown",
   "id": "d7e51c08",
   "metadata": {},
   "source": [
    "### 016 문자열을 정수로 변환"
   ]
  },
  {
   "cell_type": "code",
   "execution_count": 54,
   "id": "d874f9ef",
   "metadata": {},
   "outputs": [
    {
     "name": "stdout",
     "output_type": "stream",
     "text": [
      "721 <class 'int'>\n"
     ]
    }
   ],
   "source": [
    "# 문자열 '720'를 정수형으로 변환해보세요.\n",
    "\n",
    "num_str = \"720\"\n",
    "num_int = int(num_str)\n",
    "print(num_int+1, type(num_int))"
   ]
  },
  {
   "cell_type": "markdown",
   "id": "bf4f7571",
   "metadata": {},
   "source": [
    "### 017 정수를 문자열 100으로 변환"
   ]
  },
  {
   "cell_type": "code",
   "execution_count": 55,
   "id": "d570e308",
   "metadata": {},
   "outputs": [
    {
     "name": "stdout",
     "output_type": "stream",
     "text": [
      "100 <class 'str'>\n"
     ]
    }
   ],
   "source": [
    "# 정수 100을 문자열 '100'으로 변환해보세요.\n",
    "\n",
    "num = 100\n",
    "num_str = str(num)\n",
    "print(num_str, type(num_str))"
   ]
  },
  {
   "cell_type": "markdown",
   "id": "7072b176",
   "metadata": {},
   "source": [
    "### 018 문자열을 실수로 변환"
   ]
  },
  {
   "cell_type": "code",
   "execution_count": 58,
   "id": "bf294fe9",
   "metadata": {},
   "outputs": [
    {
     "name": "stdout",
     "output_type": "stream",
     "text": [
      "15.79 <class 'float'>\n"
     ]
    }
   ],
   "source": [
    "# 문자열 \"15.79\"를 실수(float) 타입으로 변환해보세요.\n",
    "\n",
    "a = '15.79'\n",
    "a = float(a)\n",
    "print(a, type(a))"
   ]
  },
  {
   "cell_type": "markdown",
   "id": "10bd03de",
   "metadata": {},
   "source": [
    "### 019 문자열을 정수로 변환"
   ]
  },
  {
   "cell_type": "code",
   "execution_count": 61,
   "id": "499080a5",
   "metadata": {},
   "outputs": [
    {
     "name": "stdout",
     "output_type": "stream",
     "text": [
      "2017 2018 2019 2020 <class 'int'>\n"
     ]
    }
   ],
   "source": [
    "# year라는 변수가 문자열 타입의 연도를 바인딩하고 있습니다. 이를 정수로 변환한 후 최근 3년의 연도를 화면에 출력해보세요.\n",
    "\n",
    "year = \"2020\"\n",
    "year = int(year)\n",
    "print(year-3, year-2, year-1, year, type(year))"
   ]
  },
  {
   "cell_type": "markdown",
   "id": "86275a0c",
   "metadata": {},
   "source": [
    "### 020 파이썬 계산\n"
   ]
  },
  {
   "cell_type": "code",
   "execution_count": 62,
   "id": "19c708b5",
   "metadata": {},
   "outputs": [
    {
     "data": {
      "text/plain": [
       "1749024"
      ]
     },
     "execution_count": 62,
     "metadata": {},
     "output_type": "execute_result"
    }
   ],
   "source": [
    "# 에이컨이 월 48,584원에 무이자 36개월의 조건으로 홈쇼핑에서 판매되고 있습니다. 총 금액은 계산한 후 이를 화면에 출력해보세요. (변수사용하기)\n",
    "\n",
    "price = 48584\n",
    "mip = 36\n",
    "\n",
    "price*mip"
   ]
  },
  {
   "cell_type": "code",
   "execution_count": null,
   "id": "c0a73db3",
   "metadata": {},
   "outputs": [],
   "source": []
  },
  {
   "cell_type": "markdown",
   "id": "e7291192",
   "metadata": {},
   "source": [
    "## 021~030"
   ]
  },
  {
   "cell_type": "markdown",
   "id": "e2e29f13",
   "metadata": {},
   "source": [
    "### 021 문자열 인덱싱"
   ]
  },
  {
   "cell_type": "code",
   "execution_count": 3,
   "id": "6b613fc2",
   "metadata": {},
   "outputs": [
    {
     "name": "stdout",
     "output_type": "stream",
     "text": [
      "p t\n"
     ]
    }
   ],
   "source": [
    "# letters가 바인딩하는 문자열에서 첫번째와 세번째 문자를 출력하세요.\n",
    "letters = 'python'\n",
    "print(letters[0],letters[2])"
   ]
  },
  {
   "cell_type": "markdown",
   "id": "61694022",
   "metadata": {},
   "source": [
    "### 022 문자열 슬라이싱"
   ]
  },
  {
   "cell_type": "code",
   "execution_count": 9,
   "id": "e5492192",
   "metadata": {},
   "outputs": [
    {
     "name": "stdout",
     "output_type": "stream",
     "text": [
      "2210\n"
     ]
    }
   ],
   "source": [
    "# 자동차 번호가 다음과 같을 때 뒤에 4자리만 출력하세요.\n",
    "license_plate = \"24가 2210\"\n",
    "print(license_plate [-4:])\n",
    "    # -1은 끝글자이고 -4는 끝에서 4번째글자, -4: 는 -4글자부터 끝까지를 의미, :-4 로 하면 처음부터 -4까지를 의미"
   ]
  },
  {
   "cell_type": "markdown",
   "id": "d6b6dbcf",
   "metadata": {},
   "source": [
    "### 023 문자열 인덱싱"
   ]
  },
  {
   "cell_type": "code",
   "execution_count": 16,
   "id": "8fb9edbf",
   "metadata": {},
   "outputs": [
    {
     "name": "stdout",
     "output_type": "stream",
     "text": [
      "홀홀홀\n"
     ]
    }
   ],
   "source": [
    "#아래의 문자열에서 '홀' 만 출력하세요.\n",
    "string = \"홀짝홀짝홀짝\"\n",
    "print(string[::2])\n",
    "    ##시작인덱스:끝인덱스:오프셋 // ::2 의 경우 처음부터 끝까지 2칸씩 띄어서 출력을 의미"
   ]
  },
  {
   "cell_type": "markdown",
   "id": "da8158fa",
   "metadata": {},
   "source": [
    "### 024 문자열 인덱싱"
   ]
  },
  {
   "cell_type": "code",
   "execution_count": 15,
   "id": "eab81289",
   "metadata": {},
   "outputs": [
    {
     "name": "stdout",
     "output_type": "stream",
     "text": [
      "NOHTYP\n"
     ]
    }
   ],
   "source": [
    "#문자열을 거꾸로 뒤집어 출력하세요.\n",
    "string = \"PYTHON\"\n",
    "print(string[::-1])"
   ]
  },
  {
   "cell_type": "markdown",
   "id": "f05aa58c",
   "metadata": {},
   "source": [
    "### 025 문자열 치환"
   ]
  },
  {
   "cell_type": "code",
   "execution_count": 17,
   "id": "704f082b",
   "metadata": {},
   "outputs": [
    {
     "name": "stdout",
     "output_type": "stream",
     "text": [
      "010 1111 2222\n"
     ]
    }
   ],
   "source": [
    "#아래의 전화번호에서 하이푼 ('-')을 제거하고 출력하세요.\n",
    "phone_number = \"010-1111-2222\"\n",
    "phone_number1 = phone_number.replace(\"-\",\" \")\n",
    "print(phone_number1)\n",
    "    ## .replace 사용하면 문자열 치환, 문자열은 수정할 수 없는 자료형이므로 새 문자열에 저장하고 그걸 출력"
   ]
  },
  {
   "cell_type": "markdown",
   "id": "ac8bc489",
   "metadata": {},
   "source": [
    "### 026 문자열 다루기"
   ]
  },
  {
   "cell_type": "code",
   "execution_count": 18,
   "id": "68a4589d",
   "metadata": {},
   "outputs": [
    {
     "name": "stdout",
     "output_type": "stream",
     "text": [
      "01011112222\n"
     ]
    }
   ],
   "source": [
    "# 25번 문제의 전화번호를 아래와 같이 모두 붙여 출력하세요.\n",
    "phone_number = \"010-1111-2222\"\n",
    "phone_number2 = phone_number.replace(\"-\",\"\")\n",
    "print(phone_number2)"
   ]
  },
  {
   "cell_type": "markdown",
   "id": "0ae0258d",
   "metadata": {},
   "source": [
    "### 027 문자열 다루기"
   ]
  },
  {
   "cell_type": "code",
   "execution_count": 39,
   "id": "0903e177",
   "metadata": {},
   "outputs": [
    {
     "name": "stdout",
     "output_type": "stream",
     "text": [
      "kr\n"
     ]
    }
   ],
   "source": [
    "# url 에 저장된 웹 페이지 주소에서 도메인을 출력하세요.\n",
    "url = \"http://www.sharebook.kr\"\n",
    "url_split = url.split('.')\n",
    "print(url_split[-1])\n",
    "    # .split사용하면 조건을 기준으로 문자열 분리해서 여러개됨,\n",
    "    ## 문자열은 수정할 수 없는 자료형이므로 새 문자열에 저장하고 그 중 몇번째걸 출력할것인지 결정"
   ]
  },
  {
   "cell_type": "markdown",
   "id": "883bb9be",
   "metadata": {},
   "source": [
    "### 028 문자열은 immutable"
   ]
  },
  {
   "cell_type": "code",
   "execution_count": 40,
   "id": "06df30c2",
   "metadata": {},
   "outputs": [
    {
     "ename": "TypeError",
     "evalue": "'str' object does not support item assignment",
     "output_type": "error",
     "traceback": [
      "\u001b[1;31m---------------------------------------------------------------------------\u001b[0m",
      "\u001b[1;31mTypeError\u001b[0m                                 Traceback (most recent call last)",
      "Cell \u001b[1;32mIn[40], line 3\u001b[0m\n\u001b[0;32m      1\u001b[0m \u001b[38;5;66;03m# 아래 코드의 실행 결과를 예상해보세요.\u001b[39;00m\n\u001b[0;32m      2\u001b[0m lang \u001b[38;5;241m=\u001b[39m \u001b[38;5;124m'\u001b[39m\u001b[38;5;124mpython\u001b[39m\u001b[38;5;124m'\u001b[39m\n\u001b[1;32m----> 3\u001b[0m lang[\u001b[38;5;241m0\u001b[39m] \u001b[38;5;241m=\u001b[39m \u001b[38;5;124m'\u001b[39m\u001b[38;5;124mP\u001b[39m\u001b[38;5;124m'\u001b[39m\n\u001b[0;32m      4\u001b[0m \u001b[38;5;28mprint\u001b[39m(lang)\n",
      "\u001b[1;31mTypeError\u001b[0m: 'str' object does not support item assignment"
     ]
    }
   ],
   "source": [
    "# 아래 코드의 실행 결과를 예상해보세요.\n",
    "lang = 'python'\n",
    "lang[0] = 'P'\n",
    "print(lang)\n",
    "    ## 문자열은 수정할수가 없으므로 오류남"
   ]
  },
  {
   "cell_type": "markdown",
   "id": "c041a86a",
   "metadata": {},
   "source": [
    "### 029 replace 메서드 // 이건 왜 되는건가요?"
   ]
  },
  {
   "cell_type": "code",
   "execution_count": 41,
   "id": "d7d56542",
   "metadata": {},
   "outputs": [
    {
     "name": "stdout",
     "output_type": "stream",
     "text": [
      "Abcdfe2A354A32A\n"
     ]
    }
   ],
   "source": [
    "# 아래 문자열에서 소문자 'a'를 대문자 'A'로 변경하세요.\n",
    "\n",
    "string = 'abcdfe2a354a32a'\n",
    "string = string.replace('a', 'A')\n",
    "print(string)\n",
    "    ## 이 경우는 기존 문자열을 교체하였으므로 가능하지만 아래 030은 그대로 리플레이스 명령을 줘서 안바뀐건가?"
   ]
  },
  {
   "cell_type": "markdown",
   "id": "19900910",
   "metadata": {},
   "source": [
    "### 030 replace 메서드"
   ]
  },
  {
   "cell_type": "code",
   "execution_count": 43,
   "id": "e24ae20f",
   "metadata": {},
   "outputs": [
    {
     "name": "stdout",
     "output_type": "stream",
     "text": [
      "abcd\n"
     ]
    }
   ],
   "source": [
    "string = 'abcd'\n",
    "string.replace('b', 'B')\n",
    "print(string)\n",
    "    #replace 메서드를 사용하면 원본은 그대로 둔채로 변경된 새로운 문자열 객체를 리턴"
   ]
  },
  {
   "cell_type": "code",
   "execution_count": null,
   "id": "46bf42f8",
   "metadata": {},
   "outputs": [],
   "source": []
  },
  {
   "cell_type": "markdown",
   "id": "33e9844c",
   "metadata": {},
   "source": [
    "## 031~040"
   ]
  },
  {
   "cell_type": "markdown",
   "id": "f1a57039",
   "metadata": {},
   "source": [
    "### 031 문자열 합치기"
   ]
  },
  {
   "cell_type": "code",
   "execution_count": 1,
   "id": "23a02217",
   "metadata": {},
   "outputs": [
    {
     "name": "stdout",
     "output_type": "stream",
     "text": [
      "34\n"
     ]
    }
   ],
   "source": [
    "a = \"3\"\n",
    "b = \"4\"\n",
    "print(a + b)\n",
    "\n",
    "# 문자열을 덧셈하면 숫자로 덧셈하는것과 달리 문자열을 연결해서 붙인 새 문자열 생성해서 출력함"
   ]
  },
  {
   "cell_type": "markdown",
   "id": "eee912d8",
   "metadata": {},
   "source": [
    "### 032 문자열 곱하기"
   ]
  },
  {
   "cell_type": "code",
   "execution_count": 2,
   "id": "9b29e971",
   "metadata": {},
   "outputs": [
    {
     "name": "stdout",
     "output_type": "stream",
     "text": [
      "HiHiHi\n"
     ]
    }
   ],
   "source": [
    "# 아래 코드의 실행 결과를 예상해보세요.\n",
    "print(\"Hi\" * 3)"
   ]
  },
  {
   "cell_type": "markdown",
   "id": "6a6d1e70",
   "metadata": {},
   "source": [
    "### 033 문자열 곱하기"
   ]
  },
  {
   "cell_type": "code",
   "execution_count": 3,
   "id": "22da6459",
   "metadata": {},
   "outputs": [
    {
     "name": "stdout",
     "output_type": "stream",
     "text": [
      "--------------------------------------------------------------------------------\n"
     ]
    }
   ],
   "source": [
    "# 화면에 '-'를 80개 출력하세요\n",
    "print('-'*80)"
   ]
  },
  {
   "cell_type": "markdown",
   "id": "c56d3bc1",
   "metadata": {},
   "source": [
    "### 034 문자열 곱하기"
   ]
  },
  {
   "cell_type": "code",
   "execution_count": 7,
   "id": "2ba8d49f",
   "metadata": {},
   "outputs": [
    {
     "name": "stdout",
     "output_type": "stream",
     "text": [
      "python java python java python java python java \n"
     ]
    }
   ],
   "source": [
    "# 변수에 다음과 같은 문자열이 바인딩되어 있습니다.\n",
    "t1 = 'python'\n",
    "t2 = 'java'\n",
    "# 변수에 문자열 더하기와 문자열 곱하기를 사용해서 아래와 같이 출력해보세요.\n",
    "# python java python java python java python java\n",
    "\n",
    "print((t1+' '+t2+' ')*4)"
   ]
  },
  {
   "cell_type": "markdown",
   "id": "3213ceff",
   "metadata": {},
   "source": [
    "### 035 문자열 출력"
   ]
  },
  {
   "cell_type": "code",
   "execution_count": 10,
   "id": "623db9a0",
   "metadata": {},
   "outputs": [
    {
     "name": "stdout",
     "output_type": "stream",
     "text": [
      "이름: 김민수 나이: 10\n",
      "이름: 이철희 나이: 13\n"
     ]
    }
   ],
   "source": [
    "# 변수에 다음과 같이 문자열과 정수가 바인딩되어 있을 때 % formatting을 사용해서 다음과 같이 출력해보세요.\n",
    "\n",
    "name1 = \"김민수\" \n",
    "age1 = 10\n",
    "name2 = \"이철희\"\n",
    "age2 = 13\n",
    "\n",
    "\n",
    "# `%s`는 문자열 데이터 타입의 값을 `%d`는 정수형 데이터 타입 값의 출력을 의미\n",
    "print(\"이름: %s 나이: %d\" % (name1, age1))\n",
    "print(\"이름: %s 나이: %d\" % (name2, age2))"
   ]
  },
  {
   "cell_type": "markdown",
   "id": "ab710953",
   "metadata": {},
   "source": [
    "### 036 문자열 출력"
   ]
  },
  {
   "cell_type": "code",
   "execution_count": 11,
   "id": "95a766ac",
   "metadata": {},
   "outputs": [
    {
     "name": "stdout",
     "output_type": "stream",
     "text": [
      "이름: 김민수 나이: 10\n",
      "이름: 이철희 나이: 13\n"
     ]
    }
   ],
   "source": [
    "# 문자열의 format( ) 메서드를 사용해서 035번 문제를 다시 풀어보세요.\n",
    "\n",
    "print(\"이름: {} 나이: {}\".format(name1, age1))\n",
    "print(\"이름: {} 나이: {}\".format(name2, age2))"
   ]
  },
  {
   "cell_type": "markdown",
   "id": "fced79c1",
   "metadata": {},
   "source": [
    "### 037 문자열 출력"
   ]
  },
  {
   "cell_type": "code",
   "execution_count": 12,
   "id": "b1703ac9",
   "metadata": {},
   "outputs": [
    {
     "name": "stdout",
     "output_type": "stream",
     "text": [
      "이름: 김민수 나이: 10\n",
      "이름: 이철희 나이: 13\n"
     ]
    }
   ],
   "source": [
    "# 파이썬 3.6부터 지원하는 f-string을 사용해서 035번 문제를 다시 풀어보세요.\n",
    "\n",
    "print(f\"이름: {name1} 나이: {age1}\")\n",
    "print(f\"이름: {name2} 나이: {age2}\")"
   ]
  },
  {
   "cell_type": "markdown",
   "id": "b4b18845",
   "metadata": {},
   "source": [
    "### 038 컴마 제거하기"
   ]
  },
  {
   "cell_type": "code",
   "execution_count": 19,
   "id": "0883529d",
   "metadata": {},
   "outputs": [
    {
     "data": {
      "text/plain": [
       "(5969782550, int)"
      ]
     },
     "execution_count": 19,
     "metadata": {},
     "output_type": "execute_result"
    }
   ],
   "source": [
    "# 삼성전자의 상장주식수가 다음과 같습니다. 컴마를 제거한 후 이를 정수 타입으로 변환해보세요.\n",
    "\n",
    "상장주식수 = \"5,969,782,550\"\n",
    "콤마제거= 상장주식수.replace(\",\",\"\")    #문자열의 replace 메서드로 컴마를 제거\n",
    "타입변환=int(콤마제거)                  #정수형으로 타입을 변환하려면 int( ) 함수를 사용\n",
    "타입변환, type(타입변환)"
   ]
  },
  {
   "cell_type": "markdown",
   "id": "64c082b5",
   "metadata": {},
   "source": [
    "### 039 문자열 슬라이싱"
   ]
  },
  {
   "cell_type": "code",
   "execution_count": 24,
   "id": "191bcfa8",
   "metadata": {},
   "outputs": [
    {
     "name": "stdout",
     "output_type": "stream",
     "text": [
      "2020/03\n"
     ]
    }
   ],
   "source": [
    "# 다음과 같은 문자열에서 '2020/03'만 출력하세요.\n",
    "\n",
    "분기 = \"2020/03(E) (IFRS연결)\"\n",
    "print(분기[:7])"
   ]
  },
  {
   "cell_type": "markdown",
   "id": "da69d986",
   "metadata": {},
   "source": [
    "### 040 strip 메서드"
   ]
  },
  {
   "cell_type": "code",
   "execution_count": 25,
   "id": "76cbd319",
   "metadata": {},
   "outputs": [
    {
     "name": "stdout",
     "output_type": "stream",
     "text": [
      "삼성전자\n"
     ]
    }
   ],
   "source": [
    "# 문자열의 좌우의 공백이 있을 때 이를 제거해보세요.\n",
    "data = \"   삼성전자    \"\n",
    "data1 = data.strip()       # 문자열에서 strip( ) 메서드를 사용하면 좌우의 공백을 제거\n",
    "print(data1)"
   ]
  },
  {
   "cell_type": "markdown",
   "id": "d0bd8934",
   "metadata": {},
   "source": [
    "## 041~050"
   ]
  },
  {
   "cell_type": "markdown",
   "id": "55ae41d0",
   "metadata": {},
   "source": [
    "### 041 upper 메서드\n"
   ]
  },
  {
   "cell_type": "code",
   "execution_count": 26,
   "id": "c66df8e5",
   "metadata": {},
   "outputs": [
    {
     "data": {
      "text/plain": [
       "'BTC_KRW'"
      ]
     },
     "execution_count": 26,
     "metadata": {},
     "output_type": "execute_result"
    }
   ],
   "source": [
    "# 다음과 같은 문자열이 있을 때 이를 대문자 BTC_KRW로 변경하세요.\n",
    "\n",
    "ticker = \"btc_krw\"\n",
    "ticker1 = ticker.upper()\n",
    "ticker1"
   ]
  },
  {
   "cell_type": "markdown",
   "id": "19e81257",
   "metadata": {},
   "source": [
    "### 042 lower 메서드"
   ]
  },
  {
   "cell_type": "code",
   "execution_count": 28,
   "id": "5fe869cd",
   "metadata": {},
   "outputs": [
    {
     "data": {
      "text/plain": [
       "('btc_krw', 'BTC_KRW', 'btc_krw')"
      ]
     },
     "execution_count": 28,
     "metadata": {},
     "output_type": "execute_result"
    }
   ],
   "source": [
    "ticker2 = ticker1.lower()\n",
    "ticker, ticker1, ticker2"
   ]
  },
  {
   "cell_type": "markdown",
   "id": "b7089bab",
   "metadata": {},
   "source": [
    "### 043 capitalize 메서드"
   ]
  },
  {
   "cell_type": "code",
   "execution_count": 32,
   "id": "9e7cb383",
   "metadata": {},
   "outputs": [
    {
     "data": {
      "text/plain": [
       "('hello', 'Hello')"
      ]
     },
     "execution_count": 32,
     "metadata": {},
     "output_type": "execute_result"
    }
   ],
   "source": [
    "# 문자열 'hello'가 있을 때 이를 'Hello'로 변경해보세요.\n",
    "\n",
    "a = \"hello\"\n",
    "a1 = a.capitalize()\n",
    "a, a1"
   ]
  },
  {
   "cell_type": "markdown",
   "id": "7caced55",
   "metadata": {},
   "source": [
    "### 044 endswith 메서드"
   ]
  },
  {
   "cell_type": "code",
   "execution_count": 33,
   "id": "f71e0942",
   "metadata": {},
   "outputs": [
    {
     "data": {
      "text/plain": [
       "True"
      ]
     },
     "execution_count": 33,
     "metadata": {},
     "output_type": "execute_result"
    }
   ],
   "source": [
    "# 파일 이름이 문자열로 저장되어 있을 때 endswith 메서드를 사용해서 파일 이름이 'xlsx'로 끝나는지 확인해보세요.\n",
    "\n",
    "file_name = \"보고서.xlsx\"\n",
    "file_name.endswith(\"xlsx\")"
   ]
  },
  {
   "cell_type": "markdown",
   "id": "96a530e2",
   "metadata": {},
   "source": [
    "### 045 endswith 메서드\n"
   ]
  },
  {
   "cell_type": "code",
   "execution_count": 39,
   "id": "0b92f336",
   "metadata": {},
   "outputs": [
    {
     "data": {
      "text/plain": [
       "True"
      ]
     },
     "execution_count": 39,
     "metadata": {},
     "output_type": "execute_result"
    }
   ],
   "source": [
    "# 파일 이름이 문자열로 저장되어 있을 때 endswith 메서드를 사용해서 파일 이름이 'xlsx' 또는 'xls'로 끝나는지 확인해보세요.\n",
    "\n",
    "file_name = \"보고서.xls\"\n",
    "file_name.endswith((\"xlsx\", \"xls\"))"
   ]
  },
  {
   "cell_type": "markdown",
   "id": "6ac776e6",
   "metadata": {},
   "source": [
    "### 046 startswith 메서드"
   ]
  },
  {
   "cell_type": "code",
   "execution_count": 40,
   "id": "cc552b4f",
   "metadata": {},
   "outputs": [
    {
     "data": {
      "text/plain": [
       "True"
      ]
     },
     "execution_count": 40,
     "metadata": {},
     "output_type": "execute_result"
    }
   ],
   "source": [
    "# 파일 이름이 문자열로 저장되어 있을 때 startswith 메서드를 사용해서 파일 이름이 '2020'로 시작하는지 확인해보세요.\n",
    "\n",
    "file_name = \"2020_보고서.xlsx\"\n",
    "file_name.startswith(\"2020\")"
   ]
  },
  {
   "cell_type": "markdown",
   "id": "3f82ffa1",
   "metadata": {},
   "source": [
    "### 047 split 메서드"
   ]
  },
  {
   "cell_type": "code",
   "execution_count": 46,
   "id": "06015a9a",
   "metadata": {},
   "outputs": [
    {
     "data": {
      "text/plain": [
       "['Hello', 'world']"
      ]
     },
     "execution_count": 46,
     "metadata": {},
     "output_type": "execute_result"
    }
   ],
   "source": [
    "# 다음과 같은 문자열이 있을 때 공백을 기준으로 문자열을 나눠보세요.\n",
    "\n",
    "a=\"Hello world\"\n",
    "a.split()"
   ]
  },
  {
   "cell_type": "markdown",
   "id": "d25b7422",
   "metadata": {},
   "source": [
    "### 048 split 메서드"
   ]
  },
  {
   "cell_type": "code",
   "execution_count": 47,
   "id": "c08cd4bd",
   "metadata": {},
   "outputs": [
    {
     "data": {
      "text/plain": [
       "['btc', 'krw']"
      ]
     },
     "execution_count": 47,
     "metadata": {},
     "output_type": "execute_result"
    }
   ],
   "source": [
    "# 다음과 같이 문자열이 있을 때 btc와 krw로 나눠보세요.\n",
    "\n",
    "ticker = \"btc_krw\"\n",
    "ticker.split(\"_\")"
   ]
  },
  {
   "cell_type": "markdown",
   "id": "a324591a",
   "metadata": {},
   "source": [
    "### 049 split 메서드"
   ]
  },
  {
   "cell_type": "code",
   "execution_count": 48,
   "id": "1bdea1bd",
   "metadata": {},
   "outputs": [
    {
     "data": {
      "text/plain": [
       "['2020', '05', '01']"
      ]
     },
     "execution_count": 48,
     "metadata": {},
     "output_type": "execute_result"
    }
   ],
   "source": [
    "# 다음과 같이 날짜를 표현하는 문자열이 있을 때 연도, 월, 일로 나눠보세요.\n",
    "\n",
    "date = \"2020-05-01\"\n",
    "date.split(\"-\")"
   ]
  },
  {
   "cell_type": "markdown",
   "id": "c7880f5a",
   "metadata": {},
   "source": [
    "### 050 rstrip 메서드"
   ]
  },
  {
   "cell_type": "code",
   "execution_count": 52,
   "id": "e1df13e9",
   "metadata": {},
   "outputs": [
    {
     "data": {
      "text/plain": [
       "'     039490'"
      ]
     },
     "execution_count": 52,
     "metadata": {},
     "output_type": "execute_result"
    }
   ],
   "source": [
    "# 문자열의 오른쪽에 공백이 있을 때 이를 제거해보세요.\n",
    "\n",
    "data = \"     039490     \"\n",
    "data.rstrip()"
   ]
  },
  {
   "cell_type": "code",
   "execution_count": 50,
   "id": "6532087b",
   "metadata": {
    "scrolled": true
   },
   "outputs": [
    {
     "data": {
      "text/plain": [
       "'039490     '"
      ]
     },
     "execution_count": 50,
     "metadata": {},
     "output_type": "execute_result"
    }
   ],
   "source": [
    "data = \"     039490     \"\n",
    "data.lstrip()"
   ]
  },
  {
   "cell_type": "code",
   "execution_count": 51,
   "id": "c67c45cb",
   "metadata": {},
   "outputs": [
    {
     "data": {
      "text/plain": [
       "'039490'"
      ]
     },
     "execution_count": 51,
     "metadata": {},
     "output_type": "execute_result"
    }
   ],
   "source": [
    "data = \"     039490     \"\n",
    "data.strip()"
   ]
  }
 ],
 "metadata": {
  "kernelspec": {
   "display_name": "Python 3 (ipykernel)",
   "language": "python",
   "name": "python3"
  },
  "language_info": {
   "codemirror_mode": {
    "name": "ipython",
    "version": 3
   },
   "file_extension": ".py",
   "mimetype": "text/x-python",
   "name": "python",
   "nbconvert_exporter": "python",
   "pygments_lexer": "ipython3",
   "version": "3.11.5"
  }
 },
 "nbformat": 4,
 "nbformat_minor": 5
}
