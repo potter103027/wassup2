{
 "cells": [
  {
   "cell_type": "markdown",
   "id": "ee981eed",
   "metadata": {},
   "source": [
    "# 051 ~ 060"
   ]
  },
  {
   "cell_type": "markdown",
   "id": "a54e9e13",
   "metadata": {},
   "source": [
    "### 051 리스트 생성"
   ]
  },
  {
   "cell_type": "code",
   "execution_count": 1,
   "id": "8602994b",
   "metadata": {},
   "outputs": [
    {
     "data": {
      "text/plain": [
       "['닥터 스트레인지', '스플릿', '럭키']"
      ]
     },
     "execution_count": 1,
     "metadata": {},
     "output_type": "execute_result"
    }
   ],
   "source": [
    "# 2016년 11월 영화 예매 순위 기준 top3는 다음과 같습니다.\n",
    "# 영화 제목을 movie_rank 이름의 리스트에 저장해보세요. (순위 정보는 저장하지 않습니다.)\n",
    "\n",
    "movie_rank = [\"닥터 스트레인지\", \"스플릿\", \"럭키\"]\n",
    "movie_rank"
   ]
  },
  {
   "cell_type": "markdown",
   "id": "ad345e72",
   "metadata": {},
   "source": [
    "### 052 리스트에 원소 추가\n"
   ]
  },
  {
   "cell_type": "code",
   "execution_count": 2,
   "id": "9ce2543c",
   "metadata": {},
   "outputs": [
    {
     "data": {
      "text/plain": [
       "['닥터 스트레인지', '스플릿', '럭키', '배트맨']"
      ]
     },
     "execution_count": 2,
     "metadata": {},
     "output_type": "execute_result"
    }
   ],
   "source": [
    "# 051의 movie_rank 리스트에 \"배트맨\"을 추가하라.\n",
    "\n",
    "movie_rank.append(\"배트맨\")\n",
    "movie_rank"
   ]
  },
  {
   "cell_type": "markdown",
   "id": "8a480963",
   "metadata": {},
   "source": [
    "### 053 리스트에 원소 추가"
   ]
  },
  {
   "cell_type": "code",
   "execution_count": 3,
   "id": "79ba400d",
   "metadata": {},
   "outputs": [
    {
     "data": {
      "text/plain": [
       "['닥터 스트레인지', '슈퍼맨', '스플릿', '럭키', '배트맨']"
      ]
     },
     "execution_count": 3,
     "metadata": {},
     "output_type": "execute_result"
    }
   ],
   "source": [
    "#movie_rank 리스트에는 아래와 같이 네 개의 영화 제목이 바인딩되어 있다. \"슈퍼맨\"을 \"닥터 스트레인지\"와 \"스플릿\" 사이에 추가하라.\n",
    "\n",
    "movie_rank = ['닥터 스트레인지', '스플릿', '럭키', '배트맨']\n",
    "movie_rank.insert(1,\"슈퍼맨\")   # 1번 자리에 슈퍼맨을 삽입\n",
    "movie_rank"
   ]
  },
  {
   "cell_type": "markdown",
   "id": "f6332127",
   "metadata": {},
   "source": [
    "### 054"
   ]
  },
  {
   "cell_type": "code",
   "execution_count": 5,
   "id": "6c6fdac5",
   "metadata": {},
   "outputs": [
    {
     "data": {
      "text/plain": [
       "['닥터 스트레인지', '슈퍼맨', '스플릿', '배트맨']"
      ]
     },
     "execution_count": 5,
     "metadata": {},
     "output_type": "execute_result"
    }
   ],
   "source": [
    "# movie_rank 리스트에서 '럭키'를 삭제하라.\n",
    "\n",
    "del movie_rank[3]  # 3번 자리의 인덱스를 삭제\n",
    "movie_rank"
   ]
  },
  {
   "cell_type": "markdown",
   "id": "dac911df",
   "metadata": {},
   "source": [
    "### 055"
   ]
  },
  {
   "cell_type": "code",
   "execution_count": 12,
   "id": "2ce4797f",
   "metadata": {},
   "outputs": [
    {
     "data": {
      "text/plain": [
       "['닥터 스트레인지', '스플릿']"
      ]
     },
     "execution_count": 12,
     "metadata": {},
     "output_type": "execute_result"
    }
   ],
   "source": [
    "# movie_rank 리스트에서 '스플릿' 과 '배트맨'을 를 삭제하라.\n",
    "movie_rank = ['닥터 스트레인지', '스플릿', '럭키', '배트맨']\n",
    "del movie_rank[2:]  # 2번부터 모두 삭제\n",
    "movie_rank"
   ]
  },
  {
   "cell_type": "markdown",
   "id": "644d2261",
   "metadata": {},
   "source": [
    "### 056"
   ]
  },
  {
   "cell_type": "code",
   "execution_count": 14,
   "id": "45886334",
   "metadata": {},
   "outputs": [
    {
     "data": {
      "text/plain": [
       "['C', 'C++', 'JAVA', 'Python', 'Go', 'C#']"
      ]
     },
     "execution_count": 14,
     "metadata": {},
     "output_type": "execute_result"
    }
   ],
   "source": [
    "# lang1과 lang2 리스트가 있을 때 lang1과 lang2의 원소를 모두 갖고 있는 langs 리스트를 만들어라.\n",
    "\n",
    "lang1 = [\"C\", \"C++\", \"JAVA\"]\n",
    "lang2 = [\"Python\", \"Go\", \"C#\"]\n",
    "\n",
    "langs = lang1 + lang2\n",
    "langs"
   ]
  },
  {
   "cell_type": "markdown",
   "id": "ba404962",
   "metadata": {},
   "source": [
    "### 057"
   ]
  },
  {
   "cell_type": "code",
   "execution_count": 19,
   "id": "80523174",
   "metadata": {},
   "outputs": [
    {
     "name": "stdout",
     "output_type": "stream",
     "text": [
      "max :  7\n",
      "min :  1\n"
     ]
    }
   ],
   "source": [
    "# 다음 리스트에서 최댓값과 최솟값을 출력하라. (힌트: min(), max() 함수 사용)\n",
    "\n",
    "\n",
    "nums = [1, 2, 3, 4, 5, 6, 7]\n",
    "\n",
    "print(\"max : \", max(nums))\n",
    "print(\"min : \", min(nums))"
   ]
  },
  {
   "cell_type": "markdown",
   "id": "2cd05546",
   "metadata": {},
   "source": [
    "### 058"
   ]
  },
  {
   "cell_type": "code",
   "execution_count": 20,
   "id": "73285096",
   "metadata": {},
   "outputs": [
    {
     "name": "stdout",
     "output_type": "stream",
     "text": [
      "15\n"
     ]
    }
   ],
   "source": [
    "# 다음 리스트의 합을 출력하라.\n",
    "\n",
    "\n",
    "nums = [1, 2, 3, 4, 5]\n",
    "print(sum(nums))"
   ]
  },
  {
   "cell_type": "markdown",
   "id": "7e8820fb",
   "metadata": {},
   "source": [
    "### 059"
   ]
  },
  {
   "cell_type": "code",
   "execution_count": 23,
   "id": "ce045527",
   "metadata": {
    "scrolled": true
   },
   "outputs": [
    {
     "name": "stdout",
     "output_type": "stream",
     "text": [
      "12\n"
     ]
    }
   ],
   "source": [
    "#다음 리스트에 저장된 데이터의 개수를 화면에 구하하라.\n",
    "\n",
    "\n",
    "cook = [\"피자\", \"김밥\", \"만두\", \"양념치킨\", \"족발\", \"피자\", \"김치만두\", \"쫄면\", \"소시지\", \"라면\", \"팥빙수\", \"김치전\"]\n",
    "\n",
    "print(len(cook))"
   ]
  },
  {
   "cell_type": "code",
   "execution_count": 29,
   "id": "a8aa7bda",
   "metadata": {},
   "outputs": [],
   "source": [
    "# len 은 문자열 길이를 구할때도 쓰는 함수인데 리스트에서 쓸 경우 리스트의 인덱스 갯수를 출력해줌"
   ]
  },
  {
   "cell_type": "markdown",
   "id": "1c8a1745",
   "metadata": {},
   "source": [
    "### 060 "
   ]
  },
  {
   "cell_type": "code",
   "execution_count": 26,
   "id": "16f42130",
   "metadata": {},
   "outputs": [
    {
     "data": {
      "text/plain": [
       "3.0"
      ]
     },
     "execution_count": 26,
     "metadata": {},
     "output_type": "execute_result"
    }
   ],
   "source": [
    "# 다음 리스트의 평균을 출력하라.\n",
    "\n",
    "\n",
    "nums = [1, 2, 3, 4, 5]\n",
    "average = sum(nums) / len(nums)\n",
    "average"
   ]
  },
  {
   "cell_type": "markdown",
   "id": "a1a4c156",
   "metadata": {},
   "source": [
    "# 061 ~ 070"
   ]
  },
  {
   "cell_type": "markdown",
   "id": "e7a296fe",
   "metadata": {},
   "source": [
    "### 061"
   ]
  },
  {
   "cell_type": "code",
   "execution_count": 29,
   "id": "c31a810d",
   "metadata": {},
   "outputs": [
    {
     "name": "stdout",
     "output_type": "stream",
     "text": [
      "[100, 130, 140, 150, 160, 170]\n"
     ]
    }
   ],
   "source": [
    "# price 변수에는 날짜와 종가 정보가 저장돼 있다. 날짜 정보를 제외하고 가격 정보만을 출력하라. (힌트 : 슬라이싱)\n",
    "\n",
    "price = ['20180728', 100, 130, 140, 150, 160, 170]\n",
    "print(price[1:])          # 대괄호 주의"
   ]
  },
  {
   "cell_type": "markdown",
   "id": "3301b906",
   "metadata": {},
   "source": [
    "### 062"
   ]
  },
  {
   "cell_type": "code",
   "execution_count": 33,
   "id": "7811f2d8",
   "metadata": {},
   "outputs": [
    {
     "name": "stdout",
     "output_type": "stream",
     "text": [
      "[1, 3, 5, 7, 9]\n"
     ]
    }
   ],
   "source": [
    "# 슬라이싱을 사용해서 홀수만 출력하라.\n",
    "\n",
    "nums = [1, 2, 3, 4, 5, 6, 7, 8, 9, 10]\n",
    "\n",
    "print(nums[::2])"
   ]
  },
  {
   "cell_type": "markdown",
   "id": "0f6db8b2",
   "metadata": {},
   "source": [
    "### 063"
   ]
  },
  {
   "cell_type": "code",
   "execution_count": 40,
   "id": "413131cf",
   "metadata": {},
   "outputs": [
    {
     "name": "stdout",
     "output_type": "stream",
     "text": [
      "[2, 4, 6, 8, 10]\n"
     ]
    }
   ],
   "source": [
    "# 슬라이싱을 사용해서 짝수만 출력하라.\n",
    "\n",
    "nums = [1, 2, 3, 4, 5, 6, 7, 8, 9, 10]\n",
    "print(nums[1::2])"
   ]
  },
  {
   "cell_type": "markdown",
   "id": "e81e3d6d",
   "metadata": {},
   "source": [
    "### 064"
   ]
  },
  {
   "cell_type": "code",
   "execution_count": 48,
   "id": "8fcc44e3",
   "metadata": {},
   "outputs": [
    {
     "name": "stdout",
     "output_type": "stream",
     "text": [
      "[5, 4, 3, 2, 1]\n"
     ]
    }
   ],
   "source": [
    "#슬라이싱을 사용해서 리스트의 숫자를 역 방향으로 출력하라.\n",
    "\n",
    "nums = [1, 2, 3, 4, 5]\n",
    "\n",
    "print(nums[::-1])"
   ]
  },
  {
   "cell_type": "markdown",
   "id": "f904c312",
   "metadata": {},
   "source": [
    "### 065"
   ]
  },
  {
   "cell_type": "code",
   "execution_count": 50,
   "id": "ae77011a",
   "metadata": {
    "scrolled": true
   },
   "outputs": [
    {
     "name": "stdout",
     "output_type": "stream",
     "text": [
      "삼성전자 Naver\n"
     ]
    }
   ],
   "source": [
    "# interest 리스트에는 아래의 데이터가 바인딩되어 있다.\n",
    "\n",
    "interest = ['삼성전자', 'LG전자', 'Naver']\n",
    "\n",
    "#interest 리스트를 사용하여 아래와 같이 화면에 출력하라.\n",
    "\n",
    "# print(interest[::2])\n",
    "print(interest[0], interest[2])"
   ]
  },
  {
   "cell_type": "markdown",
   "id": "d7e51c08",
   "metadata": {},
   "source": [
    "### 066 join 메서드"
   ]
  },
  {
   "cell_type": "code",
   "execution_count": 61,
   "id": "d874f9ef",
   "metadata": {},
   "outputs": [
    {
     "name": "stdout",
     "output_type": "stream",
     "text": [
      "삼성전자 LG전자 Naver SK하이닉스 미래에셋대우\n"
     ]
    }
   ],
   "source": [
    "# interest 리스트에는 아래의 데이터가 바인딩되어 있다.\n",
    "\n",
    "interest = ['삼성전자', 'LG전자', 'Naver', 'SK하이닉스', '미래에셋대우']\n",
    "\n",
    "#interest 리스트를 사용하여 아래와 같이 화면에 출력하라.\n",
    "\n",
    "print(\" \".join(interest))\n",
    "# interest 인덱스를 출력하되 각 인덱스 사이에 \" \"을 넣어라"
   ]
  },
  {
   "cell_type": "markdown",
   "id": "bf4f7571",
   "metadata": {},
   "source": [
    "### 067 join 메서드\n"
   ]
  },
  {
   "cell_type": "code",
   "execution_count": 62,
   "id": "d570e308",
   "metadata": {},
   "outputs": [
    {
     "name": "stdout",
     "output_type": "stream",
     "text": [
      "삼성전자/LG전자/Naver/SK하이닉스/미래에셋대우\n"
     ]
    }
   ],
   "source": [
    "# interest 리스트에는 아래의 데이터가 바인딩되어 있다.\n",
    "\n",
    "interest = ['삼성전자', 'LG전자', 'Naver', 'SK하이닉스', '미래에셋대우']\n",
    "\n",
    "#interest 리스트를 사용하여 아래와 같이 화면에 출력하라.\n",
    "\n",
    "print(\"/\".join(interest))"
   ]
  },
  {
   "cell_type": "markdown",
   "id": "7072b176",
   "metadata": {},
   "source": [
    "### 068 join 메서드\n"
   ]
  },
  {
   "cell_type": "code",
   "execution_count": 64,
   "id": "bf294fe9",
   "metadata": {},
   "outputs": [
    {
     "name": "stdout",
     "output_type": "stream",
     "text": [
      "삼성전자\n",
      "LG전자\n",
      "Naver\n",
      "SK하이닉스\n",
      "미래에셋대우\n"
     ]
    }
   ],
   "source": [
    "# interest 리스트에는 아래의 데이터가 바인딩되어 있다.\n",
    "\n",
    "interest = ['삼성전자', 'LG전자', 'Naver', 'SK하이닉스', '미래에셋대우']\n",
    "\n",
    "#join() 메서드를 사용해서 interest 리스트를 아래와 같이 화면에 출력하라.\n",
    "\n",
    "\n",
    "print(\"\\n\".join(interest))"
   ]
  },
  {
   "cell_type": "markdown",
   "id": "10bd03de",
   "metadata": {},
   "source": [
    "### 069 문자열 split 메서드\n"
   ]
  },
  {
   "cell_type": "code",
   "execution_count": 71,
   "id": "499080a5",
   "metadata": {},
   "outputs": [
    {
     "data": {
      "text/plain": [
       "['삼성전자', 'LG전자', 'Naver']"
      ]
     },
     "execution_count": 71,
     "metadata": {},
     "output_type": "execute_result"
    }
   ],
   "source": [
    "# 회사 이름이 슬래시 ('/')로 구분되어 하나의 문자열로 저장되어 있다.\n",
    "\n",
    "string = \"삼성전자/LG전자/Naver\"\n",
    "interest = string.split(\"/\")\n",
    "interest"
   ]
  },
  {
   "cell_type": "markdown",
   "id": "86275a0c",
   "metadata": {},
   "source": [
    "### 070 리스트 정렬\n"
   ]
  },
  {
   "cell_type": "code",
   "execution_count": 62,
   "id": "19c708b5",
   "metadata": {},
   "outputs": [
    {
     "data": {
      "text/plain": [
       "1749024"
      ]
     },
     "execution_count": 62,
     "metadata": {},
     "output_type": "execute_result"
    }
   ],
   "source": [
    "# 에이컨이 월 48,584원에 무이자 36개월의 조건으로 홈쇼핑에서 판매되고 있습니다. 총 금액은 계산한 후 이를 화면에 출력해보세요. (변수사용하기)\n",
    "\n",
    "price = 48584\n",
    "mip = 36\n",
    "\n",
    "price*mip"
   ]
  },
  {
   "cell_type": "code",
   "execution_count": null,
   "id": "c0a73db3",
   "metadata": {},
   "outputs": [],
   "source": []
  },
  {
   "cell_type": "markdown",
   "id": "e7291192",
   "metadata": {},
   "source": [
    "## 071~080"
   ]
  },
  {
   "cell_type": "markdown",
   "id": "e2e29f13",
   "metadata": {},
   "source": [
    "### 071"
   ]
  },
  {
   "cell_type": "code",
   "execution_count": 74,
   "id": "6b613fc2",
   "metadata": {},
   "outputs": [
    {
     "data": {
      "text/plain": [
       "tuple"
      ]
     },
     "execution_count": 74,
     "metadata": {},
     "output_type": "execute_result"
    }
   ],
   "source": [
    "# my_variable 이름의 비어있는 튜플을 만들라.\n",
    "\n",
    "my_variable = ()\n",
    "type(my_variable)"
   ]
  },
  {
   "cell_type": "markdown",
   "id": "61694022",
   "metadata": {},
   "source": [
    "### 072"
   ]
  },
  {
   "cell_type": "code",
   "execution_count": 76,
   "id": "e5492192",
   "metadata": {},
   "outputs": [
    {
     "data": {
      "text/plain": [
       "(('닥터 스트레인지', '스플릿', '럭키'), tuple)"
      ]
     },
     "execution_count": 76,
     "metadata": {},
     "output_type": "execute_result"
    }
   ],
   "source": [
    "# 2016년 11월 영화 예매 순위 기준 top3는 다음과 같다. 영화 제목을 movie_rank 이름의 튜플에 저장하라. (순위 정보는 저장하지 않는다.)\n",
    "\n",
    "movie_rank = (\"닥터 스트레인지\", \"스플릿\", \"럭키\")\n",
    "movie_rank, type(movie_rank)"
   ]
  },
  {
   "cell_type": "markdown",
   "id": "d6b6dbcf",
   "metadata": {},
   "source": [
    "### 073 "
   ]
  },
  {
   "cell_type": "code",
   "execution_count": 82,
   "id": "8fb9edbf",
   "metadata": {},
   "outputs": [
    {
     "data": {
      "text/plain": [
       "((1,), tuple)"
      ]
     },
     "execution_count": 82,
     "metadata": {},
     "output_type": "execute_result"
    }
   ],
   "source": [
    "# 숫자 1 이 저장된 튜플을 생성하라.\n",
    "\n",
    "tu_1 = (1,)\n",
    "tu_1, type(tu_1)"
   ]
  },
  {
   "cell_type": "markdown",
   "id": "da8158fa",
   "metadata": {},
   "source": [
    "### 074"
   ]
  },
  {
   "cell_type": "code",
   "execution_count": 83,
   "id": "eab81289",
   "metadata": {},
   "outputs": [
    {
     "ename": "TypeError",
     "evalue": "'tuple' object does not support item assignment",
     "output_type": "error",
     "traceback": [
      "\u001b[1;31m---------------------------------------------------------------------------\u001b[0m",
      "\u001b[1;31mTypeError\u001b[0m                                 Traceback (most recent call last)",
      "Cell \u001b[1;32mIn[83], line 4\u001b[0m\n\u001b[0;32m      1\u001b[0m \u001b[38;5;66;03m# 다음 코드를 실행해보고 오류가 발생하는 원인을 설명하라.\u001b[39;00m\n\u001b[0;32m      3\u001b[0m t \u001b[38;5;241m=\u001b[39m (\u001b[38;5;241m1\u001b[39m, \u001b[38;5;241m2\u001b[39m, \u001b[38;5;241m3\u001b[39m)\n\u001b[1;32m----> 4\u001b[0m t[\u001b[38;5;241m0\u001b[39m] \u001b[38;5;241m=\u001b[39m \u001b[38;5;124m'\u001b[39m\u001b[38;5;124ma\u001b[39m\u001b[38;5;124m'\u001b[39m\n",
      "\u001b[1;31mTypeError\u001b[0m: 'tuple' object does not support item assignment"
     ]
    }
   ],
   "source": [
    "# 다음 코드를 실행해보고 오류가 발생하는 원인을 설명하라.\n",
    "\n",
    "t = (1, 2, 3)\n",
    "t[0] = 'a'\n",
    "\n",
    "# tuple의 원소값 변경 불가(immutable)"
   ]
  },
  {
   "cell_type": "markdown",
   "id": "f05aa58c",
   "metadata": {},
   "source": [
    "### 075 "
   ]
  },
  {
   "cell_type": "code",
   "execution_count": 84,
   "id": "704f082b",
   "metadata": {},
   "outputs": [
    {
     "data": {
      "text/plain": [
       "((1, 2, 3, 4), tuple)"
      ]
     },
     "execution_count": 84,
     "metadata": {},
     "output_type": "execute_result"
    }
   ],
   "source": [
    "#아래와 같이 t에는 1, 2, 3, 4 데이터가 바인딩되어 있다. t가 바인딩하는 데이터 타입은 무엇인가?\n",
    "\n",
    "t = 1, 2, 3, 4\n",
    "t, type(t)"
   ]
  },
  {
   "cell_type": "markdown",
   "id": "ac8bc489",
   "metadata": {},
   "source": [
    "### 076"
   ]
  },
  {
   "cell_type": "code",
   "execution_count": 88,
   "id": "68a4589d",
   "metadata": {},
   "outputs": [
    {
     "data": {
      "text/plain": [
       "('A', 'b', 'c')"
      ]
     },
     "execution_count": 88,
     "metadata": {},
     "output_type": "execute_result"
    }
   ],
   "source": [
    "# 변수 t에는 아래와 같은 값이 저장되어 있다. 변수 t가 ('A', 'b', 'c') 튜플을 가리키도록 수정 하라.\n",
    "\n",
    "t = ('a', 'b', 'c')\n",
    "\n",
    "t = ('A', 'b', 'c')\n",
    "\n",
    "t\n",
    "\n",
    "# 값 변경 불가능하므로 t라는 변수를 업데이트 해야함. 기존 튜플은 삭제"
   ]
  },
  {
   "cell_type": "markdown",
   "id": "0ae0258d",
   "metadata": {},
   "source": [
    "### 077  안되는데요"
   ]
  },
  {
   "cell_type": "code",
   "execution_count": 109,
   "id": "0903e177",
   "metadata": {
    "scrolled": true
   },
   "outputs": [
    {
     "name": "stdout",
     "output_type": "stream",
     "text": [
      "['삼성전자', 'LG전자', 'SK Hynix'] <class 'tuple'>\n"
     ]
    }
   ],
   "source": [
    "# 다음 튜플을 리스트로 변환하라.\n",
    "\n",
    "\n",
    "interest = ('삼성전자', 'LG전자', 'SK Hynix')\n",
    "print(list(interest), type(interest))"
   ]
  },
  {
   "cell_type": "markdown",
   "id": "883bb9be",
   "metadata": {},
   "source": [
    "### 078   안되는데요"
   ]
  },
  {
   "cell_type": "code",
   "execution_count": 101,
   "id": "06df30c2",
   "metadata": {},
   "outputs": [
    {
     "data": {
      "text/plain": [
       "(['삼성전자', 'LG전자', 'SK Hynix'], list)"
      ]
     },
     "execution_count": 101,
     "metadata": {},
     "output_type": "execute_result"
    }
   ],
   "source": [
    "# 다음 리스트를 튜플로 변경하라.\n",
    "\n",
    "interest = ['삼성전자', 'LG전자', 'SK Hynix']\n",
    "data = tuple(interest)\n",
    "\n",
    "interest, type(interest)"
   ]
  },
  {
   "cell_type": "markdown",
   "id": "c041a86a",
   "metadata": {},
   "source": [
    "### 079 튜플 언팩킹\n"
   ]
  },
  {
   "cell_type": "code",
   "execution_count": 104,
   "id": "d7d56542",
   "metadata": {},
   "outputs": [
    {
     "name": "stdout",
     "output_type": "stream",
     "text": [
      "apple banana cake\n"
     ]
    }
   ],
   "source": [
    "# 다음 코드의 실행 결과를 예상하라.\n",
    "\n",
    "temp = ('apple', 'banana', 'cake')\n",
    "a, b, c = temp\n",
    "print(a, b, c)"
   ]
  },
  {
   "cell_type": "markdown",
   "id": "19900910",
   "metadata": {},
   "source": [
    "### 080 range 함수\n"
   ]
  },
  {
   "cell_type": "code",
   "execution_count": 107,
   "id": "e24ae20f",
   "metadata": {},
   "outputs": [
    {
     "data": {
      "text/plain": [
       "(2,\n",
       " 4,\n",
       " 6,\n",
       " 8,\n",
       " 10,\n",
       " 12,\n",
       " 14,\n",
       " 16,\n",
       " 18,\n",
       " 20,\n",
       " 22,\n",
       " 24,\n",
       " 26,\n",
       " 28,\n",
       " 30,\n",
       " 32,\n",
       " 34,\n",
       " 36,\n",
       " 38,\n",
       " 40,\n",
       " 42,\n",
       " 44,\n",
       " 46,\n",
       " 48,\n",
       " 50,\n",
       " 52,\n",
       " 54,\n",
       " 56,\n",
       " 58,\n",
       " 60,\n",
       " 62,\n",
       " 64,\n",
       " 66,\n",
       " 68,\n",
       " 70,\n",
       " 72,\n",
       " 74,\n",
       " 76,\n",
       " 78,\n",
       " 80,\n",
       " 82,\n",
       " 84,\n",
       " 86,\n",
       " 88,\n",
       " 90,\n",
       " 92,\n",
       " 94,\n",
       " 96,\n",
       " 98)"
      ]
     },
     "execution_count": 107,
     "metadata": {},
     "output_type": "execute_result"
    }
   ],
   "source": [
    "# 1 부터 99까지의 정수 중 짝수만 저장된 튜플을 생성하라.\n",
    "\n",
    "A = tuple(range(2,100,2))     #range(0,00,0)  /  0부터 00까지 0 간격으로?\n",
    "A"
   ]
  },
  {
   "cell_type": "code",
   "execution_count": null,
   "id": "46bf42f8",
   "metadata": {},
   "outputs": [],
   "source": []
  },
  {
   "cell_type": "markdown",
   "id": "33e9844c",
   "metadata": {},
   "source": [
    "## 081~090"
   ]
  },
  {
   "cell_type": "markdown",
   "id": "f1a57039",
   "metadata": {},
   "source": [
    "### 081 별 표현식\n"
   ]
  },
  {
   "cell_type": "code",
   "execution_count": 111,
   "id": "23a02217",
   "metadata": {},
   "outputs": [
    {
     "data": {
      "text/plain": [
       "(0, [1, 2, 3, 4], 5)"
      ]
     },
     "execution_count": 111,
     "metadata": {},
     "output_type": "execute_result"
    }
   ],
   "source": [
    "#  데이터 언패킹은 좌변의 변수와 우변 데이터 개수가 같아야 합니다. \n",
    "# 하지만 star expression을 사용하면 변수의 개수가 달라도 데이터 언패킹을 할 수 있습니다. \n",
    "# 튜플에 저장된 데이터 중에서 앞에 있는 두 개의 데이터만 필요할 경우 나머지 데이터의 언패킹 코드를 작성할 필요가 없습니다.\n",
    "\n",
    "a, *b, c = (0, 1, 2, 3, 4, 5)\n",
    "a, b, c"
   ]
  },
  {
   "cell_type": "code",
   "execution_count": 113,
   "id": "ceb6f108",
   "metadata": {},
   "outputs": [
    {
     "data": {
      "text/plain": [
       "[8.8, 8.9, 8.7, 9.2, 9.3, 9.7, 9.9, 9.5]"
      ]
     },
     "execution_count": 113,
     "metadata": {},
     "output_type": "execute_result"
    }
   ],
   "source": [
    "# 다음과 같이 10개의 값이 저장된 scores 리스트가 있을 때,\n",
    "# start expression을 사용하여 좌측 8개의 값을 valid_score변수에 바인딩하여라\n",
    "\n",
    "scores = [8.8, 8.9, 8.7, 9.2, 9.3, 9.7, 9.9, 9.5, 7.8, 9.4]\n",
    "\n",
    "*valid_score, b, c = scores\n",
    "valid_score"
   ]
  },
  {
   "cell_type": "markdown",
   "id": "eee912d8",
   "metadata": {},
   "source": [
    "### 082"
   ]
  },
  {
   "cell_type": "code",
   "execution_count": 114,
   "id": "9b29e971",
   "metadata": {},
   "outputs": [
    {
     "data": {
      "text/plain": [
       "[8.7, 9.2, 9.3, 9.7, 9.9, 9.5, 7.8, 9.4]"
      ]
     },
     "execution_count": 114,
     "metadata": {},
     "output_type": "execute_result"
    }
   ],
   "source": [
    "# 다음과 같이 10개의 값이 저장된 scores 리스트가 있을 때, \n",
    "# start expression을 사용하여 우측 8개의 값을 valid_score 변수에 바인딩하여라.\n",
    "\n",
    "scores = [8.8, 8.9, 8.7, 9.2, 9.3, 9.7, 9.9, 9.5, 7.8, 9.4]\n",
    "\n",
    "b,c,*valid_score = scores\n",
    "valid_score"
   ]
  },
  {
   "cell_type": "markdown",
   "id": "6a6d1e70",
   "metadata": {},
   "source": [
    "### 083 "
   ]
  },
  {
   "cell_type": "code",
   "execution_count": 115,
   "id": "22da6459",
   "metadata": {},
   "outputs": [
    {
     "data": {
      "text/plain": [
       "[8.9, 8.7, 9.2, 9.3, 9.7, 9.9, 9.5, 7.8]"
      ]
     },
     "execution_count": 115,
     "metadata": {},
     "output_type": "execute_result"
    }
   ],
   "source": [
    "# 다음과 같이 10개의 값이 저장된 scores 리스트가 있을 때, \n",
    "# start expression을 사용하여 가운데 있는 8개의 값을 valid_score 변수에 바인딩하여라.\n",
    "\n",
    "scores = [8.8, 8.9, 8.7, 9.2, 9.3, 9.7, 9.9, 9.5, 7.8, 9.4]\n",
    "\n",
    "b,*valid_score, c = scores\n",
    "valid_score"
   ]
  },
  {
   "cell_type": "markdown",
   "id": "c56d3bc1",
   "metadata": {},
   "source": [
    "### 084 비어있는 딕셔너리"
   ]
  },
  {
   "cell_type": "code",
   "execution_count": 117,
   "id": "2ba8d49f",
   "metadata": {},
   "outputs": [
    {
     "data": {
      "text/plain": [
       "({}, dict)"
      ]
     },
     "execution_count": 117,
     "metadata": {},
     "output_type": "execute_result"
    }
   ],
   "source": [
    "# temp 이름의 비어있는 딕셔너리를 만들라.\n",
    "\n",
    "temp={}\n",
    "temp, type(temp)"
   ]
  },
  {
   "cell_type": "markdown",
   "id": "3213ceff",
   "metadata": {},
   "source": [
    "### 085"
   ]
  },
  {
   "cell_type": "code",
   "execution_count": 121,
   "id": "623db9a0",
   "metadata": {},
   "outputs": [
    {
     "data": {
      "text/plain": [
       "({'메로나': 1000, '폴라포': 1200, '빵빠레': 1800}, dict)"
      ]
     },
     "execution_count": 121,
     "metadata": {},
     "output_type": "execute_result"
    }
   ],
   "source": [
    "# 다음 아이스크림 이름과 희망 가격을 딕셔너리로 구성하라.\n",
    "\n",
    "ice={\"메로나\": 1000, \"폴라포\": 1200, \"빵빠레\" : 1800}\n",
    "ice, type(ice)"
   ]
  },
  {
   "cell_type": "markdown",
   "id": "ab710953",
   "metadata": {},
   "source": [
    "### 086"
   ]
  },
  {
   "cell_type": "code",
   "execution_count": 123,
   "id": "95a766ac",
   "metadata": {},
   "outputs": [
    {
     "data": {
      "text/plain": [
       "{'메로나': 1000, '폴라포': 1200, '빵빠레': 1800, '죠스바': 1200, '월드콘': 1500}"
      ]
     },
     "execution_count": 123,
     "metadata": {},
     "output_type": "execute_result"
    }
   ],
   "source": [
    "#085 번의 딕셔너리에 아래 아이스크림 가격정보를 추가하라.\n",
    "\n",
    "\n",
    "ice[\"죠스바\"] = 1200\n",
    "ice[\"월드콘\"] = 1500\n",
    "ice"
   ]
  },
  {
   "cell_type": "markdown",
   "id": "fced79c1",
   "metadata": {},
   "source": [
    "### 087"
   ]
  },
  {
   "cell_type": "code",
   "execution_count": 132,
   "id": "b1703ac9",
   "metadata": {},
   "outputs": [
    {
     "name": "stdout",
     "output_type": "stream",
     "text": [
      "메로나 가격: 1000\n"
     ]
    }
   ],
   "source": [
    "# 다음 딕셔너리를 사용하여 메로나 가격을 출력하라.\n",
    "\n",
    "ice = {'메로나': 1000,\n",
    "       '폴로포': 1200,\n",
    "       '빵빠레': 1800,\n",
    "       '죠스바': 1200,\n",
    "       '월드콘': 1500}\n",
    "\n",
    "print(\"메로나 가격:\", ice['메로나'])"
   ]
  },
  {
   "cell_type": "markdown",
   "id": "b4b18845",
   "metadata": {},
   "source": [
    "### 088"
   ]
  },
  {
   "cell_type": "code",
   "execution_count": 133,
   "id": "0883529d",
   "metadata": {},
   "outputs": [
    {
     "data": {
      "text/plain": [
       "{'메로나': 1300, '폴로포': 1200, '빵빠레': 1800, '죠스바': 1200, '월드콘': 1500}"
      ]
     },
     "execution_count": 133,
     "metadata": {},
     "output_type": "execute_result"
    }
   ],
   "source": [
    "# 다음 딕셔너리에서 메로나의 가격을 1300으로 수정하라.\n",
    "\n",
    "ice = {'메로나': 1000,\n",
    "       '폴로포': 1200,\n",
    "       '빵빠레': 1800,\n",
    "       '죠스바': 1200,\n",
    "       '월드콘': 1500}\n",
    "\n",
    "ice[\"메로나\"] = 1300\n",
    "ice"
   ]
  },
  {
   "cell_type": "markdown",
   "id": "64c082b5",
   "metadata": {},
   "source": [
    "### 089"
   ]
  },
  {
   "cell_type": "code",
   "execution_count": 134,
   "id": "191bcfa8",
   "metadata": {},
   "outputs": [
    {
     "data": {
      "text/plain": [
       "{'폴로포': 1200, '빵빠레': 1800, '죠스바': 1200, '월드콘': 1500}"
      ]
     },
     "execution_count": 134,
     "metadata": {},
     "output_type": "execute_result"
    }
   ],
   "source": [
    "# 다음 딕셔너리에서 메로나를 삭제하라.\n",
    "\n",
    "ice = {'메로나': 1000,\n",
    "       '폴로포': 1200,\n",
    "       '빵빠레': 1800,\n",
    "       '죠스바': 1200,\n",
    "       '월드콘': 1500}\n",
    "\n",
    "del ice[\"메로나\"]\n",
    "ice"
   ]
  },
  {
   "cell_type": "markdown",
   "id": "da69d986",
   "metadata": {},
   "source": [
    "### 090"
   ]
  },
  {
   "cell_type": "code",
   "execution_count": 135,
   "id": "76cbd319",
   "metadata": {},
   "outputs": [
    {
     "ename": "KeyError",
     "evalue": "'누가바'",
     "output_type": "error",
     "traceback": [
      "\u001b[1;31m---------------------------------------------------------------------------\u001b[0m",
      "\u001b[1;31mKeyError\u001b[0m                                  Traceback (most recent call last)",
      "Cell \u001b[1;32mIn[135], line 4\u001b[0m\n\u001b[0;32m      1\u001b[0m \u001b[38;5;66;03m# 다음 코드에서 에러가 발생한 원인을 설명하라.\u001b[39;00m\n\u001b[0;32m      3\u001b[0m icecream \u001b[38;5;241m=\u001b[39m {\u001b[38;5;124m'\u001b[39m\u001b[38;5;124m폴라포\u001b[39m\u001b[38;5;124m'\u001b[39m: \u001b[38;5;241m1200\u001b[39m, \u001b[38;5;124m'\u001b[39m\u001b[38;5;124m빵빠레\u001b[39m\u001b[38;5;124m'\u001b[39m: \u001b[38;5;241m1800\u001b[39m, \u001b[38;5;124m'\u001b[39m\u001b[38;5;124m월드콘\u001b[39m\u001b[38;5;124m'\u001b[39m: \u001b[38;5;241m1500\u001b[39m, \u001b[38;5;124m'\u001b[39m\u001b[38;5;124m메로나\u001b[39m\u001b[38;5;124m'\u001b[39m: \u001b[38;5;241m1000\u001b[39m}\n\u001b[1;32m----> 4\u001b[0m icecream[\u001b[38;5;124m'\u001b[39m\u001b[38;5;124m누가바\u001b[39m\u001b[38;5;124m'\u001b[39m]\n",
      "\u001b[1;31mKeyError\u001b[0m: '누가바'"
     ]
    }
   ],
   "source": [
    "# 다음 코드에서 에러가 발생한 원인을 설명하라.\n",
    "# 딕셔너리에 없는 값을 불러오려고 해서 오류남\n",
    "\n",
    "icecream = {'폴라포': 1200, '빵빠레': 1800, '월드콘': 1500, '메로나': 1000}\n",
    "icecream['누가바']"
   ]
  },
  {
   "cell_type": "markdown",
   "id": "d0bd8934",
   "metadata": {},
   "source": [
    "## 091~100"
   ]
  },
  {
   "cell_type": "markdown",
   "id": "55ae41d0",
   "metadata": {},
   "source": [
    "### 091 딕셔너리 생성\n"
   ]
  },
  {
   "cell_type": "code",
   "execution_count": 137,
   "id": "c66df8e5",
   "metadata": {},
   "outputs": [
    {
     "data": {
      "text/plain": [
       "{'메로나': [300, 20], '비비빅': [400, 3], '죠스바': [250, 100]}"
      ]
     },
     "execution_count": 137,
     "metadata": {},
     "output_type": "execute_result"
    }
   ],
   "source": [
    "# 아래의 표에서, 아이스크림 이름을 키값으로, (가격, 재고) 리스트를 딕셔너리의 값으로 저장하라. 딕셔너리의 이름은 inventory로 한다.\n",
    "\n",
    "inventory = {'메로나': [300,20], '비비빅': [400,3], '죠스바': [250,100]}\n",
    "inventory"
   ]
  },
  {
   "cell_type": "markdown",
   "id": "19e81257",
   "metadata": {},
   "source": [
    "### 092 딕셔너리 인덱싱\n"
   ]
  },
  {
   "cell_type": "code",
   "execution_count": 143,
   "id": "5fe869cd",
   "metadata": {},
   "outputs": [
    {
     "name": "stdout",
     "output_type": "stream",
     "text": [
      "300 원 20 재고\n"
     ]
    }
   ],
   "source": [
    "# inventory 딕셔너리에서 메로나의 가격을 화면에 출력하라.\n",
    "\n",
    "inventory = {\"메로나\": [300, 20],\n",
    "              \"비비빅\": [400, 3],\n",
    "              \"죠스바\": [250, 100]}\n",
    "\n",
    "print(inventory['메로나'][0],\"원\",inventory['메로나'][1],\"재고\")"
   ]
  },
  {
   "cell_type": "markdown",
   "id": "b7089bab",
   "metadata": {},
   "source": [
    "### 093 딕셔너리 인덱싱"
   ]
  },
  {
   "cell_type": "code",
   "execution_count": 146,
   "id": "9e7cb383",
   "metadata": {},
   "outputs": [
    {
     "name": "stdout",
     "output_type": "stream",
     "text": [
      "20 개\n"
     ]
    }
   ],
   "source": [
    "# inventory 딕셔너리에서 메로나의 재고를 화면에 출력하라.\n",
    "\n",
    "inventory = {\"메로나\": [300, 20],\n",
    "              \"비비빅\": [400, 3],\n",
    "              \"죠스바\": [250, 100]}\n",
    "\n",
    "print(inventory['메로나'][1],\"개\")"
   ]
  },
  {
   "cell_type": "markdown",
   "id": "7caced55",
   "metadata": {},
   "source": [
    "### 094 딕셔너리 추가"
   ]
  },
  {
   "cell_type": "code",
   "execution_count": 148,
   "id": "f71e0942",
   "metadata": {},
   "outputs": [
    {
     "data": {
      "text/plain": [
       "{'메로나': [300, 20], '비비빅': [400, 3], '죠스바': [250, 100], '월드콘': [500, 7]}"
      ]
     },
     "execution_count": 148,
     "metadata": {},
     "output_type": "execute_result"
    }
   ],
   "source": [
    "# inventory 딕셔너리에 아래 데이터를 추가하라.\n",
    "\n",
    "inventory = {\"메로나\": [300, 20],\n",
    "              \"비비빅\": [400, 3],\n",
    "              \"죠스바\": [250, 100]}\n",
    "inventory[\"월드콘\"] = [500,7]\n",
    "inventory"
   ]
  },
  {
   "cell_type": "markdown",
   "id": "96a530e2",
   "metadata": {},
   "source": [
    "### 095 딕셔너리 keys() 메서드"
   ]
  },
  {
   "cell_type": "code",
   "execution_count": 149,
   "id": "0b92f336",
   "metadata": {},
   "outputs": [
    {
     "data": {
      "text/plain": [
       "['탱크보이', '폴라포', '빵빠레', '월드콘', '메로나']"
      ]
     },
     "execution_count": 149,
     "metadata": {},
     "output_type": "execute_result"
    }
   ],
   "source": [
    "# 다음의 딕셔너리로부터 key 값으로만 구성된 리스트를 생성하라.\n",
    "\n",
    "icecream = {'탱크보이': 1200, '폴라포': 1200, '빵빠레': 1800, '월드콘': 1500, '메로나': 1000}\n",
    "ice = list(icecream.keys())\n",
    "ice\n"
   ]
  },
  {
   "cell_type": "markdown",
   "id": "6ac776e6",
   "metadata": {},
   "source": [
    "### 096 딕셔너리 values() 메서드"
   ]
  },
  {
   "cell_type": "code",
   "execution_count": 152,
   "id": "cc552b4f",
   "metadata": {},
   "outputs": [
    {
     "data": {
      "text/plain": [
       "[1200, 1200, 1800, 1500, 1000]"
      ]
     },
     "execution_count": 152,
     "metadata": {},
     "output_type": "execute_result"
    }
   ],
   "source": [
    "# 다음의 딕셔너리에서 values 값으로만 구성된 리스트를 생성하라.\n",
    "\n",
    "\n",
    "icecream = {'탱크보이': 1200, '폴라포': 1200, '빵빠레': 1800, '월드콘': 1500, '메로나': 1000}\n",
    "\n",
    "ice = list(icecream.values())\n",
    "ice"
   ]
  },
  {
   "cell_type": "markdown",
   "id": "3f82ffa1",
   "metadata": {},
   "source": [
    "### 097  딕셔너리 values() 메서드"
   ]
  },
  {
   "cell_type": "code",
   "execution_count": 46,
   "id": "06015a9a",
   "metadata": {},
   "outputs": [
    {
     "data": {
      "text/plain": [
       "['Hello', 'world']"
      ]
     },
     "execution_count": 46,
     "metadata": {},
     "output_type": "execute_result"
    }
   ],
   "source": [
    "# icecream 딕셔너리에서 아이스크림 판매 금액의 총합을 출력하라.\n",
    "\n",
    "icecream = {'탱크보이': 1200, '폴라포': 1200, '빵빠레': 1800, '월드콘': 1500, '메로나': 1000}\n",
    "\n",
    "ice = sum(icecream.values())\n",
    "ice"
   ]
  },
  {
   "cell_type": "markdown",
   "id": "d25b7422",
   "metadata": {},
   "source": [
    "### 098 딕셔너리 update 메서드\n"
   ]
  },
  {
   "cell_type": "code",
   "execution_count": 154,
   "id": "c08cd4bd",
   "metadata": {},
   "outputs": [
    {
     "data": {
      "text/plain": [
       "{'탱크보이': 1200,\n",
       " '폴라포': 1200,\n",
       " '빵빠레': 1800,\n",
       " '월드콘': 1500,\n",
       " '메로나': 1000,\n",
       " '팥빙수': 2700,\n",
       " '아맛나': 1000}"
      ]
     },
     "execution_count": 154,
     "metadata": {},
     "output_type": "execute_result"
    }
   ],
   "source": [
    "# 아래의 new_product 딕셔너리를 다음 icecream 딕셔너리에 추가하라.\n",
    "\n",
    "icecream = {'탱크보이': 1200, '폴라포': 1200, '빵빠레': 1800, '월드콘': 1500, '메로나': 1000}\n",
    "new_product = {'팥빙수':2700, '아맛나':1000}\n",
    "\n",
    "icecream.update(new_product)\n",
    "\n",
    "icecream"
   ]
  },
  {
   "cell_type": "markdown",
   "id": "a324591a",
   "metadata": {},
   "source": [
    "### 099 zip과 dict"
   ]
  },
  {
   "cell_type": "code",
   "execution_count": 157,
   "id": "1bdea1bd",
   "metadata": {},
   "outputs": [
    {
     "data": {
      "text/plain": [
       "{'apple': 300, 'pear': 250, 'peach': 400}"
      ]
     },
     "execution_count": 157,
     "metadata": {},
     "output_type": "execute_result"
    }
   ],
   "source": [
    "# 아래 두 개의 튜플을 하나의 딕셔너리로 변환하라. keys를 키로, vals를 값으로 result 이름의 딕셔너리로 저장한다.\n",
    "\n",
    "keys = (\"apple\", \"pear\", \"peach\")\n",
    "vals = (300, 250, 400)\n",
    "\n",
    "result = dict(zip(keys, vals))\n",
    "result"
   ]
  },
  {
   "cell_type": "markdown",
   "id": "c7880f5a",
   "metadata": {},
   "source": [
    "### 100 zip과 dict"
   ]
  },
  {
   "cell_type": "code",
   "execution_count": 159,
   "id": "e1df13e9",
   "metadata": {},
   "outputs": [
    {
     "data": {
      "text/plain": [
       "{'09/05': 10500,\n",
       " '09/06': 10300,\n",
       " '09/07': 10100,\n",
       " '09/08': 10800,\n",
       " '09/09': 11000}"
      ]
     },
     "execution_count": 159,
     "metadata": {},
     "output_type": "execute_result"
    }
   ],
   "source": [
    "# date와 close_price 두 개의 리스트를 close_table 이름의 딕셔너리로 생성하라.\n",
    "\n",
    "date = ['09/05', '09/06', '09/07', '09/08', '09/09']\n",
    "close_price = [10500, 10300, 10100, 10800, 11000]\n",
    "\n",
    "close_table= dict(zip(date,close_price))\n",
    "close_table"
   ]
  },
  {
   "cell_type": "code",
   "execution_count": 50,
   "id": "6532087b",
   "metadata": {
    "scrolled": true
   },
   "outputs": [
    {
     "data": {
      "text/plain": [
       "'039490     '"
      ]
     },
     "execution_count": 50,
     "metadata": {},
     "output_type": "execute_result"
    }
   ],
   "source": [
    "data = \"     039490     \"\n",
    "data.lstrip()"
   ]
  },
  {
   "cell_type": "code",
   "execution_count": 51,
   "id": "c67c45cb",
   "metadata": {},
   "outputs": [
    {
     "data": {
      "text/plain": [
       "'039490'"
      ]
     },
     "execution_count": 51,
     "metadata": {},
     "output_type": "execute_result"
    }
   ],
   "source": [
    "data = \"     039490     \"\n",
    "data.strip()"
   ]
  }
 ],
 "metadata": {
  "kernelspec": {
   "display_name": "Python 3 (ipykernel)",
   "language": "python",
   "name": "python3"
  },
  "language_info": {
   "codemirror_mode": {
    "name": "ipython",
    "version": 3
   },
   "file_extension": ".py",
   "mimetype": "text/x-python",
   "name": "python",
   "nbconvert_exporter": "python",
   "pygments_lexer": "ipython3",
   "version": "3.11.5"
  }
 },
 "nbformat": 4,
 "nbformat_minor": 5
}
