{
 "cells": [
  {
   "cell_type": "markdown",
   "id": "a9729de6",
   "metadata": {},
   "source": [
    "# 클래스"
   ]
  },
  {
   "cell_type": "code",
   "execution_count": 2,
   "id": "b5c7c91e",
   "metadata": {},
   "outputs": [
    {
     "name": "stdout",
     "output_type": "stream",
     "text": [
      "3\n",
      "7\n",
      "9\n"
     ]
    }
   ],
   "source": [
    "# 계산기 프로그램을 함수로 만들어보자\n",
    "\n",
    "result = 0       # 글로벌로 미리 선언한 변수\n",
    "\n",
    "def add(num):\n",
    "    global result\n",
    "    result += num  # 결괏값(result)에 입력값(num) 더하기\n",
    "    return result  # 결괏값 리턴\n",
    "\n",
    "print(add(3))\n",
    "print(add(4))\n",
    "print(add(2))"
   ]
  },
  {
   "cell_type": "code",
   "execution_count": 3,
   "id": "378b26ef",
   "metadata": {},
   "outputs": [
    {
     "name": "stdout",
     "output_type": "stream",
     "text": [
      "3\n",
      "7\n",
      "3\n",
      "10\n"
     ]
    }
   ],
   "source": [
    "# 한 프로그램에서 2대의 계산기가 필요하다면?\n",
    "\n",
    "result1 = 0        #계산기 1에 대한 독립 글로벌 변수\n",
    "result2 = 0        #계산기 2에 대한 독립 글로벌 변수\n",
    "\n",
    "def add1(num):  # 계산기1\n",
    "    global result1\n",
    "    result1 += num\n",
    "    return result1\n",
    "\n",
    "def add2(num):  # 계산기2\n",
    "    global result2\n",
    "    result2 += num\n",
    "    return result2\n",
    "\n",
    "print(add1(3))\n",
    "print(add1(4))\n",
    "print(add2(3))\n",
    "print(add2(7))       # 결과값이 계산기별로 따로나옴\n",
    "\n",
    "# 다만 계산기를 추가하려면 계속 변수와 함수를 추가해야 하는 단점이 있음"
   ]
  },
  {
   "cell_type": "code",
   "execution_count": 4,
   "id": "4d0133e6",
   "metadata": {},
   "outputs": [
    {
     "name": "stdout",
     "output_type": "stream",
     "text": [
      "3\n",
      "7\n",
      "3\n",
      "10\n"
     ]
    }
   ],
   "source": [
    "# 위 함수를 클래스로 간단하게 숫자도 마음대로 늘릴 수 있음\n",
    "\n",
    "class Calculator:                  \n",
    "    def __init__(self):\n",
    "        self.result = 0\n",
    "\n",
    "    def add(self, num):\n",
    "        self.result += num\n",
    "        return self.result\n",
    "\n",
    "cal1 = Calculator()      #인스턴스(객체)\n",
    "cal2 = Calculator        # 클래스를 만들어놓고 이렇게 객체를 추가하면 각각의 역할 수행하고 독립적인 값 유지\n",
    "\n",
    "print(cal1.add(3))\n",
    "print(cal1.add(4))\n",
    "print(cal2.add(3))\n",
    "print(cal2.add(7))"
   ]
  },
  {
   "cell_type": "markdown",
   "id": "6977358c",
   "metadata": {},
   "source": [
    "## 클래스와 객체"
   ]
  },
  {
   "cell_type": "code",
   "execution_count": 8,
   "id": "e3fb9106",
   "metadata": {},
   "outputs": [
    {
     "data": {
      "text/plain": [
       "<__main__.Cookie at 0x1e93ae04650>"
      ]
     },
     "execution_count": 8,
     "metadata": {},
     "output_type": "execute_result"
    }
   ],
   "source": [
    "# 클래스로 만든 객체를 ‘인스턴스’\n",
    "\n",
    "class Cookie:\n",
    "    pass"
   ]
  },
  {
   "cell_type": "code",
   "execution_count": null,
   "id": "2ded56fb",
   "metadata": {},
   "outputs": [],
   "source": [
    "a = Cookie()       # cookie라는 클래스에서 만들어진 인스턴스\n",
    "a"
   ]
  },
  {
   "cell_type": "markdown",
   "id": "6caf8489",
   "metadata": {},
   "source": [
    "인스턴스라는 말은 특정 객체(a)가 어떤 클래스(Cookie)의 객체인지를 관계 위주로 설명할 때 사용"
   ]
  },
  {
   "cell_type": "markdown",
   "id": "59d8de19",
   "metadata": {},
   "source": [
    "### 사칙연산 클래스 만들기"
   ]
  },
  {
   "cell_type": "markdown",
   "id": "a7e28d59",
   "metadata": {},
   "source": [
    "클래스로 만든 객체를 중심으로 어떤 식으로 동작하게 할지 미리 구상한 후 생각한 것을 하나씩 만들면서 완성해 나가는 것이 좋다."
   ]
  },
  {
   "cell_type": "code",
   "execution_count": null,
   "id": "38ac26af",
   "metadata": {},
   "outputs": [],
   "source": [
    "# 클래스 구조 만들기\n",
    "\n",
    "class FourCal:\n",
    "    pass"
   ]
  },
  {
   "cell_type": "code",
   "execution_count": 11,
   "id": "3deb8a55",
   "metadata": {},
   "outputs": [
    {
     "data": {
      "text/plain": [
       "(<__main__.FourCal at 0x1e93ae08450>, __main__.FourCal)"
      ]
     },
     "execution_count": 11,
     "metadata": {},
     "output_type": "execute_result"
    }
   ],
   "source": [
    "# 객체를 선언한 후 객체 a가 FourCal 클래스의 인스턴스라는 것을 알 수 있다.\n",
    "\n",
    "a = FourCal()\n",
    "a, type(a)"
   ]
  },
  {
   "cell_type": "code",
   "execution_count": null,
   "id": "e79ea257",
   "metadata": {},
   "outputs": [],
   "source": [
    "# 객체에 연산할 숫자 지정하기\n",
    "\n",
    "a.setdata(4, 2)"
   ]
  },
  {
   "cell_type": "code",
   "execution_count": 13,
   "id": "766cd762",
   "metadata": {},
   "outputs": [],
   "source": [
    "# fourCal 클래스 재정의\n",
    "# setdata 함수를 정의했다. 클래스 안에 구현된 함수는 다른 말로 메서드(method)라고 함\n",
    "\n",
    "class FourCal:\n",
    "    def setdata(self, first, second):   # 데이터 받고\n",
    "        self.first = first              # 지역변수로 재선언\n",
    "        self.second = second"
   ]
  },
  {
   "cell_type": "code",
   "execution_count": 15,
   "id": "675c4e62",
   "metadata": {},
   "outputs": [],
   "source": [
    "# 클래스의 매서드에 값을 넣을때는 이렇게도 표현 가능하고\n",
    "a = FourCal()\n",
    "a.setdata(3,4)"
   ]
  },
  {
   "cell_type": "code",
   "execution_count": 16,
   "id": "3ae587b2",
   "metadata": {},
   "outputs": [],
   "source": [
    "# 더 간단하게도 가능\n",
    "FourCal.setdata(a,3,4)"
   ]
  },
  {
   "cell_type": "code",
   "execution_count": 17,
   "id": "0c1436a8",
   "metadata": {},
   "outputs": [
    {
     "data": {
      "text/plain": [
       "3"
      ]
     },
     "execution_count": 17,
     "metadata": {},
     "output_type": "execute_result"
    }
   ],
   "source": [
    "a.first"
   ]
  },
  {
   "cell_type": "code",
   "execution_count": 18,
   "id": "bde22709",
   "metadata": {},
   "outputs": [
    {
     "data": {
      "text/plain": [
       "4"
      ]
     },
     "execution_count": 18,
     "metadata": {},
     "output_type": "execute_result"
    }
   ],
   "source": [
    "a.second"
   ]
  },
  {
   "cell_type": "code",
   "execution_count": 19,
   "id": "b9c424b7",
   "metadata": {},
   "outputs": [],
   "source": [
    "a = FourCal()\n",
    "b = FourCal()"
   ]
  },
  {
   "cell_type": "code",
   "execution_count": 20,
   "id": "4b52185b",
   "metadata": {},
   "outputs": [
    {
     "data": {
      "text/plain": [
       "4"
      ]
     },
     "execution_count": 20,
     "metadata": {},
     "output_type": "execute_result"
    }
   ],
   "source": [
    "a.setdata(4,2)\n",
    "a.first"
   ]
  },
  {
   "cell_type": "code",
   "execution_count": 21,
   "id": "681e3458",
   "metadata": {},
   "outputs": [
    {
     "data": {
      "text/plain": [
       "3"
      ]
     },
     "execution_count": 21,
     "metadata": {},
     "output_type": "execute_result"
    }
   ],
   "source": [
    "b.setdata(3,7)\n",
    "b.first"
   ]
  },
  {
   "cell_type": "markdown",
   "id": "ae3d6626",
   "metadata": {},
   "source": [
    "### 더하기 기능 만들기"
   ]
  },
  {
   "cell_type": "code",
   "execution_count": 28,
   "id": "e18fa6c9",
   "metadata": {},
   "outputs": [],
   "source": [
    "class FourCal:\n",
    "    def setdata(self, first, second):\n",
    "        self.first = first\n",
    "        self.second = second\n",
    "    def add(self):\n",
    "        result = self.first + self.second\n",
    "        return result"
   ]
  },
  {
   "cell_type": "code",
   "execution_count": 25,
   "id": "46ab5b82",
   "metadata": {},
   "outputs": [],
   "source": [
    "a = FourCal()\n",
    "a.setdata(4,2)"
   ]
  },
  {
   "cell_type": "code",
   "execution_count": 26,
   "id": "13f70d3e",
   "metadata": {},
   "outputs": [
    {
     "data": {
      "text/plain": [
       "6"
      ]
     },
     "execution_count": 26,
     "metadata": {},
     "output_type": "execute_result"
    }
   ],
   "source": [
    "a.add()"
   ]
  },
  {
   "cell_type": "code",
   "execution_count": 27,
   "id": "ecf365fd",
   "metadata": {},
   "outputs": [
    {
     "data": {
      "text/plain": [
       "6"
      ]
     },
     "execution_count": 27,
     "metadata": {},
     "output_type": "execute_result"
    }
   ],
   "source": [
    "c=a.add()\n",
    "c        # 리턴한 값이기 때문에 전역변수로 다른변수에 값 입력가능"
   ]
  },
  {
   "cell_type": "code",
   "execution_count": 34,
   "id": "22f856dc",
   "metadata": {},
   "outputs": [],
   "source": [
    "class FourCal:\n",
    "    def setdata(self, first, second):\n",
    "        self.first = first\n",
    "        self.second = second\n",
    "    def add(self):\n",
    "        result = self.first + self.second\n",
    "        return result\n",
    "    def sub(self):\n",
    "        result = self.first - self.second\n",
    "        return result\n",
    "    def mul(self):\n",
    "        result = self.first * self.second\n",
    "        return result\n",
    "    def div(self):\n",
    "        result = self.first / self.second\n",
    "        return result"
   ]
  },
  {
   "cell_type": "code",
   "execution_count": 35,
   "id": "7fbd76e3",
   "metadata": {},
   "outputs": [
    {
     "name": "stdout",
     "output_type": "stream",
     "text": [
      "6 2 8 2.0\n",
      "11 -5 24 0.375\n"
     ]
    }
   ],
   "source": [
    "a = FourCal()\n",
    "b = FourCal()\n",
    "a.setdata(4,2)\n",
    "b.setdata(3,8)\n",
    "\n",
    "print(a.add(),a.sub(),a.mul(),a.div())\n",
    "print(b.add(),b.sub(),b.mul(),b.div())"
   ]
  },
  {
   "cell_type": "markdown",
   "id": "d362ba46",
   "metadata": {},
   "source": [
    "## 생성자"
   ]
  },
  {
   "cell_type": "code",
   "execution_count": 36,
   "id": "769b50f5",
   "metadata": {},
   "outputs": [],
   "source": [
    "class FourCal:\n",
    "    def __init__(self, first, second):\n",
    "        self.first = first\n",
    "        self.second = second\n",
    "    \n",
    "    def setdata(self, first, second):\n",
    "        self.first = first\n",
    "        self.second = second\n",
    "        \n",
    "    def add(self):\n",
    "        result = self.first + self.second\n",
    "        return result\n",
    "    \n",
    "    def sub(self):\n",
    "        result = self.first - self.second\n",
    "        return result\n",
    "    \n",
    "    def mul(self):\n",
    "        result = self.first * self.second\n",
    "        return result\n",
    "    \n",
    "    def div(self):\n",
    "        result = self.first / self.second\n",
    "        return result"
   ]
  },
  {
   "cell_type": "code",
   "execution_count": 40,
   "id": "800ecbcb",
   "metadata": {},
   "outputs": [
    {
     "data": {
      "text/plain": [
       "(4, 2)"
      ]
     },
     "execution_count": 40,
     "metadata": {},
     "output_type": "execute_result"
    }
   ],
   "source": [
    "a=FourCal(4,2)\n",
    "a.first, a.second"
   ]
  },
  {
   "cell_type": "markdown",
   "id": "c603a30c",
   "metadata": {},
   "source": [
    "메서드 이름을 __init__로 했기 때문에 생성자로 인식되어 객체가 생성되는 시점에 자동으로 호출된다\n",
    "\n",
    "def __init__(self, first, second):\n",
    "        self.first = first\n",
    "        self.second = second\n",
    "        \n",
    "원래는 아래처럼 메서드 먼저 호출한다음 값 입력해줬는데 \n",
    "a = FourCal()\n",
    "a.setdata(4,2)\n",
    "\n",
    "init 쓰면 그냥 바로 값 넣어도 됨\n",
    "a=FourCal(4,2)"
   ]
  },
  {
   "cell_type": "markdown",
   "id": "c9570f13",
   "metadata": {},
   "source": [
    "## 클래스의 상속"
   ]
  },
  {
   "cell_type": "code",
   "execution_count": 41,
   "id": "aa4150a6",
   "metadata": {},
   "outputs": [],
   "source": [
    "# 기존에 만들어놓은 클래스를 괄호에 넣어서 상속\n",
    "# 상속은 기존 클래스를 변경하지 않고 기능을 추가하거나 기존 기능을 변경하려고 할 때 사용\n",
    "# 기존 클래스가 라이브러리 형태로 제공되거나 수정이 허용되지 않는 상황이라면 상속을 사용해야 한다.\n",
    "\n",
    "class MoreFourCal(FourCal):\n",
    "    pass"
   ]
  },
  {
   "cell_type": "code",
   "execution_count": 42,
   "id": "ced51414",
   "metadata": {},
   "outputs": [
    {
     "name": "stdout",
     "output_type": "stream",
     "text": [
      "6 2 8 2.0\n"
     ]
    }
   ],
   "source": [
    "a = MoreFourCal(4,2)\n",
    "print(a.add(),a.sub(),a.mul(),a.div())"
   ]
  },
  {
   "cell_type": "code",
   "execution_count": 43,
   "id": "52cf1140",
   "metadata": {},
   "outputs": [],
   "source": [
    "class MoreFourCal(FourCal):\n",
    "    def pow(self):\n",
    "        result = self.first ** self.second\n",
    "        return result"
   ]
  },
  {
   "cell_type": "code",
   "execution_count": 44,
   "id": "b2e2ca75",
   "metadata": {},
   "outputs": [
    {
     "data": {
      "text/plain": [
       "16"
      ]
     },
     "execution_count": 44,
     "metadata": {},
     "output_type": "execute_result"
    }
   ],
   "source": [
    "a = MoreFourCal(4,2)\n",
    "a.pow()"
   ]
  },
  {
   "cell_type": "markdown",
   "id": "0e7eb906",
   "metadata": {},
   "source": [
    "### 매서드 오버라이딩 (덮어쓰기)"
   ]
  },
  {
   "cell_type": "code",
   "execution_count": 45,
   "id": "fbfbeb86",
   "metadata": {},
   "outputs": [
    {
     "ename": "ZeroDivisionError",
     "evalue": "division by zero",
     "output_type": "error",
     "traceback": [
      "\u001b[1;31m---------------------------------------------------------------------------\u001b[0m",
      "\u001b[1;31mZeroDivisionError\u001b[0m                         Traceback (most recent call last)",
      "Cell \u001b[1;32mIn[45], line 2\u001b[0m\n\u001b[0;32m      1\u001b[0m a \u001b[38;5;241m=\u001b[39m FourCal(\u001b[38;5;241m4\u001b[39m, \u001b[38;5;241m0\u001b[39m)\n\u001b[1;32m----> 2\u001b[0m a\u001b[38;5;241m.\u001b[39mdiv()\n",
      "Cell \u001b[1;32mIn[36], line 23\u001b[0m, in \u001b[0;36mFourCal.div\u001b[1;34m(self)\u001b[0m\n\u001b[0;32m     22\u001b[0m \u001b[38;5;28;01mdef\u001b[39;00m \u001b[38;5;21mdiv\u001b[39m(\u001b[38;5;28mself\u001b[39m):\n\u001b[1;32m---> 23\u001b[0m     result \u001b[38;5;241m=\u001b[39m \u001b[38;5;28mself\u001b[39m\u001b[38;5;241m.\u001b[39mfirst \u001b[38;5;241m/\u001b[39m \u001b[38;5;28mself\u001b[39m\u001b[38;5;241m.\u001b[39msecond\n\u001b[0;32m     24\u001b[0m     \u001b[38;5;28;01mreturn\u001b[39;00m result\n",
      "\u001b[1;31mZeroDivisionError\u001b[0m: division by zero"
     ]
    }
   ],
   "source": [
    "# 기존함수 사용시 오류나는 상황\n",
    "\n",
    "a = FourCal(4, 0)\n",
    "a.div()"
   ]
  },
  {
   "cell_type": "code",
   "execution_count": 46,
   "id": "18cf4c41",
   "metadata": {},
   "outputs": [],
   "source": [
    "# FourtCal 클래스를 상속받아서 div의 함수를 다시 정의\n",
    "\n",
    "class SafeFourCal(FourCal):\n",
    "    def div(self):\n",
    "        if self.second == 0:  # 나누는 값이 0인 경우 0을 리턴하도록 수정\n",
    "            return 0\n",
    "        else:\n",
    "            return self.first / self.second"
   ]
  },
  {
   "cell_type": "code",
   "execution_count": 48,
   "id": "f78148ea",
   "metadata": {},
   "outputs": [
    {
     "data": {
      "text/plain": [
       "0"
      ]
     },
     "execution_count": 48,
     "metadata": {},
     "output_type": "execute_result"
    }
   ],
   "source": [
    "a = SafeFourCal(4, 0)\n",
    "a.div()"
   ]
  },
  {
   "cell_type": "markdown",
   "id": "e1eea9e6",
   "metadata": {},
   "source": [
    "## 클래스  변수"
   ]
  },
  {
   "cell_type": "code",
   "execution_count": 49,
   "id": "6f1fd87f",
   "metadata": {},
   "outputs": [],
   "source": [
    "class Family:\n",
    "    lastname = \"김\""
   ]
  },
  {
   "cell_type": "code",
   "execution_count": 50,
   "id": "5ec3cfc7",
   "metadata": {},
   "outputs": [
    {
     "data": {
      "text/plain": [
       "'김'"
      ]
     },
     "execution_count": 50,
     "metadata": {},
     "output_type": "execute_result"
    }
   ],
   "source": [
    "# 괄호 들어가면 함수, 안들어가면 객체변수\n",
    "Family.lastname"
   ]
  },
  {
   "cell_type": "code",
   "execution_count": 51,
   "id": "f92e904d",
   "metadata": {},
   "outputs": [
    {
     "data": {
      "text/plain": [
       "('김', '김')"
      ]
     },
     "execution_count": 51,
     "metadata": {},
     "output_type": "execute_result"
    }
   ],
   "source": [
    "a = Family()\n",
    "b = Family()\n",
    "a.lastname, b.lastname"
   ]
  },
  {
   "cell_type": "code",
   "execution_count": 52,
   "id": "33a38d14",
   "metadata": {},
   "outputs": [],
   "source": [
    "Family.lastname = \"박\""
   ]
  },
  {
   "cell_type": "code",
   "execution_count": 53,
   "id": "0612a37d",
   "metadata": {},
   "outputs": [
    {
     "data": {
      "text/plain": [
       "'박'"
      ]
     },
     "execution_count": 53,
     "metadata": {},
     "output_type": "execute_result"
    }
   ],
   "source": [
    "a.lastname"
   ]
  },
  {
   "cell_type": "code",
   "execution_count": 54,
   "id": "7735ae59",
   "metadata": {},
   "outputs": [
    {
     "data": {
      "text/plain": [
       "'최'"
      ]
     },
     "execution_count": 54,
     "metadata": {},
     "output_type": "execute_result"
    }
   ],
   "source": [
    "a.lastname = \"최\"\n",
    "a.lastname"
   ]
  },
  {
   "cell_type": "code",
   "execution_count": 55,
   "id": "3a30ca70",
   "metadata": {},
   "outputs": [
    {
     "data": {
      "text/plain": [
       "'박'"
      ]
     },
     "execution_count": 55,
     "metadata": {},
     "output_type": "execute_result"
    }
   ],
   "source": [
    "b.lastname"
   ]
  },
  {
   "cell_type": "code",
   "execution_count": 56,
   "id": "5341b8ea",
   "metadata": {},
   "outputs": [
    {
     "data": {
      "text/plain": [
       "'박'"
      ]
     },
     "execution_count": 56,
     "metadata": {},
     "output_type": "execute_result"
    }
   ],
   "source": [
    "Family.lastname"
   ]
  },
  {
   "cell_type": "code",
   "execution_count": null,
   "id": "c833a077",
   "metadata": {},
   "outputs": [],
   "source": []
  },
  {
   "cell_type": "code",
   "execution_count": null,
   "id": "d19dafbc",
   "metadata": {},
   "outputs": [],
   "source": [
    "class Calculator():\n",
    "    def __init__(self,*args):\n",
    "        self.args = args\n",
    "    \n",
    "    def setdata(self):\n",
    "        self.first = first\n",
    "        self.second = second\n",
    "        \n",
    "    def add(self):\n",
    "        result = self.first + self.second\n",
    "        return result\n",
    "    \n",
    "    def sub(self):\n",
    "        result = self.first - self.second\n",
    "        return result\n",
    "    \n",
    "    def mul(self):\n",
    "        result = self.first * self.second\n",
    "        return result\n",
    "    \n",
    "    def div(self):\n",
    "        result = self.first / self.second\n",
    "        return result"
   ]
  },
  {
   "cell_type": "code",
   "execution_count": null,
   "id": "c8478466",
   "metadata": {},
   "outputs": [],
   "source": []
  },
  {
   "cell_type": "markdown",
   "id": "2f88e422",
   "metadata": {},
   "source": [
    "# 예외처리"
   ]
  },
  {
   "cell_type": "markdown",
   "id": "117dd227",
   "metadata": {},
   "source": [
    "## 오류 예외처리기법"
   ]
  },
  {
   "cell_type": "markdown",
   "id": "bde400b7",
   "metadata": {},
   "source": [
    "### Try-Except문"
   ]
  },
  {
   "cell_type": "code",
   "execution_count": null,
   "id": "4231daab",
   "metadata": {},
   "outputs": [],
   "source": [
    "try:                                   # 모니터링 블록: try 블록 수행 중 오류 발생 시\n",
    "    ...\n",
    "except [발생오류 [as 오류변수]]:      # except 블록을 수행한다. /   괄호 안의 내용을 생략할 수 있다\n",
    "    ..."
   ]
  },
  {
   "cell_type": "code",
   "execution_count": null,
   "id": "f35ace34",
   "metadata": {},
   "outputs": [],
   "source": [
    "# 1. try-except만 쓰는 방법\n",
    "\n",
    "try: \n",
    "    ...\n",
    "except:             #오류의 종류에 상관없이 오류가 발생하면 except 블록을 수행\n",
    "    ..."
   ]
  },
  {
   "cell_type": "code",
   "execution_count": null,
   "id": "b3488b5f",
   "metadata": {},
   "outputs": [],
   "source": [
    "# 2. 발생 오류만 포함한 except 문\n",
    "\n",
    "try:\n",
    "    ...\n",
    "except 발생오류:    #except 문에 미리 정해 놓은 오류가 발생하면 except 블록을 수행\n",
    "    ..."
   ]
  },
  {
   "cell_type": "code",
   "execution_count": null,
   "id": "a8b86d7c",
   "metadata": {},
   "outputs": [],
   "source": [
    "# 3. 발생 오류와 오류 변수까지 포함한 except 문   =   가장 많이 쓰임\n",
    "\n",
    "try:\n",
    "    ...\n",
    "except 발생오류 as 오류변수:       # 오류의 내용까지 변수로 받음\n",
    "    ..."
   ]
  },
  {
   "cell_type": "code",
   "execution_count": 1,
   "id": "5c07176e",
   "metadata": {},
   "outputs": [
    {
     "name": "stdout",
     "output_type": "stream",
     "text": [
      "division by zero\n"
     ]
    }
   ],
   "source": [
    "try:\n",
    "    4 / 0\n",
    "except ZeroDivisionError as e:      # ZeroDivisionError 가 발생했을 경우 e로 에러정보를 리턴\n",
    "    print(e)                        # e를 프린트 = division by zero"
   ]
  },
  {
   "cell_type": "markdown",
   "id": "eefad650",
   "metadata": {},
   "source": [
    "에러가 나면 프리징걸리기때문에 일단 프로그램이 멈추지 않고 동작하도록 에러를 캐치\n",
    "해당 에러가 나면 토스트나 팝업을 띄우거나 해서 다시 하도록 만드는 용도"
   ]
  },
  {
   "cell_type": "markdown",
   "id": "62b645aa",
   "metadata": {},
   "source": [
    "### 여러 개의 오류 처리하기  _ 여기부터 좀 다시보기"
   ]
  },
  {
   "cell_type": "code",
   "execution_count": 2,
   "id": "46f40492",
   "metadata": {},
   "outputs": [
    {
     "name": "stdout",
     "output_type": "stream",
     "text": [
      "인덱싱 할 수 없습니다.\n"
     ]
    }
   ],
   "source": [
    "## 거의 모든 에러에 대해 자세하게 구분을 해줘야 어디서 나는 에러인지 확인 가능하므로 자세히 적음\n",
    "\n",
    "try:\n",
    "    a = [1,2]\n",
    "    print(a[3])\n",
    "    4/0\n",
    "except ZeroDivisionError:\n",
    "    print(\"0으로 나눌 수 없습니다.\")\n",
    "except IndexError:\n",
    "    print(\"인덱싱 할 수 없습니다.\")"
   ]
  },
  {
   "cell_type": "markdown",
   "id": "78025b5f",
   "metadata": {},
   "source": [
    "### try-else 문"
   ]
  },
  {
   "cell_type": "code",
   "execution_count": 3,
   "id": "c83e2a9d",
   "metadata": {},
   "outputs": [
    {
     "name": "stdout",
     "output_type": "stream",
     "text": [
      "나이를 입력하세요: 20\n",
      "환영합니다.\n"
     ]
    }
   ],
   "source": [
    "try:\n",
    "    age=int(input('나이를 입력하세요: '))\n",
    "except:\n",
    "    print('입력이 정확하지 않습니다.')\n",
    "else:\n",
    "    if age <= 18:\n",
    "        print('미성년자는 출입금지입니다.')\n",
    "    else:\n",
    "        print('환영합니다.')"
   ]
  },
  {
   "cell_type": "markdown",
   "id": "49f83965",
   "metadata": {},
   "source": [
    "### 오류 회피하기"
   ]
  },
  {
   "cell_type": "code",
   "execution_count": 4,
   "id": "126d8154",
   "metadata": {},
   "outputs": [],
   "source": [
    "# 특정 오류가 발생할 경우 그냥 통과시키는게 나을때가 있음\n",
    "\n",
    "try:\n",
    "    f = open(\"나없는파일\", 'r')\n",
    "except FileNotFoundError:            #FileNotFoundError가 발생할 경우, pass를 사용하여 오류를 그냥 회피하도록 작성\n",
    "    pass"
   ]
  },
  {
   "cell_type": "markdown",
   "id": "cdd49813",
   "metadata": {},
   "source": [
    "### 오류 일부러 발생시키기, 예외만들기 _ 넘어감"
   ]
  },
  {
   "cell_type": "code",
   "execution_count": null,
   "id": "41ee14b1",
   "metadata": {},
   "outputs": [],
   "source": []
  }
 ],
 "metadata": {
  "kernelspec": {
   "display_name": "Python 3 (ipykernel)",
   "language": "python",
   "name": "python3"
  },
  "language_info": {
   "codemirror_mode": {
    "name": "ipython",
    "version": 3
   },
   "file_extension": ".py",
   "mimetype": "text/x-python",
   "name": "python",
   "nbconvert_exporter": "python",
   "pygments_lexer": "ipython3",
   "version": "3.11.5"
  }
 },
 "nbformat": 4,
 "nbformat_minor": 5
}
