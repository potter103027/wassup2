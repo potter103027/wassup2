{
 "cells": [
  {
   "cell_type": "markdown",
   "id": "ee981eed",
   "metadata": {},
   "source": [
    "# 001 ~ 010"
   ]
  },
  {
   "cell_type": "markdown",
   "id": "a54e9e13",
   "metadata": {},
   "source": [
    "### 001 print 기초"
   ]
  },
  {
   "cell_type": "code",
   "execution_count": 2,
   "id": "8602994b",
   "metadata": {},
   "outputs": [
    {
     "name": "stdout",
     "output_type": "stream",
     "text": [
      "Hello World\n"
     ]
    }
   ],
   "source": [
    "# 화면에 Hello World 문자열을 출력하세요.\n",
    "\n",
    "print ('Hello World')"
   ]
  },
  {
   "cell_type": "markdown",
   "id": "ad345e72",
   "metadata": {},
   "source": [
    "### 002 print 기초"
   ]
  },
  {
   "cell_type": "code",
   "execution_count": 3,
   "id": "9ce2543c",
   "metadata": {},
   "outputs": [
    {
     "name": "stdout",
     "output_type": "stream",
     "text": [
      "Mary's cosmetics\n"
     ]
    }
   ],
   "source": [
    "# 화면에 Mary's cosmetics을 출력하세요. \n",
    "print(\"Mary's cosmetics\")"
   ]
  },
  {
   "cell_type": "markdown",
   "id": "8a480963",
   "metadata": {},
   "source": [
    "### 003 print 기초"
   ]
  },
  {
   "cell_type": "code",
   "execution_count": 6,
   "id": "79ba400d",
   "metadata": {},
   "outputs": [
    {
     "name": "stdout",
     "output_type": "stream",
     "text": [
      "신씨가 소리질렀다. \"도둑이야\"\n"
     ]
    }
   ],
   "source": [
    "#화면에 아래 문장을 출력하세요. \n",
    "print('신씨가 소리질렀다. \"도둑이야\"')"
   ]
  },
  {
   "cell_type": "markdown",
   "id": "f6332127",
   "metadata": {},
   "source": [
    "### 004 print 기초"
   ]
  },
  {
   "cell_type": "code",
   "execution_count": 7,
   "id": "6c6fdac5",
   "metadata": {},
   "outputs": [
    {
     "name": "stdout",
     "output_type": "stream",
     "text": [
      "C:\\Windows\n"
     ]
    }
   ],
   "source": [
    "# 화면에 C:\\Windows를 출력하세요.\n",
    "print(\"C:\\Windows\")"
   ]
  },
  {
   "cell_type": "markdown",
   "id": "dac911df",
   "metadata": {},
   "source": [
    "### 005 print 탭과 줄바꿈"
   ]
  },
  {
   "cell_type": "code",
   "execution_count": 10,
   "id": "2ce4797f",
   "metadata": {},
   "outputs": [
    {
     "name": "stdout",
     "output_type": "stream",
     "text": [
      "안녕하세요.\n",
      "만나서\t\t반갑습니다.\n"
     ]
    }
   ],
   "source": [
    "#다음 코드를 실행해보고 \\t와 \\n의 역할을 설명해보세요.\n",
    "print(\"안녕하세요.\\n만나서\\t\\t반갑습니다.\")"
   ]
  },
  {
   "cell_type": "code",
   "execution_count": 11,
   "id": "e97eec67",
   "metadata": {},
   "outputs": [],
   "source": [
    "# \\t 는 tab, \\n은 줄바꿈"
   ]
  },
  {
   "cell_type": "markdown",
   "id": "644d2261",
   "metadata": {},
   "source": [
    "### 006 print 여러 데이터 출력"
   ]
  },
  {
   "cell_type": "code",
   "execution_count": 12,
   "id": "45886334",
   "metadata": {},
   "outputs": [
    {
     "name": "stdout",
     "output_type": "stream",
     "text": [
      "오늘은 일요일\n"
     ]
    }
   ],
   "source": [
    "#print 함수에 두 개의 단어를 입력한 예제입니다. 아래 코드의 출력 결과를 예상해봅시다.\n",
    "\n",
    "print('오늘은', '일요일')"
   ]
  },
  {
   "cell_type": "code",
   "execution_count": null,
   "id": "de7e490e",
   "metadata": {},
   "outputs": [],
   "source": [
    "# 쉼표로 구분하는 경우 2 문자열 값을 모두 출력하고 각 값의 사이에 공백을 넣는다."
   ]
  },
  {
   "cell_type": "markdown",
   "id": "ba404962",
   "metadata": {},
   "source": [
    "### 007 print 기초"
   ]
  },
  {
   "cell_type": "code",
   "execution_count": 20,
   "id": "80523174",
   "metadata": {},
   "outputs": [
    {
     "name": "stdout",
     "output_type": "stream",
     "text": [
      "naver/kakao/sk/samsung\n"
     ]
    }
   ],
   "source": [
    "# print() 함수를 사용하여 다음과 같이 출력하세요.\n",
    "\n",
    "print(\"naver\", \"kakao\", \"sk\", \"samsung\", sep='/')"
   ]
  },
  {
   "cell_type": "code",
   "execution_count": null,
   "id": "6b73b935",
   "metadata": {},
   "outputs": [],
   "source": [
    "# 쉼표로 문자열 구분하고 sep=\"\" 를 추가하면 각 문자열 사이에 해당 기호나 문자 삽입"
   ]
  },
  {
   "cell_type": "markdown",
   "id": "2cd05546",
   "metadata": {},
   "source": [
    "### 008 print 기초"
   ]
  },
  {
   "cell_type": "code",
   "execution_count": 21,
   "id": "73285096",
   "metadata": {},
   "outputs": [
    {
     "name": "stdout",
     "output_type": "stream",
     "text": [
      "naver;kakao;sk;samsung\n"
     ]
    }
   ],
   "source": [
    "# print() 함수를 사용하여 다음과 같이 출력하세요.\n",
    "\n",
    "print(\"naver\", \"kakao\", \"sk\", \"samsung\", sep=';')"
   ]
  },
  {
   "cell_type": "code",
   "execution_count": 23,
   "id": "0df66eb7",
   "metadata": {
    "scrolled": true
   },
   "outputs": [
    {
     "name": "stdout",
     "output_type": "stream",
     "text": [
      "firstsecond\n"
     ]
    }
   ],
   "source": [
    "print(\"first\", end=\"\"); print(\"second\")"
   ]
  },
  {
   "cell_type": "raw",
   "id": "f8604926",
   "metadata": {},
   "source": []
  },
  {
   "cell_type": "markdown",
   "id": "7e8820fb",
   "metadata": {},
   "source": [
    "### 009 print 줄바꿈"
   ]
  },
  {
   "cell_type": "code",
   "execution_count": 36,
   "id": "ce045527",
   "metadata": {
    "scrolled": true
   },
   "outputs": [
    {
     "name": "stdout",
     "output_type": "stream",
     "text": [
      "firstsecond\n"
     ]
    }
   ],
   "source": [
    "#다음 코드를 수정하여 줄바꿈이 없이 출력하세요. (힌트: end='') print 함수는 두 번 사용합니다. 세미콜론 (;)은 한줄에 여러 개의 명령을 작성하기 위해 사용합니다.\n",
    "print(\"first\", end=\"\"); print(\"second\")"
   ]
  },
  {
   "cell_type": "code",
   "execution_count": 29,
   "id": "a8aa7bda",
   "metadata": {},
   "outputs": [],
   "source": [
    "# print 함수 내에 사용하는 end=\"\" 마지막 값 뒤에 문자열이 추가"
   ]
  },
  {
   "cell_type": "markdown",
   "id": "1c8a1745",
   "metadata": {},
   "source": [
    "### 010 연산 결과 출력"
   ]
  },
  {
   "cell_type": "code",
   "execution_count": 38,
   "id": "16f42130",
   "metadata": {},
   "outputs": [
    {
     "name": "stdout",
     "output_type": "stream",
     "text": [
      "0.6\n"
     ]
    }
   ],
   "source": [
    "# 5/3의 결과를 화면에 출력하세요.\n",
    "\n",
    "print(3/5)\n"
   ]
  },
  {
   "cell_type": "markdown",
   "id": "a1a4c156",
   "metadata": {},
   "source": [
    "# 011 ~ 020"
   ]
  },
  {
   "cell_type": "markdown",
   "id": "e7a296fe",
   "metadata": {},
   "source": [
    "### 011 변수 사용하기"
   ]
  },
  {
   "cell_type": "code",
   "execution_count": 39,
   "id": "c31a810d",
   "metadata": {},
   "outputs": [
    {
     "name": "stdout",
     "output_type": "stream",
     "text": [
      "500000\n"
     ]
    }
   ],
   "source": [
    "# 삼성전자라는 변수로 50,000원을 바인딩해보세요. 삼성전자 주식 10주를 보유하고 있을 때 총 평가금액을 출력하세요.\n",
    "\n",
    "삼성전자 = 50000\n",
    "총평가금액 = 삼성전자 * 10\n",
    "print(총평가금액)"
   ]
  },
  {
   "cell_type": "markdown",
   "id": "3301b906",
   "metadata": {},
   "source": [
    "### 012 변수 사용하기"
   ]
  },
  {
   "cell_type": "code",
   "execution_count": 41,
   "id": "7811f2d8",
   "metadata": {},
   "outputs": [
    {
     "name": "stdout",
     "output_type": "stream",
     "text": [
      "298000000000000 <class 'int'>\n",
      "50000 <class 'int'>\n",
      "15.79 <class 'float'>\n"
     ]
    }
   ],
   "source": [
    "# 다음 표는 삼성전자의 일부 투자정보입니다. 변수를 사용해서 시가총액, 현재가, PER 등을 바인딩해보세요.\n",
    "\n",
    "시가총액 = 298000000000000\n",
    "현재가 = 50000\n",
    "PER = 15.79\n",
    "\n",
    "print(시가총액, type(시가총액))\n",
    "print(현재가, type(현재가))\n",
    "print(PER, type(PER))"
   ]
  },
  {
   "cell_type": "markdown",
   "id": "0f6db8b2",
   "metadata": {},
   "source": [
    "### 013 문자열 출력"
   ]
  },
  {
   "cell_type": "code",
   "execution_count": null,
   "id": "413131cf",
   "metadata": {},
   "outputs": [],
   "source": [
    "# 변수 s와 t에는 각각 문자열이 바인딩 되어있습니다.\n",
    "s = \"hello\"\n",
    "t = \"python\""
   ]
  },
  {
   "cell_type": "code",
   "execution_count": 47,
   "id": "c5e4fc7c",
   "metadata": {},
   "outputs": [
    {
     "name": "stdout",
     "output_type": "stream",
     "text": [
      "hello! python\n"
     ]
    }
   ],
   "source": [
    "#두 변수를 이용하여 아래와 같이 출력해보세요.\n",
    "\n",
    "s = \"hello\"\n",
    "t = \"python\"\n",
    "\n",
    "print(s+'!',t)"
   ]
  },
  {
   "cell_type": "markdown",
   "id": "e81e3d6d",
   "metadata": {},
   "source": [
    "### 014 파이썬을 이용한 값 계산"
   ]
  },
  {
   "cell_type": "code",
   "execution_count": 48,
   "id": "8fcc44e3",
   "metadata": {},
   "outputs": [
    {
     "data": {
      "text/plain": [
       "8"
      ]
     },
     "execution_count": 48,
     "metadata": {},
     "output_type": "execute_result"
    }
   ],
   "source": [
    "#아래 코드의 실행 결과를 예상해보세요.\n",
    "\n",
    "2+2*3"
   ]
  },
  {
   "cell_type": "markdown",
   "id": "f904c312",
   "metadata": {},
   "source": [
    "### 015 type 함수"
   ]
  },
  {
   "cell_type": "code",
   "execution_count": 49,
   "id": "ae77011a",
   "metadata": {
    "scrolled": true
   },
   "outputs": [
    {
     "name": "stdout",
     "output_type": "stream",
     "text": [
      "<class 'int'>\n"
     ]
    }
   ],
   "source": [
    "# type() 함수는 데이터 타입을 판별합니다. 변수 a에는 128 숫자가 바인딩돼 있어 type 함수가 int (정수)형임을 알려줍니다.\n",
    "a = 128\n",
    "print (type(a))"
   ]
  },
  {
   "cell_type": "code",
   "execution_count": 52,
   "id": "d7d6f6d0",
   "metadata": {},
   "outputs": [
    {
     "name": "stdout",
     "output_type": "stream",
     "text": [
      "<class 'str'>\n"
     ]
    }
   ],
   "source": [
    "#아래 변수에 바인딩된 값의 타입을 판별해보세요.\n",
    "\n",
    "a='132'\n",
    "\n",
    "# '' 안에 숫자를 넣었으므로 문자열 타입\n",
    "print (type(a))"
   ]
  },
  {
   "cell_type": "markdown",
   "id": "d7e51c08",
   "metadata": {},
   "source": [
    "### 016 문자열을 정수로 변환"
   ]
  },
  {
   "cell_type": "code",
   "execution_count": 54,
   "id": "d874f9ef",
   "metadata": {},
   "outputs": [
    {
     "name": "stdout",
     "output_type": "stream",
     "text": [
      "721 <class 'int'>\n"
     ]
    }
   ],
   "source": [
    "# 문자열 '720'를 정수형으로 변환해보세요.\n",
    "\n",
    "num_str = \"720\"\n",
    "num_int = int(num_str)\n",
    "print(num_int+1, type(num_int))"
   ]
  },
  {
   "cell_type": "markdown",
   "id": "bf4f7571",
   "metadata": {},
   "source": [
    "### 017 정수를 문자열 100으로 변환"
   ]
  },
  {
   "cell_type": "code",
   "execution_count": 55,
   "id": "d570e308",
   "metadata": {},
   "outputs": [
    {
     "name": "stdout",
     "output_type": "stream",
     "text": [
      "100 <class 'str'>\n"
     ]
    }
   ],
   "source": [
    "# 정수 100을 문자열 '100'으로 변환해보세요.\n",
    "\n",
    "num = 100\n",
    "num_str = str(num)\n",
    "print(num_str, type(num_str))"
   ]
  },
  {
   "cell_type": "markdown",
   "id": "7072b176",
   "metadata": {},
   "source": [
    "### 018 문자열을 실수로 변환"
   ]
  },
  {
   "cell_type": "code",
   "execution_count": 58,
   "id": "bf294fe9",
   "metadata": {},
   "outputs": [
    {
     "name": "stdout",
     "output_type": "stream",
     "text": [
      "15.79 <class 'float'>\n"
     ]
    }
   ],
   "source": [
    "# 문자열 \"15.79\"를 실수(float) 타입으로 변환해보세요.\n",
    "\n",
    "a = '15.79'\n",
    "a = float(a)\n",
    "print(a, type(a))"
   ]
  },
  {
   "cell_type": "markdown",
   "id": "10bd03de",
   "metadata": {},
   "source": [
    "### 019 문자열을 정수로 변환"
   ]
  },
  {
   "cell_type": "code",
   "execution_count": 61,
   "id": "499080a5",
   "metadata": {},
   "outputs": [
    {
     "name": "stdout",
     "output_type": "stream",
     "text": [
      "2017 2018 2019 2020 <class 'int'>\n"
     ]
    }
   ],
   "source": [
    "# year라는 변수가 문자열 타입의 연도를 바인딩하고 있습니다. 이를 정수로 변환한 후 최근 3년의 연도를 화면에 출력해보세요.\n",
    "\n",
    "year = \"2020\"\n",
    "year = int(year)\n",
    "print(year-3, year-2, year-1, year, type(year))"
   ]
  },
  {
   "cell_type": "markdown",
   "id": "86275a0c",
   "metadata": {},
   "source": [
    "### 020 파이썬 계산\n"
   ]
  },
  {
   "cell_type": "code",
   "execution_count": 62,
   "id": "19c708b5",
   "metadata": {},
   "outputs": [
    {
     "data": {
      "text/plain": [
       "1749024"
      ]
     },
     "execution_count": 62,
     "metadata": {},
     "output_type": "execute_result"
    }
   ],
   "source": [
    "# 에이컨이 월 48,584원에 무이자 36개월의 조건으로 홈쇼핑에서 판매되고 있습니다. 총 금액은 계산한 후 이를 화면에 출력해보세요. (변수사용하기)\n",
    "\n",
    "price = 48584\n",
    "mip = 36\n",
    "\n",
    "price*mip"
   ]
  },
  {
   "cell_type": "code",
   "execution_count": null,
   "id": "c0a73db3",
   "metadata": {},
   "outputs": [],
   "source": []
  },
  {
   "cell_type": "code",
   "execution_count": null,
   "id": "d84ba183",
   "metadata": {},
   "outputs": [],
   "source": []
  },
  {
   "cell_type": "code",
   "execution_count": null,
   "id": "963366d5",
   "metadata": {},
   "outputs": [],
   "source": []
  },
  {
   "cell_type": "code",
   "execution_count": null,
   "id": "db5c9f57",
   "metadata": {},
   "outputs": [],
   "source": []
  },
  {
   "cell_type": "code",
   "execution_count": null,
   "id": "393f5514",
   "metadata": {},
   "outputs": [],
   "source": []
  },
  {
   "cell_type": "code",
   "execution_count": null,
   "id": "e5492192",
   "metadata": {},
   "outputs": [],
   "source": []
  },
  {
   "cell_type": "code",
   "execution_count": null,
   "id": "103db886",
   "metadata": {},
   "outputs": [],
   "source": []
  },
  {
   "cell_type": "code",
   "execution_count": null,
   "id": "8fb9edbf",
   "metadata": {},
   "outputs": [],
   "source": []
  },
  {
   "cell_type": "code",
   "execution_count": null,
   "id": "3770ca80",
   "metadata": {},
   "outputs": [],
   "source": []
  },
  {
   "cell_type": "code",
   "execution_count": null,
   "id": "eab81289",
   "metadata": {},
   "outputs": [],
   "source": []
  },
  {
   "cell_type": "code",
   "execution_count": null,
   "id": "96c3e1ad",
   "metadata": {},
   "outputs": [],
   "source": []
  },
  {
   "cell_type": "code",
   "execution_count": null,
   "id": "704f082b",
   "metadata": {},
   "outputs": [],
   "source": []
  },
  {
   "cell_type": "code",
   "execution_count": null,
   "id": "4c232792",
   "metadata": {},
   "outputs": [],
   "source": []
  },
  {
   "cell_type": "code",
   "execution_count": null,
   "id": "68a4589d",
   "metadata": {},
   "outputs": [],
   "source": []
  },
  {
   "cell_type": "code",
   "execution_count": null,
   "id": "c11bc1b5",
   "metadata": {},
   "outputs": [],
   "source": []
  },
  {
   "cell_type": "code",
   "execution_count": null,
   "id": "0903e177",
   "metadata": {},
   "outputs": [],
   "source": []
  },
  {
   "cell_type": "code",
   "execution_count": null,
   "id": "1a8ed94f",
   "metadata": {},
   "outputs": [],
   "source": []
  },
  {
   "cell_type": "code",
   "execution_count": null,
   "id": "06df30c2",
   "metadata": {},
   "outputs": [],
   "source": []
  },
  {
   "cell_type": "code",
   "execution_count": null,
   "id": "5501f4d3",
   "metadata": {},
   "outputs": [],
   "source": []
  },
  {
   "cell_type": "code",
   "execution_count": null,
   "id": "d7d56542",
   "metadata": {},
   "outputs": [],
   "source": []
  },
  {
   "cell_type": "code",
   "execution_count": null,
   "id": "5f3e17f8",
   "metadata": {},
   "outputs": [],
   "source": []
  },
  {
   "cell_type": "code",
   "execution_count": null,
   "id": "e24ae20f",
   "metadata": {},
   "outputs": [],
   "source": []
  },
  {
   "cell_type": "code",
   "execution_count": null,
   "id": "36824b10",
   "metadata": {},
   "outputs": [],
   "source": []
  },
  {
   "cell_type": "code",
   "execution_count": null,
   "id": "23a02217",
   "metadata": {},
   "outputs": [],
   "source": []
  },
  {
   "cell_type": "code",
   "execution_count": null,
   "id": "2256c2ce",
   "metadata": {},
   "outputs": [],
   "source": []
  },
  {
   "cell_type": "code",
   "execution_count": null,
   "id": "9b29e971",
   "metadata": {},
   "outputs": [],
   "source": []
  },
  {
   "cell_type": "code",
   "execution_count": null,
   "id": "2db64abf",
   "metadata": {},
   "outputs": [],
   "source": []
  },
  {
   "cell_type": "code",
   "execution_count": null,
   "id": "22da6459",
   "metadata": {},
   "outputs": [],
   "source": []
  },
  {
   "cell_type": "code",
   "execution_count": null,
   "id": "43597c8a",
   "metadata": {},
   "outputs": [],
   "source": []
  },
  {
   "cell_type": "code",
   "execution_count": null,
   "id": "2ba8d49f",
   "metadata": {},
   "outputs": [],
   "source": []
  },
  {
   "cell_type": "code",
   "execution_count": null,
   "id": "1101beb3",
   "metadata": {},
   "outputs": [],
   "source": []
  },
  {
   "cell_type": "code",
   "execution_count": null,
   "id": "623db9a0",
   "metadata": {},
   "outputs": [],
   "source": []
  },
  {
   "cell_type": "code",
   "execution_count": null,
   "id": "d85c9514",
   "metadata": {},
   "outputs": [],
   "source": []
  },
  {
   "cell_type": "code",
   "execution_count": null,
   "id": "95a766ac",
   "metadata": {},
   "outputs": [],
   "source": []
  },
  {
   "cell_type": "code",
   "execution_count": null,
   "id": "78d68a8d",
   "metadata": {},
   "outputs": [],
   "source": []
  },
  {
   "cell_type": "code",
   "execution_count": null,
   "id": "b1703ac9",
   "metadata": {},
   "outputs": [],
   "source": []
  },
  {
   "cell_type": "code",
   "execution_count": null,
   "id": "cc47b5e3",
   "metadata": {},
   "outputs": [],
   "source": []
  },
  {
   "cell_type": "code",
   "execution_count": null,
   "id": "0883529d",
   "metadata": {},
   "outputs": [],
   "source": []
  },
  {
   "cell_type": "code",
   "execution_count": null,
   "id": "a12c4c79",
   "metadata": {},
   "outputs": [],
   "source": []
  }
 ],
 "metadata": {
  "kernelspec": {
   "display_name": "Python 3 (ipykernel)",
   "language": "python",
   "name": "python3"
  },
  "language_info": {
   "codemirror_mode": {
    "name": "ipython",
    "version": 3
   },
   "file_extension": ".py",
   "mimetype": "text/x-python",
   "name": "python",
   "nbconvert_exporter": "python",
   "pygments_lexer": "ipython3",
   "version": "3.11.5"
  }
 },
 "nbformat": 4,
 "nbformat_minor": 5
}
