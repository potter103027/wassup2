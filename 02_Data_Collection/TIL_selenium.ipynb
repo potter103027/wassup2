{
 "cells": [
  {
   "cell_type": "markdown",
   "id": "7ea4bcd7",
   "metadata": {},
   "source": [
    "## 대한민국 여행사이트에서 페이지를 순환하는 스크래핑 프로그램 만들기"
   ]
  },
  {
   "cell_type": "code",
   "execution_count": 41,
   "id": "d7a75758",
   "metadata": {},
   "outputs": [],
   "source": [
    "from selenium import webdriver\n",
    "from selenium.webdriver.common.by import By\n",
    "from selenium.webdriver.chrome.options import Options\n",
    "import math, time\n",
    "\n",
    "options = Options()\n",
    "options.add_argument('--window-size=974,1047')\n",
    "options.add_argument('--window-position=953,0')\n",
    "options.add_experimental_option(\"detach\", True)"
   ]
  },
  {
   "cell_type": "code",
   "execution_count": 42,
   "id": "35e71d02",
   "metadata": {},
   "outputs": [
    {
     "name": "stdout",
     "output_type": "stream",
     "text": [
      "검색어를 입력하세요.제주\n"
     ]
    }
   ],
   "source": [
    "search = input('검색어를 입력하세요.')"
   ]
  },
  {
   "cell_type": "code",
   "execution_count": 43,
   "id": "1f7b91ce",
   "metadata": {},
   "outputs": [
    {
     "name": "stdout",
     "output_type": "stream",
     "text": [
      "크롤링 할 r건수를 입력하세요. : 100\n"
     ]
    },
    {
     "data": {
      "text/plain": [
       "100"
      ]
     },
     "execution_count": 43,
     "metadata": {},
     "output_type": "execute_result"
    }
   ],
   "source": [
    "cnt = int(input('크롤링 할 r건수를 입력하세요. : '))\n",
    "cnt"
   ]
  },
  {
   "cell_type": "code",
   "execution_count": 45,
   "id": "6af16c63",
   "metadata": {},
   "outputs": [],
   "source": [
    "URL = 'https://korean.visitkorea.or.kr/search/search_list.do?keyword='+search\n",
    "\n",
    "driver = webdriver.Chrome(options=options)\n",
    "driver.get(URL)\n",
    "time.sleep(3)"
   ]
  },
  {
   "cell_type": "code",
   "execution_count": 46,
   "id": "4db9741e",
   "metadata": {},
   "outputs": [],
   "source": [
    "# 여행기사 더보기 클릭\n",
    "# driver.find_element(By.CSS_SELECTOR, \".more_view > a\").click()\n",
    "driver.find_element(By.CSS_SELECTOR, \"#s_recommend > .more_view > a\").click()"
   ]
  },
  {
   "cell_type": "code",
   "execution_count": 47,
   "id": "0c8b1228",
   "metadata": {},
   "outputs": [
    {
     "name": "stdout",
     "output_type": "stream",
     "text": [
      "10\n"
     ]
    }
   ],
   "source": [
    "page_cnt = math.ceil(cnt / 10) # 크롤링 할 전체 페이지 수 (올림)\n",
    "print(page_cnt)"
   ]
  },
  {
   "cell_type": "code",
   "execution_count": null,
   "id": "e96e7974",
   "metadata": {},
   "outputs": [],
   "source": []
  },
  {
   "cell_type": "markdown",
   "id": "9cfbf01e",
   "metadata": {},
   "source": [
    "### 페이지 버튼 클릭 (Full XPATH로 페이지 2번 버튼 값 불러옴)\n",
    "driver.find_element(By.XPATH, '/html/body/div[3]/div/div[1]/div[14]/a[1]').click()"
   ]
  },
  {
   "cell_type": "code",
   "execution_count": 66,
   "id": "a440a7f4",
   "metadata": {},
   "outputs": [
    {
     "name": "stdout",
     "output_type": "stream",
     "text": [
      "========= 1 페이지 작업 =========\n",
      "1 제주는 지금 플리마켓 전성시대! 벨롱장, 소랑장, 아라올레 지꺼진장\n",
      "2 봄을 부르는 노란 복수초 꽃길, 제주 한라생태숲\n",
      "3 야생화 천국을 가다, 제주 방림원\n",
      "4 '신비의 섬' 우도의 신상 여행지! 자연•문화•미식의 완전체, 훈데르트바서파크\n",
      "5 제주의 숨겨진 구석구석을 살펴보자, 제주도 박물관 여행\n",
      "6 제주의 바다와 바람을 내 품에, 제주 스쿠터 드라이브\n",
      "7 치유의 숲으로 초대합니다, 한라산 둘레길\n",
      "8 제주 바다 속에 숨겨진 비경, 행원리 앞 바다 천연 풀장\n",
      "9 삶의 휴식을 원하는 내 몸과 마음의 오아시스, 비젠빌리지(Wiesen Village)\n",
      "10 제주의 숨은 별미, 토종닭 요리를 맛보다! 교래마을 토종닭 유통특구\n",
      "/html/body/div[3]/div/div[1]/div[14]/a[2]\n",
      "========= 2 페이지 작업 =========\n",
      "11 제주도가 품은 신비의 화산 숲, 환상숲곶자왈공원\n",
      "12 사계절 자연의 아름다움을 간직한 제주시 댕댕이 추천코스\n",
      "13 [팜스테이션] 제주공항과 아름다운 해안이 인접한 워케이션 공간\n",
      "14 [질그랭이 거점 센터] 조용한 제주 해안마을에서 즐기는 워케이션\n",
      "15 비움과 채움의 조화로 완성한 웰니스 라이프, 제주901\n",
      "16 상큼한 귤밭이 내어준 나만의 치유공간, 제원하늘농원\n",
      "17 설렘과 여유가 가득한 제주 여행\n",
      "18 [디어먼데이 제주] 월요병이 없는 세상을 꿈꾸는 이들의 제주 워케이션\n",
      "19 제주의 아크로폴리스를 아시나요? - 제주 원도심 (제주목관아 중심)\n",
      "20 “바다가 우리에겐 부엌이지.” - 해녀의 부엌_북촌점\n",
      "/html/body/div[3]/div/div[1]/div[14]/a[3]\n",
      "========= 3 페이지 작업 =========\n",
      "21 겨울에 만나는 초록빛 곶자왈, 제주 청수마을\n",
      "22 [코사이어티 빌리지] 녹음이 우거진 제주 동쪽 영감의 공간\n",
      "23 나만 알고 싶은 제주 액티비티 ①\n",
      "원시 숲과 벵뒤못과 밀리터리 카,\n",
      "어디에도 없던 리얼 오프로드의 세계\n",
      "24 [국내 트레킹 추천]\n",
      "제주 올레길 걷기 여행,\n",
      "준비부터 코스 선택까지 꿀팁 총정리!\n",
      "25 김창열의 회귀 철학을 건축으로 표현한 미술관, 제주도립김창열미술관\n",
      "26 [고요산책] 사색하는 여행자를 위한, 나만을 위한 고요한 북스테이\n",
      "27 [김녕 어촌체험휴양마을] 제주 김녕바다를 바라보며 업무를 즐기는 워케이션\n",
      "28 다 같이 돌자! 섬 속의 섬, 우도 한 바퀴\n",
      "29 안심관광에 알맞은 최고의 야외 공연과 체험 - 제주 더마(馬)파크\n",
      "30 보석 같은 섬에 예술을 덧입히다,\n",
      "제주 추자도\n",
      "/html/body/div[3]/div/div[1]/div[14]/a[4]\n",
      "========= 4 페이지 작업 =========\n",
      "31 해녀가 되어 바닷속을 누벼볼까!\n",
      "제주 하도어촌체험마을\n",
      "32 [리플로우] 창의적인 사람들을 위한 스테이&코워킹스페이스\n",
      "33 가장 먼저 맞이하는 봄날의 하이라이트 '제주 벚꽃 명소'\n",
      "34 2월 놓치지 말아야 할 제주 관광 10선\n",
      "<2월 제주, 먼저 온 봄기운에 마음 돌랑돌랑>\n",
      "35 제주의 가을은 오름을 타고 온다\n",
      "36 맛있는 음식에 여행의 기쁨은 두 배! <제주 식도락 여행>\n",
      "37 감성 넘치는 인생 사진, 가을 제주 120% 즐기기\n",
      "38 제주의 숨은 명소! '진짜 제주'를 만나는 곳, 애월읍 봉성리\n",
      "39 재미 가득한 컴퓨터 세상, 제주 넥슨컴퓨터박물관\n",
      "40 반려견과 떠나는 여행 <제주 반려견 숙소&카페>\n",
      "/html/body/div[3]/div/div[1]/div[14]/a[5]\n",
      "========= 5 페이지 작업 =========\n",
      "41 '조물조물' 만드는 즐거움 〈DIY 체험 여행지〉\n",
      "42 여름철 입맛 돋우는 제주 물회 열전\n",
      "43 제주도의 숨겨진 재미를 찾는\n",
      "<놀멍, 배우멍 제주마을체험 - 1일형 체험학습>\n",
      "44 가족 단위 추천 느린 여행지 2탄 - 제주시 동부\n",
      "45 빛으로 물든 '로맨틱 제주' <제주 야간 관광지>\n",
      "46 12월 놓치지 말아야 할 제주 관광 10선\n",
      "<올해도 애쓴 당신과 나, 12월의 제주에서 쉬멍쉬멍>\n",
      "47 1년에 열흘만 열리는 비밀의 원시림, 제주 거문오름 '용암길'\n",
      "48 소소한 '제주여행' 꿀팁! 〈겨울편〉\n",
      "49 검은 밤바다, 빛나는 은빛 유혹, 제주 은갈치 대령이오\n",
      "50 마음에 위안을 주는 제주의 맛\n",
      "/html/body/div[3]/div/div[1]/div[14]/a[6]\n",
      "========= 6 페이지 작업 =========\n",
      "51 [국내여행 버킷리스트 1탄] '나도 제주 해녀가 되고 싶어요', 제주 하도어촌체험마을 해녀체험\n",
      "52 넌 장 보러 가니? 우린 여행 간다! '제주 동문재래시장'\n",
      "53 잠들었던 벙커를 깨운 환상의 빛\n",
      "54 [제주] 푸른 밤의 따뜻한 꿈\n",
      "55 1월 놓치지 말아야 할 제주 관광 10선\n",
      "<멋진 새날을 희망하며, 엄블랑한 1월 제주>\n",
      "56 가족 단위 추천 느린 여행지 1탄 - 제주시 서부\n",
      "57 <결혼의 여신>을 따라 떠나는 제주 낭만 여행\n",
      "58 화산이 빚어낸 겹겹이 쌓인 시간 속을 걷다.\n",
      "59 [제주] 이동하기 좋은 위치의 숙소를 찾는다면, 제주R호텔\n",
      "60 우유에서 치즈까지, 홈메이드 치즈 만들기 제주치즈체험하우스\n",
      "========= 7 페이지 작업 =========\n",
      "61 제주는 지금 플리마켓 전성시대! 벨롱장, 소랑장, 아라올레 지꺼진장\n",
      "62 봄을 부르는 노란 복수초 꽃길, 제주 한라생태숲\n",
      "63 야생화 천국을 가다, 제주 방림원\n",
      "64 '신비의 섬' 우도의 신상 여행지! 자연•문화•미식의 완전체, 훈데르트바서파크\n",
      "65 제주의 숨겨진 구석구석을 살펴보자, 제주도 박물관 여행\n",
      "66 제주의 바다와 바람을 내 품에, 제주 스쿠터 드라이브\n",
      "67 치유의 숲으로 초대합니다, 한라산 둘레길\n",
      "68 제주 바다 속에 숨겨진 비경, 행원리 앞 바다 천연 풀장\n",
      "69 삶의 휴식을 원하는 내 몸과 마음의 오아시스, 비젠빌리지(Wiesen Village)\n",
      "70 제주의 숨은 별미, 토종닭 요리를 맛보다! 교래마을 토종닭 유통특구\n",
      "========= 8 페이지 작업 =========\n",
      "71 제주는 지금 플리마켓 전성시대! 벨롱장, 소랑장, 아라올레 지꺼진장\n",
      "72 봄을 부르는 노란 복수초 꽃길, 제주 한라생태숲\n",
      "73 야생화 천국을 가다, 제주 방림원\n",
      "74 '신비의 섬' 우도의 신상 여행지! 자연•문화•미식의 완전체, 훈데르트바서파크\n",
      "75 제주의 숨겨진 구석구석을 살펴보자, 제주도 박물관 여행\n",
      "76 제주의 바다와 바람을 내 품에, 제주 스쿠터 드라이브\n",
      "77 치유의 숲으로 초대합니다, 한라산 둘레길\n",
      "78 제주 바다 속에 숨겨진 비경, 행원리 앞 바다 천연 풀장\n",
      "79 삶의 휴식을 원하는 내 몸과 마음의 오아시스, 비젠빌리지(Wiesen Village)\n",
      "80 제주의 숨은 별미, 토종닭 요리를 맛보다! 교래마을 토종닭 유통특구\n",
      "========= 9 페이지 작업 =========\n",
      "81 제주는 지금 플리마켓 전성시대! 벨롱장, 소랑장, 아라올레 지꺼진장\n",
      "82 봄을 부르는 노란 복수초 꽃길, 제주 한라생태숲\n",
      "83 야생화 천국을 가다, 제주 방림원\n",
      "84 '신비의 섬' 우도의 신상 여행지! 자연•문화•미식의 완전체, 훈데르트바서파크\n",
      "85 제주의 숨겨진 구석구석을 살펴보자, 제주도 박물관 여행\n",
      "86 제주의 바다와 바람을 내 품에, 제주 스쿠터 드라이브\n",
      "87 치유의 숲으로 초대합니다, 한라산 둘레길\n",
      "88 제주 바다 속에 숨겨진 비경, 행원리 앞 바다 천연 풀장\n",
      "89 삶의 휴식을 원하는 내 몸과 마음의 오아시스, 비젠빌리지(Wiesen Village)\n",
      "90 제주의 숨은 별미, 토종닭 요리를 맛보다! 교래마을 토종닭 유통특구\n",
      "========= 10 페이지 작업 =========\n",
      "91 제주는 지금 플리마켓 전성시대! 벨롱장, 소랑장, 아라올레 지꺼진장\n",
      "92 봄을 부르는 노란 복수초 꽃길, 제주 한라생태숲\n",
      "93 야생화 천국을 가다, 제주 방림원\n",
      "94 '신비의 섬' 우도의 신상 여행지! 자연•문화•미식의 완전체, 훈데르트바서파크\n",
      "95 제주의 숨겨진 구석구석을 살펴보자, 제주도 박물관 여행\n",
      "96 제주의 바다와 바람을 내 품에, 제주 스쿠터 드라이브\n",
      "97 치유의 숲으로 초대합니다, 한라산 둘레길\n",
      "98 제주 바다 속에 숨겨진 비경, 행원리 앞 바다 천연 풀장\n",
      "99 삶의 휴식을 원하는 내 몸과 마음의 오아시스, 비젠빌리지(Wiesen Village)\n",
      "100 제주의 숨은 별미, 토종닭 요리를 맛보다! 교래마을 토종닭 유통특구\n",
      "========= 작업 완료 =========\n"
     ]
    }
   ],
   "source": [
    "tit_xpath = '//*[@id=\"search_result\"]/ul/li[*]/div[1]/div[1]/a'\n",
    "no = 0\n",
    "\n",
    "for x in range(1, page_cnt+1):\n",
    "    print(f'========= {x} 페이지 작업 =========')\n",
    "    mylist = driver.find_elements(By.XPATH, tit_xpath)\n",
    "    \n",
    "    \n",
    "    for item in mylist:\n",
    "        no += 1\n",
    "        \n",
    "        if no > cnt:\n",
    "            break\n",
    "        print(no, item.text)\n",
    "\n",
    "    if no <= cnt:\n",
    "        a = f'/html/body/div[3]/div/div[1]/div[14]/a[{x+1}]' \n",
    "            \n",
    "        if x <= 5:\n",
    "            driver.find_element(By.XPATH, a).click()\n",
    "            print(a)\n",
    "        elif x > 5 :\n",
    "            driver.find_element(By.XPATH, '/html/body/div[3]/div/div[1]/div[14]/a[7]').click() \n",
    "        \n",
    "        time.sleep(2)\n",
    "    \n",
    "print('========= 작업 완료 =========')\n",
    "# driver.close()"
   ]
  },
  {
   "cell_type": "code",
   "execution_count": 63,
   "id": "df67aec9",
   "metadata": {},
   "outputs": [
    {
     "name": "stdout",
     "output_type": "stream",
     "text": [
      "/html/body/div[3]/div/div[1]/div[14]/a[11] <class 'str'> 42\n"
     ]
    }
   ],
   "source": [
    "print(a, type(a), len(a))"
   ]
  }
 ],
 "metadata": {
  "kernelspec": {
   "display_name": "Python 3 (ipykernel)",
   "language": "python",
   "name": "python3"
  },
  "language_info": {
   "codemirror_mode": {
    "name": "ipython",
    "version": 3
   },
   "file_extension": ".py",
   "mimetype": "text/x-python",
   "name": "python",
   "nbconvert_exporter": "python",
   "pygments_lexer": "ipython3",
   "version": "3.11.5"
  }
 },
 "nbformat": 4,
 "nbformat_minor": 5
}
